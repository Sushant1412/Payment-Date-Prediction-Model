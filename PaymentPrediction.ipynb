{
  "cells": [
    {
      "cell_type": "markdown",
      "metadata": {
        "id": "5rjvztkDlkT5"
      },
      "source": [
        "# Importing modules and dataset"
      ]
    },
    {
      "cell_type": "code",
      "execution_count": null,
      "metadata": {
        "id": "uPyU-T5blkT9"
      },
      "outputs": [],
      "source": [
        "# importing all the necessary libraries\n",
        "import pandas as pd\n",
        "import numpy as np\n",
        "import matplotlib.pyplot as plt\n",
        "import seaborn as sns\n",
        "\n",
        "import xgboost as xgb\n",
        "import sklearn.metrics as sm\n",
        "from sklearn.ensemble import RandomForestRegressor\n",
        "from sklearn.tree import DecisionTreeRegressor\n",
        "from sklearn.linear_model import LinearRegression\n",
        "from sklearn.svm import SVR\n",
        "from sklearn.model_selection import RandomizedSearchCV, GridSearchCV\n",
        "\n"
      ]
    },
    {
      "cell_type": "code",
      "source": [
        "pwd"
      ],
      "metadata": {
        "id": "LJ83NX3cpy7b",
        "outputId": "0de51273-8deb-4ba2-caa6-128fded8c93d",
        "colab": {
          "base_uri": "https://localhost:8080/",
          "height": 36
        }
      },
      "execution_count": 6,
      "outputs": [
        {
          "output_type": "execute_result",
          "data": {
            "text/plain": [
              "'/content'"
            ],
            "application/vnd.google.colaboratory.intrinsic+json": {
              "type": "string"
            }
          },
          "metadata": {},
          "execution_count": 6
        }
      ]
    },
    {
      "cell_type": "code",
      "execution_count": 9,
      "metadata": {
        "colab": {
          "base_uri": "https://localhost:8080/",
          "height": 678
        },
        "id": "2dgaoUkvlkT_",
        "outputId": "6847c586-81ff-4777-8d45-18f3f5c30e8d"
      },
      "outputs": [
        {
          "output_type": "execute_result",
          "data": {
            "text/plain": [
              "      business_code cust_number       name_customer           clear_date  \\\n",
              "0              U001  0200315290              KWI in  2019-03-07 00:00:00   \n",
              "1              U001  0200769623  WAL-MAR foundation  2020-01-16 00:00:00   \n",
              "2              U001  0200820380  SMITH'S associates  2019-07-08 00:00:00   \n",
              "3              U001  0200769623        WAL-MAR corp  2019-03-22 00:00:00   \n",
              "4              U001   200230690             DECA in  2019-06-03 00:00:00   \n",
              "...             ...         ...                 ...                  ...   \n",
              "26274          U001  0200754118             ARMY co  2020-01-29 00:00:00   \n",
              "26275          U001  0200783609           PROFIC co  2019-11-26 00:00:00   \n",
              "26276          U001  0200744019           TARG corp  2019-09-03 00:00:00   \n",
              "26277          U001  0200794332        COST systems  2019-08-01 00:00:00   \n",
              "26278          U001  0200769623          WAL-MAR us  2019-03-14 00:00:00   \n",
              "\n",
              "       buisness_year        doc_id posting_date  document_create_date  \\\n",
              "0             2019.0  1.928827e+09   2019-02-20              20190220   \n",
              "1             2020.0  1.930350e+09   2020-01-04              20200103   \n",
              "2             2019.0  1.929517e+09   2019-06-21              20190619   \n",
              "3             2019.0  1.928943e+09   2019-03-12              20190311   \n",
              "4             2019.0  1.929350e+09   2019-05-21              20190521   \n",
              "...              ...           ...          ...                   ...   \n",
              "26274         2020.0  1.930339e+09   2020-01-02              20191231   \n",
              "26275         2019.0  1.930038e+09   2019-10-23              20191021   \n",
              "26276         2019.0  1.929755e+09   2019-08-18              20190817   \n",
              "26277         2019.0  1.929628e+09   2019-07-17              20190717   \n",
              "26278         2019.0  1.928889e+09   2019-03-04              20190303   \n",
              "\n",
              "       document_create_date.1  due_in_date invoice_currency document type  \\\n",
              "0                    20190220   20190307.0              USD            RV   \n",
              "1                    20200104   20200119.0              USD            RV   \n",
              "2                    20190621   20190706.0              USD            RV   \n",
              "3                    20190312   20190327.0              USD            RV   \n",
              "4                    20190521   20190608.0              USD            RV   \n",
              "...                       ...          ...              ...           ...   \n",
              "26274                20200102   20200117.0              USD            RV   \n",
              "26275                20191023   20191124.0              USD            RV   \n",
              "26276                20190818   20190902.0              USD            RV   \n",
              "26277                20190717   20190801.0              USD            RV   \n",
              "26278                20190304   20190319.0              USD            RV   \n",
              "\n",
              "       posting_id  area_business  total_open_amount  baseline_create_date  \\\n",
              "0             1.0            NaN           21227.05            20190220.0   \n",
              "1             1.0            NaN            5669.72            20200104.0   \n",
              "2             1.0            NaN           67968.48            20190621.0   \n",
              "3             1.0            NaN           61395.73            20190312.0   \n",
              "4             1.0            NaN            1067.72            20190516.0   \n",
              "...           ...            ...                ...                   ...   \n",
              "26274         1.0            NaN          110826.17            20200102.0   \n",
              "26275         1.0            NaN           11501.00            20191023.0   \n",
              "26276         1.0            NaN            2333.49            20190818.0   \n",
              "26277         1.0            NaN           25501.01            20190717.0   \n",
              "26278         1.0            NaN                NaN                   NaN   \n",
              "\n",
              "      cust_payment_terms    invoice_id  isOpen  \n",
              "0                   NAA8  1.928827e+09     0.0  \n",
              "1                   NAH4  1.930350e+09     0.0  \n",
              "2                   NAA8  1.929517e+09     0.0  \n",
              "3                   NAH4  1.928943e+09     0.0  \n",
              "4                   NAM4  1.929350e+09     0.0  \n",
              "...                  ...           ...     ...  \n",
              "26274               NAA8  1.930339e+09     0.0  \n",
              "26275               NA32  1.930038e+09     0.0  \n",
              "26276               NAA8  1.929755e+09     0.0  \n",
              "26277               NAAX  1.929628e+09     0.0  \n",
              "26278                NaN           NaN     NaN  \n",
              "\n",
              "[26279 rows x 19 columns]"
            ],
            "text/html": [
              "\n",
              "  <div id=\"df-266843b0-e761-4551-8aa9-06b8d2a8e196\">\n",
              "    <div class=\"colab-df-container\">\n",
              "      <div>\n",
              "<style scoped>\n",
              "    .dataframe tbody tr th:only-of-type {\n",
              "        vertical-align: middle;\n",
              "    }\n",
              "\n",
              "    .dataframe tbody tr th {\n",
              "        vertical-align: top;\n",
              "    }\n",
              "\n",
              "    .dataframe thead th {\n",
              "        text-align: right;\n",
              "    }\n",
              "</style>\n",
              "<table border=\"1\" class=\"dataframe\">\n",
              "  <thead>\n",
              "    <tr style=\"text-align: right;\">\n",
              "      <th></th>\n",
              "      <th>business_code</th>\n",
              "      <th>cust_number</th>\n",
              "      <th>name_customer</th>\n",
              "      <th>clear_date</th>\n",
              "      <th>buisness_year</th>\n",
              "      <th>doc_id</th>\n",
              "      <th>posting_date</th>\n",
              "      <th>document_create_date</th>\n",
              "      <th>document_create_date.1</th>\n",
              "      <th>due_in_date</th>\n",
              "      <th>invoice_currency</th>\n",
              "      <th>document type</th>\n",
              "      <th>posting_id</th>\n",
              "      <th>area_business</th>\n",
              "      <th>total_open_amount</th>\n",
              "      <th>baseline_create_date</th>\n",
              "      <th>cust_payment_terms</th>\n",
              "      <th>invoice_id</th>\n",
              "      <th>isOpen</th>\n",
              "    </tr>\n",
              "  </thead>\n",
              "  <tbody>\n",
              "    <tr>\n",
              "      <th>0</th>\n",
              "      <td>U001</td>\n",
              "      <td>0200315290</td>\n",
              "      <td>KWI in</td>\n",
              "      <td>2019-03-07 00:00:00</td>\n",
              "      <td>2019.0</td>\n",
              "      <td>1.928827e+09</td>\n",
              "      <td>2019-02-20</td>\n",
              "      <td>20190220</td>\n",
              "      <td>20190220</td>\n",
              "      <td>20190307.0</td>\n",
              "      <td>USD</td>\n",
              "      <td>RV</td>\n",
              "      <td>1.0</td>\n",
              "      <td>NaN</td>\n",
              "      <td>21227.05</td>\n",
              "      <td>20190220.0</td>\n",
              "      <td>NAA8</td>\n",
              "      <td>1.928827e+09</td>\n",
              "      <td>0.0</td>\n",
              "    </tr>\n",
              "    <tr>\n",
              "      <th>1</th>\n",
              "      <td>U001</td>\n",
              "      <td>0200769623</td>\n",
              "      <td>WAL-MAR foundation</td>\n",
              "      <td>2020-01-16 00:00:00</td>\n",
              "      <td>2020.0</td>\n",
              "      <td>1.930350e+09</td>\n",
              "      <td>2020-01-04</td>\n",
              "      <td>20200103</td>\n",
              "      <td>20200104</td>\n",
              "      <td>20200119.0</td>\n",
              "      <td>USD</td>\n",
              "      <td>RV</td>\n",
              "      <td>1.0</td>\n",
              "      <td>NaN</td>\n",
              "      <td>5669.72</td>\n",
              "      <td>20200104.0</td>\n",
              "      <td>NAH4</td>\n",
              "      <td>1.930350e+09</td>\n",
              "      <td>0.0</td>\n",
              "    </tr>\n",
              "    <tr>\n",
              "      <th>2</th>\n",
              "      <td>U001</td>\n",
              "      <td>0200820380</td>\n",
              "      <td>SMITH'S associates</td>\n",
              "      <td>2019-07-08 00:00:00</td>\n",
              "      <td>2019.0</td>\n",
              "      <td>1.929517e+09</td>\n",
              "      <td>2019-06-21</td>\n",
              "      <td>20190619</td>\n",
              "      <td>20190621</td>\n",
              "      <td>20190706.0</td>\n",
              "      <td>USD</td>\n",
              "      <td>RV</td>\n",
              "      <td>1.0</td>\n",
              "      <td>NaN</td>\n",
              "      <td>67968.48</td>\n",
              "      <td>20190621.0</td>\n",
              "      <td>NAA8</td>\n",
              "      <td>1.929517e+09</td>\n",
              "      <td>0.0</td>\n",
              "    </tr>\n",
              "    <tr>\n",
              "      <th>3</th>\n",
              "      <td>U001</td>\n",
              "      <td>0200769623</td>\n",
              "      <td>WAL-MAR corp</td>\n",
              "      <td>2019-03-22 00:00:00</td>\n",
              "      <td>2019.0</td>\n",
              "      <td>1.928943e+09</td>\n",
              "      <td>2019-03-12</td>\n",
              "      <td>20190311</td>\n",
              "      <td>20190312</td>\n",
              "      <td>20190327.0</td>\n",
              "      <td>USD</td>\n",
              "      <td>RV</td>\n",
              "      <td>1.0</td>\n",
              "      <td>NaN</td>\n",
              "      <td>61395.73</td>\n",
              "      <td>20190312.0</td>\n",
              "      <td>NAH4</td>\n",
              "      <td>1.928943e+09</td>\n",
              "      <td>0.0</td>\n",
              "    </tr>\n",
              "    <tr>\n",
              "      <th>4</th>\n",
              "      <td>U001</td>\n",
              "      <td>200230690</td>\n",
              "      <td>DECA in</td>\n",
              "      <td>2019-06-03 00:00:00</td>\n",
              "      <td>2019.0</td>\n",
              "      <td>1.929350e+09</td>\n",
              "      <td>2019-05-21</td>\n",
              "      <td>20190521</td>\n",
              "      <td>20190521</td>\n",
              "      <td>20190608.0</td>\n",
              "      <td>USD</td>\n",
              "      <td>RV</td>\n",
              "      <td>1.0</td>\n",
              "      <td>NaN</td>\n",
              "      <td>1067.72</td>\n",
              "      <td>20190516.0</td>\n",
              "      <td>NAM4</td>\n",
              "      <td>1.929350e+09</td>\n",
              "      <td>0.0</td>\n",
              "    </tr>\n",
              "    <tr>\n",
              "      <th>...</th>\n",
              "      <td>...</td>\n",
              "      <td>...</td>\n",
              "      <td>...</td>\n",
              "      <td>...</td>\n",
              "      <td>...</td>\n",
              "      <td>...</td>\n",
              "      <td>...</td>\n",
              "      <td>...</td>\n",
              "      <td>...</td>\n",
              "      <td>...</td>\n",
              "      <td>...</td>\n",
              "      <td>...</td>\n",
              "      <td>...</td>\n",
              "      <td>...</td>\n",
              "      <td>...</td>\n",
              "      <td>...</td>\n",
              "      <td>...</td>\n",
              "      <td>...</td>\n",
              "      <td>...</td>\n",
              "    </tr>\n",
              "    <tr>\n",
              "      <th>26274</th>\n",
              "      <td>U001</td>\n",
              "      <td>0200754118</td>\n",
              "      <td>ARMY co</td>\n",
              "      <td>2020-01-29 00:00:00</td>\n",
              "      <td>2020.0</td>\n",
              "      <td>1.930339e+09</td>\n",
              "      <td>2020-01-02</td>\n",
              "      <td>20191231</td>\n",
              "      <td>20200102</td>\n",
              "      <td>20200117.0</td>\n",
              "      <td>USD</td>\n",
              "      <td>RV</td>\n",
              "      <td>1.0</td>\n",
              "      <td>NaN</td>\n",
              "      <td>110826.17</td>\n",
              "      <td>20200102.0</td>\n",
              "      <td>NAA8</td>\n",
              "      <td>1.930339e+09</td>\n",
              "      <td>0.0</td>\n",
              "    </tr>\n",
              "    <tr>\n",
              "      <th>26275</th>\n",
              "      <td>U001</td>\n",
              "      <td>0200783609</td>\n",
              "      <td>PROFIC co</td>\n",
              "      <td>2019-11-26 00:00:00</td>\n",
              "      <td>2019.0</td>\n",
              "      <td>1.930038e+09</td>\n",
              "      <td>2019-10-23</td>\n",
              "      <td>20191021</td>\n",
              "      <td>20191023</td>\n",
              "      <td>20191124.0</td>\n",
              "      <td>USD</td>\n",
              "      <td>RV</td>\n",
              "      <td>1.0</td>\n",
              "      <td>NaN</td>\n",
              "      <td>11501.00</td>\n",
              "      <td>20191023.0</td>\n",
              "      <td>NA32</td>\n",
              "      <td>1.930038e+09</td>\n",
              "      <td>0.0</td>\n",
              "    </tr>\n",
              "    <tr>\n",
              "      <th>26276</th>\n",
              "      <td>U001</td>\n",
              "      <td>0200744019</td>\n",
              "      <td>TARG corp</td>\n",
              "      <td>2019-09-03 00:00:00</td>\n",
              "      <td>2019.0</td>\n",
              "      <td>1.929755e+09</td>\n",
              "      <td>2019-08-18</td>\n",
              "      <td>20190817</td>\n",
              "      <td>20190818</td>\n",
              "      <td>20190902.0</td>\n",
              "      <td>USD</td>\n",
              "      <td>RV</td>\n",
              "      <td>1.0</td>\n",
              "      <td>NaN</td>\n",
              "      <td>2333.49</td>\n",
              "      <td>20190818.0</td>\n",
              "      <td>NAA8</td>\n",
              "      <td>1.929755e+09</td>\n",
              "      <td>0.0</td>\n",
              "    </tr>\n",
              "    <tr>\n",
              "      <th>26277</th>\n",
              "      <td>U001</td>\n",
              "      <td>0200794332</td>\n",
              "      <td>COST systems</td>\n",
              "      <td>2019-08-01 00:00:00</td>\n",
              "      <td>2019.0</td>\n",
              "      <td>1.929628e+09</td>\n",
              "      <td>2019-07-17</td>\n",
              "      <td>20190717</td>\n",
              "      <td>20190717</td>\n",
              "      <td>20190801.0</td>\n",
              "      <td>USD</td>\n",
              "      <td>RV</td>\n",
              "      <td>1.0</td>\n",
              "      <td>NaN</td>\n",
              "      <td>25501.01</td>\n",
              "      <td>20190717.0</td>\n",
              "      <td>NAAX</td>\n",
              "      <td>1.929628e+09</td>\n",
              "      <td>0.0</td>\n",
              "    </tr>\n",
              "    <tr>\n",
              "      <th>26278</th>\n",
              "      <td>U001</td>\n",
              "      <td>0200769623</td>\n",
              "      <td>WAL-MAR us</td>\n",
              "      <td>2019-03-14 00:00:00</td>\n",
              "      <td>2019.0</td>\n",
              "      <td>1.928889e+09</td>\n",
              "      <td>2019-03-04</td>\n",
              "      <td>20190303</td>\n",
              "      <td>20190304</td>\n",
              "      <td>20190319.0</td>\n",
              "      <td>USD</td>\n",
              "      <td>RV</td>\n",
              "      <td>1.0</td>\n",
              "      <td>NaN</td>\n",
              "      <td>NaN</td>\n",
              "      <td>NaN</td>\n",
              "      <td>NaN</td>\n",
              "      <td>NaN</td>\n",
              "      <td>NaN</td>\n",
              "    </tr>\n",
              "  </tbody>\n",
              "</table>\n",
              "<p>26279 rows × 19 columns</p>\n",
              "</div>\n",
              "      <button class=\"colab-df-convert\" onclick=\"convertToInteractive('df-266843b0-e761-4551-8aa9-06b8d2a8e196')\"\n",
              "              title=\"Convert this dataframe to an interactive table.\"\n",
              "              style=\"display:none;\">\n",
              "        \n",
              "  <svg xmlns=\"http://www.w3.org/2000/svg\" height=\"24px\"viewBox=\"0 0 24 24\"\n",
              "       width=\"24px\">\n",
              "    <path d=\"M0 0h24v24H0V0z\" fill=\"none\"/>\n",
              "    <path d=\"M18.56 5.44l.94 2.06.94-2.06 2.06-.94-2.06-.94-.94-2.06-.94 2.06-2.06.94zm-11 1L8.5 8.5l.94-2.06 2.06-.94-2.06-.94L8.5 2.5l-.94 2.06-2.06.94zm10 10l.94 2.06.94-2.06 2.06-.94-2.06-.94-.94-2.06-.94 2.06-2.06.94z\"/><path d=\"M17.41 7.96l-1.37-1.37c-.4-.4-.92-.59-1.43-.59-.52 0-1.04.2-1.43.59L10.3 9.45l-7.72 7.72c-.78.78-.78 2.05 0 2.83L4 21.41c.39.39.9.59 1.41.59.51 0 1.02-.2 1.41-.59l7.78-7.78 2.81-2.81c.8-.78.8-2.07 0-2.86zM5.41 20L4 18.59l7.72-7.72 1.47 1.35L5.41 20z\"/>\n",
              "  </svg>\n",
              "      </button>\n",
              "      \n",
              "  <style>\n",
              "    .colab-df-container {\n",
              "      display:flex;\n",
              "      flex-wrap:wrap;\n",
              "      gap: 12px;\n",
              "    }\n",
              "\n",
              "    .colab-df-convert {\n",
              "      background-color: #E8F0FE;\n",
              "      border: none;\n",
              "      border-radius: 50%;\n",
              "      cursor: pointer;\n",
              "      display: none;\n",
              "      fill: #1967D2;\n",
              "      height: 32px;\n",
              "      padding: 0 0 0 0;\n",
              "      width: 32px;\n",
              "    }\n",
              "\n",
              "    .colab-df-convert:hover {\n",
              "      background-color: #E2EBFA;\n",
              "      box-shadow: 0px 1px 2px rgba(60, 64, 67, 0.3), 0px 1px 3px 1px rgba(60, 64, 67, 0.15);\n",
              "      fill: #174EA6;\n",
              "    }\n",
              "\n",
              "    [theme=dark] .colab-df-convert {\n",
              "      background-color: #3B4455;\n",
              "      fill: #D2E3FC;\n",
              "    }\n",
              "\n",
              "    [theme=dark] .colab-df-convert:hover {\n",
              "      background-color: #434B5C;\n",
              "      box-shadow: 0px 1px 3px 1px rgba(0, 0, 0, 0.15);\n",
              "      filter: drop-shadow(0px 1px 2px rgba(0, 0, 0, 0.3));\n",
              "      fill: #FFFFFF;\n",
              "    }\n",
              "  </style>\n",
              "\n",
              "      <script>\n",
              "        const buttonEl =\n",
              "          document.querySelector('#df-266843b0-e761-4551-8aa9-06b8d2a8e196 button.colab-df-convert');\n",
              "        buttonEl.style.display =\n",
              "          google.colab.kernel.accessAllowed ? 'block' : 'none';\n",
              "\n",
              "        async function convertToInteractive(key) {\n",
              "          const element = document.querySelector('#df-266843b0-e761-4551-8aa9-06b8d2a8e196');\n",
              "          const dataTable =\n",
              "            await google.colab.kernel.invokeFunction('convertToInteractive',\n",
              "                                                     [key], {});\n",
              "          if (!dataTable) return;\n",
              "\n",
              "          const docLinkHtml = 'Like what you see? Visit the ' +\n",
              "            '<a target=\"_blank\" href=https://colab.research.google.com/notebooks/data_table.ipynb>data table notebook</a>'\n",
              "            + ' to learn more about interactive tables.';\n",
              "          element.innerHTML = '';\n",
              "          dataTable['output_type'] = 'display_data';\n",
              "          await google.colab.output.renderOutput(dataTable, element);\n",
              "          const docLink = document.createElement('div');\n",
              "          docLink.innerHTML = docLinkHtml;\n",
              "          element.appendChild(docLink);\n",
              "        }\n",
              "      </script>\n",
              "    </div>\n",
              "  </div>\n",
              "  "
            ]
          },
          "metadata": {},
          "execution_count": 9
        }
      ],
      "source": [
        "df = pd.read_csv('/content/sample_data/Dataset.csv')\n",
        "df"
      ]
    },
    {
      "cell_type": "code",
      "source": [],
      "metadata": {
        "id": "yOuFdzR8pxGW"
      },
      "execution_count": null,
      "outputs": []
    },
    {
      "cell_type": "markdown",
      "metadata": {
        "id": "_eAbwKaQlkUA"
      },
      "source": [
        "# PRE-PROCESSING"
      ]
    },
    {
      "cell_type": "code",
      "execution_count": 10,
      "metadata": {
        "id": "KOjne6JJlkUA",
        "outputId": "59744ea4-c58d-4a3a-d427-f28c7490255e",
        "colab": {
          "base_uri": "https://localhost:8080/"
        }
      },
      "outputs": [
        {
          "output_type": "stream",
          "name": "stdout",
          "text": [
            "<class 'pandas.core.frame.DataFrame'>\n",
            "RangeIndex: 26279 entries, 0 to 26278\n",
            "Data columns (total 19 columns):\n",
            " #   Column                  Non-Null Count  Dtype  \n",
            "---  ------                  --------------  -----  \n",
            " 0   business_code           26279 non-null  object \n",
            " 1   cust_number             26279 non-null  object \n",
            " 2   name_customer           26279 non-null  object \n",
            " 3   clear_date              26279 non-null  object \n",
            " 4   buisness_year           26279 non-null  float64\n",
            " 5   doc_id                  26279 non-null  float64\n",
            " 6   posting_date            26279 non-null  object \n",
            " 7   document_create_date    26279 non-null  int64  \n",
            " 8   document_create_date.1  26279 non-null  int64  \n",
            " 9   due_in_date             26279 non-null  float64\n",
            " 10  invoice_currency        26279 non-null  object \n",
            " 11  document type           26279 non-null  object \n",
            " 12  posting_id              26279 non-null  float64\n",
            " 13  area_business           0 non-null      float64\n",
            " 14  total_open_amount       26278 non-null  float64\n",
            " 15  baseline_create_date    26278 non-null  float64\n",
            " 16  cust_payment_terms      26278 non-null  object \n",
            " 17  invoice_id              26276 non-null  float64\n",
            " 18  isOpen                  26278 non-null  float64\n",
            "dtypes: float64(9), int64(2), object(8)\n",
            "memory usage: 3.8+ MB\n"
          ]
        }
      ],
      "source": [
        "df.info()"
      ]
    },
    {
      "cell_type": "markdown",
      "metadata": {
        "id": "T0xqNsiXlkUB"
      },
      "source": [
        "We can see that there are NULL values in clear_date --> which we will use to split in test and train later.     \n",
        "area_business is totally NULL. \n",
        "There are 3 NULL values in invoice_id, we'll look into it later."
      ]
    },
    {
      "cell_type": "code",
      "execution_count": 11,
      "metadata": {
        "id": "M3xdNiZDlkUB",
        "outputId": "1b29be9c-b6d2-42e1-e345-c05e0d549773",
        "colab": {
          "base_uri": "https://localhost:8080/"
        }
      },
      "outputs": [
        {
          "output_type": "execute_result",
          "data": {
            "text/plain": [
              "business_code                 0\n",
              "cust_number                   0\n",
              "name_customer                 0\n",
              "clear_date                    0\n",
              "buisness_year                 0\n",
              "doc_id                        0\n",
              "posting_date                  0\n",
              "document_create_date          0\n",
              "document_create_date.1        0\n",
              "due_in_date                   0\n",
              "invoice_currency              0\n",
              "document type                 0\n",
              "posting_id                    0\n",
              "area_business             26279\n",
              "total_open_amount             1\n",
              "baseline_create_date          1\n",
              "cust_payment_terms            1\n",
              "invoice_id                    3\n",
              "isOpen                        1\n",
              "dtype: int64"
            ]
          },
          "metadata": {},
          "execution_count": 11
        }
      ],
      "source": [
        "df.isnull().sum()"
      ]
    },
    {
      "cell_type": "markdown",
      "metadata": {
        "id": "1NKrBCkmlkUC"
      },
      "source": [
        "### Date-Time Conversion"
      ]
    },
    {
      "cell_type": "code",
      "execution_count": 12,
      "metadata": {
        "id": "3vZLXvFslkUC",
        "outputId": "64c6bf1a-c041-405f-ce5f-8f057182953b",
        "colab": {
          "base_uri": "https://localhost:8080/"
        }
      },
      "outputs": [
        {
          "output_type": "execute_result",
          "data": {
            "text/plain": [
              "0   2019-02-20\n",
              "1   2020-01-04\n",
              "2   2019-06-21\n",
              "3   2019-03-12\n",
              "4   2019-05-21\n",
              "Name: document_create_date.1, dtype: datetime64[ns]"
            ]
          },
          "metadata": {},
          "execution_count": 12
        }
      ],
      "source": [
        "df['document_create_date.1']=pd.to_datetime(df['document_create_date.1'],format='%Y%m%d')\n",
        "df['document_create_date.1'].head()"
      ]
    },
    {
      "cell_type": "code",
      "execution_count": 13,
      "metadata": {
        "id": "q0g0ckB3lkUD",
        "outputId": "e786a1b6-e9bb-428b-d943-2de704a2cc49",
        "colab": {
          "base_uri": "https://localhost:8080/"
        }
      },
      "outputs": [
        {
          "output_type": "execute_result",
          "data": {
            "text/plain": [
              "0   2019-03-07\n",
              "1   2020-01-16\n",
              "2   2019-07-08\n",
              "3   2019-03-22\n",
              "4   2019-06-03\n",
              "Name: clear_date, dtype: datetime64[ns]"
            ]
          },
          "metadata": {},
          "execution_count": 13
        }
      ],
      "source": [
        "df['clear_date']=pd.to_datetime(df['clear_date'],format='%Y-%m-%d %H:%M:%S')\n",
        "df['clear_date'].head()"
      ]
    },
    {
      "cell_type": "code",
      "execution_count": 14,
      "metadata": {
        "id": "QmU88C1plkUD",
        "outputId": "90048ad4-812f-4223-c644-19ae149c4263",
        "colab": {
          "base_uri": "https://localhost:8080/"
        }
      },
      "outputs": [
        {
          "output_type": "execute_result",
          "data": {
            "text/plain": [
              "0   2019-02-20\n",
              "1   2020-01-04\n",
              "2   2019-06-21\n",
              "3   2019-03-12\n",
              "4   2019-05-21\n",
              "Name: posting_date, dtype: datetime64[ns]"
            ]
          },
          "metadata": {},
          "execution_count": 14
        }
      ],
      "source": [
        "df['posting_date']=pd.to_datetime(df['posting_date'],format='%Y-%m-%d')\n",
        "df['posting_date'].head()"
      ]
    },
    {
      "cell_type": "code",
      "execution_count": 15,
      "metadata": {
        "id": "XWQFMdcBlkUE",
        "outputId": "c4431ff7-261d-4248-f28c-9bcc59834a7e",
        "colab": {
          "base_uri": "https://localhost:8080/"
        }
      },
      "outputs": [
        {
          "output_type": "execute_result",
          "data": {
            "text/plain": [
              "0   2019-03-07\n",
              "1   2020-01-19\n",
              "2   2019-07-06\n",
              "3   2019-03-27\n",
              "4   2019-06-08\n",
              "Name: due_in_date, dtype: datetime64[ns]"
            ]
          },
          "metadata": {},
          "execution_count": 15
        }
      ],
      "source": [
        "\n",
        "df['due_in_date']=pd.to_datetime(df['due_in_date'],format='%Y%m%d')\n",
        "df['due_in_date'].head()"
      ]
    },
    {
      "cell_type": "code",
      "execution_count": 16,
      "metadata": {
        "id": "NczgMOwslkUE",
        "outputId": "9fb7e9b2-f470-4370-b320-329ea4490882",
        "colab": {
          "base_uri": "https://localhost:8080/"
        }
      },
      "outputs": [
        {
          "output_type": "execute_result",
          "data": {
            "text/plain": [
              "0   2019-02-20\n",
              "1   2020-01-04\n",
              "2   2019-06-21\n",
              "3   2019-03-12\n",
              "4   2019-05-16\n",
              "Name: baseline_create_date, dtype: datetime64[ns]"
            ]
          },
          "metadata": {},
          "execution_count": 16
        }
      ],
      "source": [
        "df['baseline_create_date']=pd.to_datetime(df['baseline_create_date'],format='%Y%m%d')\n",
        "df['baseline_create_date'].head()"
      ]
    },
    {
      "cell_type": "code",
      "execution_count": 17,
      "metadata": {
        "id": "6x7LBUUglkUF",
        "outputId": "cd96692f-0109-4b00-900b-cb8b27f620be",
        "colab": {
          "base_uri": "https://localhost:8080/"
        }
      },
      "outputs": [
        {
          "output_type": "stream",
          "name": "stdout",
          "text": [
            "<class 'pandas.core.frame.DataFrame'>\n",
            "RangeIndex: 26279 entries, 0 to 26278\n",
            "Data columns (total 19 columns):\n",
            " #   Column                  Non-Null Count  Dtype         \n",
            "---  ------                  --------------  -----         \n",
            " 0   business_code           26279 non-null  object        \n",
            " 1   cust_number             26279 non-null  object        \n",
            " 2   name_customer           26279 non-null  object        \n",
            " 3   clear_date              26279 non-null  datetime64[ns]\n",
            " 4   buisness_year           26279 non-null  float64       \n",
            " 5   doc_id                  26279 non-null  float64       \n",
            " 6   posting_date            26279 non-null  datetime64[ns]\n",
            " 7   document_create_date    26279 non-null  int64         \n",
            " 8   document_create_date.1  26279 non-null  datetime64[ns]\n",
            " 9   due_in_date             26279 non-null  datetime64[ns]\n",
            " 10  invoice_currency        26279 non-null  object        \n",
            " 11  document type           26279 non-null  object        \n",
            " 12  posting_id              26279 non-null  float64       \n",
            " 13  area_business           0 non-null      float64       \n",
            " 14  total_open_amount       26278 non-null  float64       \n",
            " 15  baseline_create_date    26278 non-null  datetime64[ns]\n",
            " 16  cust_payment_terms      26278 non-null  object        \n",
            " 17  invoice_id              26276 non-null  float64       \n",
            " 18  isOpen                  26278 non-null  float64       \n",
            "dtypes: datetime64[ns](5), float64(7), int64(1), object(6)\n",
            "memory usage: 3.8+ MB\n"
          ]
        }
      ],
      "source": [
        "# looking at the converted data-types\n",
        "df.info()"
      ]
    },
    {
      "cell_type": "markdown",
      "metadata": {
        "id": "frll5hZIlkUG"
      },
      "source": [
        "### Dropping columns with ALL NULL values."
      ]
    },
    {
      "cell_type": "code",
      "execution_count": 18,
      "metadata": {
        "id": "kFgGkc7ElkUG",
        "outputId": "03982550-2fc6-4bd0-fc4f-9fa514a246d7",
        "colab": {
          "base_uri": "https://localhost:8080/"
        }
      },
      "outputs": [
        {
          "output_type": "execute_result",
          "data": {
            "text/plain": [
              "(26279, 18)"
            ]
          },
          "metadata": {},
          "execution_count": 18
        }
      ],
      "source": [
        "df.dropna(axis=1,how='all',inplace=True)\n",
        "df.shape"
      ]
    },
    {
      "cell_type": "markdown",
      "metadata": {
        "id": "e3roKWsHlkUH"
      },
      "source": [
        "We dropped area_business"
      ]
    },
    {
      "cell_type": "markdown",
      "metadata": {
        "id": "h_GbcbJplkUH"
      },
      "source": [
        "### Dropping null values in invoice id\n",
        "invoice id has only 49997 unique values of 50000. So let's analyse it a bit."
      ]
    },
    {
      "cell_type": "code",
      "execution_count": 19,
      "metadata": {
        "id": "vVcQ29KAlkUH",
        "outputId": "80d31ec0-7fc1-4d68-f035-c2ebfe8bfb43",
        "colab": {
          "base_uri": "https://localhost:8080/"
        }
      },
      "outputs": [
        {
          "output_type": "execute_result",
          "data": {
            "text/plain": [
              "RV    26277\n",
              "X2        2\n",
              "Name: document type, dtype: int64"
            ]
          },
          "metadata": {},
          "execution_count": 19
        }
      ],
      "source": [
        "df[\"document type\"].value_counts()"
      ]
    },
    {
      "cell_type": "markdown",
      "metadata": {
        "id": "EGAEoW9llkUI"
      },
      "source": [
        "We see that where the invoice id is missing the document type is X2 and posting date is different from document create date. Since their are only 3 values and invoice_id needs to be unique we can drop these rows"
      ]
    },
    {
      "cell_type": "code",
      "execution_count": 20,
      "metadata": {
        "id": "3Q9Ft2OjlkUJ",
        "outputId": "b11d7ddd-8959-441c-ebb1-59c47fc1ad99",
        "colab": {
          "base_uri": "https://localhost:8080/",
          "height": 540
        }
      },
      "outputs": [
        {
          "output_type": "execute_result",
          "data": {
            "text/plain": [
              "      business_code cust_number       name_customer clear_date  buisness_year  \\\n",
              "0              U001  0200315290              KWI in 2019-03-07         2019.0   \n",
              "1              U001  0200769623  WAL-MAR foundation 2020-01-16         2020.0   \n",
              "2              U001  0200820380  SMITH'S associates 2019-07-08         2019.0   \n",
              "3              U001  0200769623        WAL-MAR corp 2019-03-22         2019.0   \n",
              "4              U001   200230690             DECA in 2019-06-03         2019.0   \n",
              "...             ...         ...                 ...        ...            ...   \n",
              "26271          U001  0200606231       INTER systems 2019-06-21         2019.0   \n",
              "26272          U001  0200754118             ARMY co 2020-01-29         2020.0   \n",
              "26273          U001  0200783609           PROFIC co 2019-11-26         2019.0   \n",
              "26274          U001  0200744019           TARG corp 2019-09-03         2019.0   \n",
              "26275          U001  0200794332        COST systems 2019-08-01         2019.0   \n",
              "\n",
              "             doc_id posting_date  document_create_date document_create_date.1  \\\n",
              "0      1.928827e+09   2019-02-20              20190220             2019-02-20   \n",
              "1      1.930350e+09   2020-01-04              20200103             2020-01-04   \n",
              "2      1.929517e+09   2019-06-21              20190619             2019-06-21   \n",
              "3      1.928943e+09   2019-03-12              20190311             2019-03-12   \n",
              "4      1.929350e+09   2019-05-21              20190521             2019-05-21   \n",
              "...             ...          ...                   ...                    ...   \n",
              "26271  1.929420e+09   2019-06-06              20190603             2019-06-06   \n",
              "26272  1.930339e+09   2020-01-02              20191231             2020-01-02   \n",
              "26273  1.930038e+09   2019-10-23              20191021             2019-10-23   \n",
              "26274  1.929755e+09   2019-08-18              20190817             2019-08-18   \n",
              "26275  1.929628e+09   2019-07-17              20190717             2019-07-17   \n",
              "\n",
              "      due_in_date invoice_currency document type  posting_id  \\\n",
              "0      2019-03-07              USD            RV         1.0   \n",
              "1      2020-01-19              USD            RV         1.0   \n",
              "2      2019-07-06              USD            RV         1.0   \n",
              "3      2019-03-27              USD            RV         1.0   \n",
              "4      2019-06-08              USD            RV         1.0   \n",
              "...           ...              ...           ...         ...   \n",
              "26271  2019-06-21              USD            RV         1.0   \n",
              "26272  2020-01-17              USD            RV         1.0   \n",
              "26273  2019-11-24              USD            RV         1.0   \n",
              "26274  2019-09-02              USD            RV         1.0   \n",
              "26275  2019-08-01              USD            RV         1.0   \n",
              "\n",
              "       total_open_amount baseline_create_date cust_payment_terms  \\\n",
              "0               21227.05           2019-02-20               NAA8   \n",
              "1                5669.72           2020-01-04               NAH4   \n",
              "2               67968.48           2019-06-21               NAA8   \n",
              "3               61395.73           2019-03-12               NAH4   \n",
              "4                1067.72           2019-05-16               NAM4   \n",
              "...                  ...                  ...                ...   \n",
              "26271            9792.82           2019-06-06               NAA8   \n",
              "26272          110826.17           2020-01-02               NAA8   \n",
              "26273           11501.00           2019-10-23               NA32   \n",
              "26274            2333.49           2019-08-18               NAA8   \n",
              "26275           25501.01           2019-07-17               NAAX   \n",
              "\n",
              "         invoice_id  isOpen  \n",
              "0      1.928827e+09     0.0  \n",
              "1      1.930350e+09     0.0  \n",
              "2      1.929517e+09     0.0  \n",
              "3      1.928943e+09     0.0  \n",
              "4      1.929350e+09     0.0  \n",
              "...             ...     ...  \n",
              "26271  1.929420e+09     0.0  \n",
              "26272  1.930339e+09     0.0  \n",
              "26273  1.930038e+09     0.0  \n",
              "26274  1.929755e+09     0.0  \n",
              "26275  1.929628e+09     0.0  \n",
              "\n",
              "[26276 rows x 18 columns]"
            ],
            "text/html": [
              "\n",
              "  <div id=\"df-42f9434e-d65b-402a-8d1b-98e5273012fe\">\n",
              "    <div class=\"colab-df-container\">\n",
              "      <div>\n",
              "<style scoped>\n",
              "    .dataframe tbody tr th:only-of-type {\n",
              "        vertical-align: middle;\n",
              "    }\n",
              "\n",
              "    .dataframe tbody tr th {\n",
              "        vertical-align: top;\n",
              "    }\n",
              "\n",
              "    .dataframe thead th {\n",
              "        text-align: right;\n",
              "    }\n",
              "</style>\n",
              "<table border=\"1\" class=\"dataframe\">\n",
              "  <thead>\n",
              "    <tr style=\"text-align: right;\">\n",
              "      <th></th>\n",
              "      <th>business_code</th>\n",
              "      <th>cust_number</th>\n",
              "      <th>name_customer</th>\n",
              "      <th>clear_date</th>\n",
              "      <th>buisness_year</th>\n",
              "      <th>doc_id</th>\n",
              "      <th>posting_date</th>\n",
              "      <th>document_create_date</th>\n",
              "      <th>document_create_date.1</th>\n",
              "      <th>due_in_date</th>\n",
              "      <th>invoice_currency</th>\n",
              "      <th>document type</th>\n",
              "      <th>posting_id</th>\n",
              "      <th>total_open_amount</th>\n",
              "      <th>baseline_create_date</th>\n",
              "      <th>cust_payment_terms</th>\n",
              "      <th>invoice_id</th>\n",
              "      <th>isOpen</th>\n",
              "    </tr>\n",
              "  </thead>\n",
              "  <tbody>\n",
              "    <tr>\n",
              "      <th>0</th>\n",
              "      <td>U001</td>\n",
              "      <td>0200315290</td>\n",
              "      <td>KWI in</td>\n",
              "      <td>2019-03-07</td>\n",
              "      <td>2019.0</td>\n",
              "      <td>1.928827e+09</td>\n",
              "      <td>2019-02-20</td>\n",
              "      <td>20190220</td>\n",
              "      <td>2019-02-20</td>\n",
              "      <td>2019-03-07</td>\n",
              "      <td>USD</td>\n",
              "      <td>RV</td>\n",
              "      <td>1.0</td>\n",
              "      <td>21227.05</td>\n",
              "      <td>2019-02-20</td>\n",
              "      <td>NAA8</td>\n",
              "      <td>1.928827e+09</td>\n",
              "      <td>0.0</td>\n",
              "    </tr>\n",
              "    <tr>\n",
              "      <th>1</th>\n",
              "      <td>U001</td>\n",
              "      <td>0200769623</td>\n",
              "      <td>WAL-MAR foundation</td>\n",
              "      <td>2020-01-16</td>\n",
              "      <td>2020.0</td>\n",
              "      <td>1.930350e+09</td>\n",
              "      <td>2020-01-04</td>\n",
              "      <td>20200103</td>\n",
              "      <td>2020-01-04</td>\n",
              "      <td>2020-01-19</td>\n",
              "      <td>USD</td>\n",
              "      <td>RV</td>\n",
              "      <td>1.0</td>\n",
              "      <td>5669.72</td>\n",
              "      <td>2020-01-04</td>\n",
              "      <td>NAH4</td>\n",
              "      <td>1.930350e+09</td>\n",
              "      <td>0.0</td>\n",
              "    </tr>\n",
              "    <tr>\n",
              "      <th>2</th>\n",
              "      <td>U001</td>\n",
              "      <td>0200820380</td>\n",
              "      <td>SMITH'S associates</td>\n",
              "      <td>2019-07-08</td>\n",
              "      <td>2019.0</td>\n",
              "      <td>1.929517e+09</td>\n",
              "      <td>2019-06-21</td>\n",
              "      <td>20190619</td>\n",
              "      <td>2019-06-21</td>\n",
              "      <td>2019-07-06</td>\n",
              "      <td>USD</td>\n",
              "      <td>RV</td>\n",
              "      <td>1.0</td>\n",
              "      <td>67968.48</td>\n",
              "      <td>2019-06-21</td>\n",
              "      <td>NAA8</td>\n",
              "      <td>1.929517e+09</td>\n",
              "      <td>0.0</td>\n",
              "    </tr>\n",
              "    <tr>\n",
              "      <th>3</th>\n",
              "      <td>U001</td>\n",
              "      <td>0200769623</td>\n",
              "      <td>WAL-MAR corp</td>\n",
              "      <td>2019-03-22</td>\n",
              "      <td>2019.0</td>\n",
              "      <td>1.928943e+09</td>\n",
              "      <td>2019-03-12</td>\n",
              "      <td>20190311</td>\n",
              "      <td>2019-03-12</td>\n",
              "      <td>2019-03-27</td>\n",
              "      <td>USD</td>\n",
              "      <td>RV</td>\n",
              "      <td>1.0</td>\n",
              "      <td>61395.73</td>\n",
              "      <td>2019-03-12</td>\n",
              "      <td>NAH4</td>\n",
              "      <td>1.928943e+09</td>\n",
              "      <td>0.0</td>\n",
              "    </tr>\n",
              "    <tr>\n",
              "      <th>4</th>\n",
              "      <td>U001</td>\n",
              "      <td>200230690</td>\n",
              "      <td>DECA in</td>\n",
              "      <td>2019-06-03</td>\n",
              "      <td>2019.0</td>\n",
              "      <td>1.929350e+09</td>\n",
              "      <td>2019-05-21</td>\n",
              "      <td>20190521</td>\n",
              "      <td>2019-05-21</td>\n",
              "      <td>2019-06-08</td>\n",
              "      <td>USD</td>\n",
              "      <td>RV</td>\n",
              "      <td>1.0</td>\n",
              "      <td>1067.72</td>\n",
              "      <td>2019-05-16</td>\n",
              "      <td>NAM4</td>\n",
              "      <td>1.929350e+09</td>\n",
              "      <td>0.0</td>\n",
              "    </tr>\n",
              "    <tr>\n",
              "      <th>...</th>\n",
              "      <td>...</td>\n",
              "      <td>...</td>\n",
              "      <td>...</td>\n",
              "      <td>...</td>\n",
              "      <td>...</td>\n",
              "      <td>...</td>\n",
              "      <td>...</td>\n",
              "      <td>...</td>\n",
              "      <td>...</td>\n",
              "      <td>...</td>\n",
              "      <td>...</td>\n",
              "      <td>...</td>\n",
              "      <td>...</td>\n",
              "      <td>...</td>\n",
              "      <td>...</td>\n",
              "      <td>...</td>\n",
              "      <td>...</td>\n",
              "      <td>...</td>\n",
              "    </tr>\n",
              "    <tr>\n",
              "      <th>26271</th>\n",
              "      <td>U001</td>\n",
              "      <td>0200606231</td>\n",
              "      <td>INTER systems</td>\n",
              "      <td>2019-06-21</td>\n",
              "      <td>2019.0</td>\n",
              "      <td>1.929420e+09</td>\n",
              "      <td>2019-06-06</td>\n",
              "      <td>20190603</td>\n",
              "      <td>2019-06-06</td>\n",
              "      <td>2019-06-21</td>\n",
              "      <td>USD</td>\n",
              "      <td>RV</td>\n",
              "      <td>1.0</td>\n",
              "      <td>9792.82</td>\n",
              "      <td>2019-06-06</td>\n",
              "      <td>NAA8</td>\n",
              "      <td>1.929420e+09</td>\n",
              "      <td>0.0</td>\n",
              "    </tr>\n",
              "    <tr>\n",
              "      <th>26272</th>\n",
              "      <td>U001</td>\n",
              "      <td>0200754118</td>\n",
              "      <td>ARMY co</td>\n",
              "      <td>2020-01-29</td>\n",
              "      <td>2020.0</td>\n",
              "      <td>1.930339e+09</td>\n",
              "      <td>2020-01-02</td>\n",
              "      <td>20191231</td>\n",
              "      <td>2020-01-02</td>\n",
              "      <td>2020-01-17</td>\n",
              "      <td>USD</td>\n",
              "      <td>RV</td>\n",
              "      <td>1.0</td>\n",
              "      <td>110826.17</td>\n",
              "      <td>2020-01-02</td>\n",
              "      <td>NAA8</td>\n",
              "      <td>1.930339e+09</td>\n",
              "      <td>0.0</td>\n",
              "    </tr>\n",
              "    <tr>\n",
              "      <th>26273</th>\n",
              "      <td>U001</td>\n",
              "      <td>0200783609</td>\n",
              "      <td>PROFIC co</td>\n",
              "      <td>2019-11-26</td>\n",
              "      <td>2019.0</td>\n",
              "      <td>1.930038e+09</td>\n",
              "      <td>2019-10-23</td>\n",
              "      <td>20191021</td>\n",
              "      <td>2019-10-23</td>\n",
              "      <td>2019-11-24</td>\n",
              "      <td>USD</td>\n",
              "      <td>RV</td>\n",
              "      <td>1.0</td>\n",
              "      <td>11501.00</td>\n",
              "      <td>2019-10-23</td>\n",
              "      <td>NA32</td>\n",
              "      <td>1.930038e+09</td>\n",
              "      <td>0.0</td>\n",
              "    </tr>\n",
              "    <tr>\n",
              "      <th>26274</th>\n",
              "      <td>U001</td>\n",
              "      <td>0200744019</td>\n",
              "      <td>TARG corp</td>\n",
              "      <td>2019-09-03</td>\n",
              "      <td>2019.0</td>\n",
              "      <td>1.929755e+09</td>\n",
              "      <td>2019-08-18</td>\n",
              "      <td>20190817</td>\n",
              "      <td>2019-08-18</td>\n",
              "      <td>2019-09-02</td>\n",
              "      <td>USD</td>\n",
              "      <td>RV</td>\n",
              "      <td>1.0</td>\n",
              "      <td>2333.49</td>\n",
              "      <td>2019-08-18</td>\n",
              "      <td>NAA8</td>\n",
              "      <td>1.929755e+09</td>\n",
              "      <td>0.0</td>\n",
              "    </tr>\n",
              "    <tr>\n",
              "      <th>26275</th>\n",
              "      <td>U001</td>\n",
              "      <td>0200794332</td>\n",
              "      <td>COST systems</td>\n",
              "      <td>2019-08-01</td>\n",
              "      <td>2019.0</td>\n",
              "      <td>1.929628e+09</td>\n",
              "      <td>2019-07-17</td>\n",
              "      <td>20190717</td>\n",
              "      <td>2019-07-17</td>\n",
              "      <td>2019-08-01</td>\n",
              "      <td>USD</td>\n",
              "      <td>RV</td>\n",
              "      <td>1.0</td>\n",
              "      <td>25501.01</td>\n",
              "      <td>2019-07-17</td>\n",
              "      <td>NAAX</td>\n",
              "      <td>1.929628e+09</td>\n",
              "      <td>0.0</td>\n",
              "    </tr>\n",
              "  </tbody>\n",
              "</table>\n",
              "<p>26276 rows × 18 columns</p>\n",
              "</div>\n",
              "      <button class=\"colab-df-convert\" onclick=\"convertToInteractive('df-42f9434e-d65b-402a-8d1b-98e5273012fe')\"\n",
              "              title=\"Convert this dataframe to an interactive table.\"\n",
              "              style=\"display:none;\">\n",
              "        \n",
              "  <svg xmlns=\"http://www.w3.org/2000/svg\" height=\"24px\"viewBox=\"0 0 24 24\"\n",
              "       width=\"24px\">\n",
              "    <path d=\"M0 0h24v24H0V0z\" fill=\"none\"/>\n",
              "    <path d=\"M18.56 5.44l.94 2.06.94-2.06 2.06-.94-2.06-.94-.94-2.06-.94 2.06-2.06.94zm-11 1L8.5 8.5l.94-2.06 2.06-.94-2.06-.94L8.5 2.5l-.94 2.06-2.06.94zm10 10l.94 2.06.94-2.06 2.06-.94-2.06-.94-.94-2.06-.94 2.06-2.06.94z\"/><path d=\"M17.41 7.96l-1.37-1.37c-.4-.4-.92-.59-1.43-.59-.52 0-1.04.2-1.43.59L10.3 9.45l-7.72 7.72c-.78.78-.78 2.05 0 2.83L4 21.41c.39.39.9.59 1.41.59.51 0 1.02-.2 1.41-.59l7.78-7.78 2.81-2.81c.8-.78.8-2.07 0-2.86zM5.41 20L4 18.59l7.72-7.72 1.47 1.35L5.41 20z\"/>\n",
              "  </svg>\n",
              "      </button>\n",
              "      \n",
              "  <style>\n",
              "    .colab-df-container {\n",
              "      display:flex;\n",
              "      flex-wrap:wrap;\n",
              "      gap: 12px;\n",
              "    }\n",
              "\n",
              "    .colab-df-convert {\n",
              "      background-color: #E8F0FE;\n",
              "      border: none;\n",
              "      border-radius: 50%;\n",
              "      cursor: pointer;\n",
              "      display: none;\n",
              "      fill: #1967D2;\n",
              "      height: 32px;\n",
              "      padding: 0 0 0 0;\n",
              "      width: 32px;\n",
              "    }\n",
              "\n",
              "    .colab-df-convert:hover {\n",
              "      background-color: #E2EBFA;\n",
              "      box-shadow: 0px 1px 2px rgba(60, 64, 67, 0.3), 0px 1px 3px 1px rgba(60, 64, 67, 0.15);\n",
              "      fill: #174EA6;\n",
              "    }\n",
              "\n",
              "    [theme=dark] .colab-df-convert {\n",
              "      background-color: #3B4455;\n",
              "      fill: #D2E3FC;\n",
              "    }\n",
              "\n",
              "    [theme=dark] .colab-df-convert:hover {\n",
              "      background-color: #434B5C;\n",
              "      box-shadow: 0px 1px 3px 1px rgba(0, 0, 0, 0.15);\n",
              "      filter: drop-shadow(0px 1px 2px rgba(0, 0, 0, 0.3));\n",
              "      fill: #FFFFFF;\n",
              "    }\n",
              "  </style>\n",
              "\n",
              "      <script>\n",
              "        const buttonEl =\n",
              "          document.querySelector('#df-42f9434e-d65b-402a-8d1b-98e5273012fe button.colab-df-convert');\n",
              "        buttonEl.style.display =\n",
              "          google.colab.kernel.accessAllowed ? 'block' : 'none';\n",
              "\n",
              "        async function convertToInteractive(key) {\n",
              "          const element = document.querySelector('#df-42f9434e-d65b-402a-8d1b-98e5273012fe');\n",
              "          const dataTable =\n",
              "            await google.colab.kernel.invokeFunction('convertToInteractive',\n",
              "                                                     [key], {});\n",
              "          if (!dataTable) return;\n",
              "\n",
              "          const docLinkHtml = 'Like what you see? Visit the ' +\n",
              "            '<a target=\"_blank\" href=https://colab.research.google.com/notebooks/data_table.ipynb>data table notebook</a>'\n",
              "            + ' to learn more about interactive tables.';\n",
              "          element.innerHTML = '';\n",
              "          dataTable['output_type'] = 'display_data';\n",
              "          await google.colab.output.renderOutput(dataTable, element);\n",
              "          const docLink = document.createElement('div');\n",
              "          docLink.innerHTML = docLinkHtml;\n",
              "          element.appendChild(docLink);\n",
              "        }\n",
              "      </script>\n",
              "    </div>\n",
              "  </div>\n",
              "  "
            ]
          },
          "metadata": {},
          "execution_count": 20
        }
      ],
      "source": [
        "df.dropna(axis=0,subset=['invoice_id'],inplace=True)\n",
        "df.reset_index(drop=True,inplace=True)\n",
        "df.shape\n",
        "df"
      ]
    },
    {
      "cell_type": "markdown",
      "metadata": {
        "id": "PQdDzYtrlkUJ"
      },
      "source": [
        "### Checking for unique values in each column"
      ]
    },
    {
      "cell_type": "code",
      "execution_count": 21,
      "metadata": {
        "id": "l3XBKkb6lkUK",
        "outputId": "1178a31b-1094-4d3e-d662-5e0258f538bc",
        "colab": {
          "base_uri": "https://localhost:8080/"
        }
      },
      "outputs": [
        {
          "output_type": "stream",
          "name": "stdout",
          "text": [
            "business_code - 6\n",
            "cust_number - 1185\n",
            "name_customer - 3274\n",
            "clear_date - 386\n",
            "buisness_year - 2\n",
            "doc_id - 26276\n",
            "posting_date - 422\n",
            "document_create_date - 427\n",
            "document_create_date.1 - 422\n",
            "due_in_date - 480\n",
            "invoice_currency - 2\n",
            "document type - 1\n",
            "posting_id - 1\n",
            "total_open_amount - 24311\n",
            "baseline_create_date - 427\n",
            "cust_payment_terms - 67\n",
            "invoice_id - 26276\n",
            "isOpen - 1\n"
          ]
        }
      ],
      "source": [
        " for cols in df.columns:   \n",
        "    print(f\"{cols} - {df[f'{cols}'].nunique()}\")"
      ]
    },
    {
      "cell_type": "markdown",
      "metadata": {
        "id": "GeLPW2IzlkUK"
      },
      "source": [
        "There is only 1 unique value in document type and posting_id. We can drop these."
      ]
    },
    {
      "cell_type": "code",
      "execution_count": 22,
      "metadata": {
        "id": "4eCmr4aQlkUL",
        "outputId": "73418ad8-3288-4587-9dae-f803f35d8a52",
        "colab": {
          "base_uri": "https://localhost:8080/"
        }
      },
      "outputs": [
        {
          "output_type": "stream",
          "name": "stdout",
          "text": [
            "['document type', 'posting_id', 'isOpen']\n"
          ]
        },
        {
          "output_type": "execute_result",
          "data": {
            "text/plain": [
              "Index(['business_code', 'cust_number', 'name_customer', 'clear_date',\n",
              "       'buisness_year', 'doc_id', 'posting_date', 'document_create_date',\n",
              "       'document_create_date.1', 'due_in_date', 'invoice_currency',\n",
              "       'total_open_amount', 'baseline_create_date', 'cust_payment_terms',\n",
              "       'invoice_id'],\n",
              "      dtype='object')"
            ]
          },
          "metadata": {},
          "execution_count": 22
        }
      ],
      "source": [
        "unique_cols =  [x for x in df.columns if df[x].nunique()==1] \n",
        "print(unique_cols)\n",
        "df.drop(unique_cols,axis=1,inplace=True)\n",
        "df.columns"
      ]
    },
    {
      "cell_type": "markdown",
      "metadata": {
        "id": "eLLqLQ8VlkUL"
      },
      "source": [
        "Now let's check for NULL values again."
      ]
    },
    {
      "cell_type": "code",
      "execution_count": 23,
      "metadata": {
        "id": "P5B-26zDlkUL",
        "outputId": "0224028f-58d2-48b5-a881-ca018a25643e",
        "colab": {
          "base_uri": "https://localhost:8080/"
        }
      },
      "outputs": [
        {
          "output_type": "execute_result",
          "data": {
            "text/plain": [
              "business_code             False\n",
              "cust_number               False\n",
              "name_customer             False\n",
              "clear_date                False\n",
              "buisness_year             False\n",
              "doc_id                    False\n",
              "posting_date              False\n",
              "document_create_date      False\n",
              "document_create_date.1    False\n",
              "due_in_date               False\n",
              "invoice_currency          False\n",
              "total_open_amount         False\n",
              "baseline_create_date      False\n",
              "cust_payment_terms        False\n",
              "invoice_id                False\n",
              "dtype: bool"
            ]
          },
          "metadata": {},
          "execution_count": 23
        }
      ],
      "source": [
        "df.isnull().any()"
      ]
    },
    {
      "cell_type": "markdown",
      "metadata": {
        "id": "1a2bzLcklkUM"
      },
      "source": [
        "No null(except clear-date) values so moving on to removing duplicate columns."
      ]
    },
    {
      "cell_type": "markdown",
      "metadata": {
        "id": "JejLelUwlkUM"
      },
      "source": [
        "### Duplicate column removal"
      ]
    },
    {
      "cell_type": "code",
      "execution_count": 24,
      "metadata": {
        "id": "ca4O-EMtlkUM"
      },
      "outputs": [],
      "source": [
        "# function to find duplicate columns\n",
        "def findDuplicateColumns(df):\n",
        "    duplicatecolumns=set()\n",
        "    for x in range(df.shape[1]):\n",
        "        col1=df.iloc[:,x]\n",
        "        for y in range(x+1,df.shape[1]):\n",
        "            col2=df.iloc[:,y]\n",
        "            if col1.equals(col2):\n",
        "                duplicatecolumns.add(df.columns.values[x])\n",
        "    return list(duplicatecolumns)"
      ]
    },
    {
      "cell_type": "markdown",
      "metadata": {
        "id": "DfeDhUXXlkUN"
      },
      "source": [
        "Using user-defined function as the in-built function was computationally expensive."
      ]
    },
    {
      "cell_type": "code",
      "execution_count": 25,
      "metadata": {
        "id": "QtWBOFczlkUN",
        "outputId": "65396937-2646-4680-acf6-a86470269725",
        "colab": {
          "base_uri": "https://localhost:8080/"
        }
      },
      "outputs": [
        {
          "output_type": "execute_result",
          "data": {
            "text/plain": [
              "['doc_id', 'posting_date']"
            ]
          },
          "metadata": {},
          "execution_count": 25
        }
      ],
      "source": [
        "dr=findDuplicateColumns(df)\n",
        "dr"
      ]
    },
    {
      "cell_type": "code",
      "execution_count": 26,
      "metadata": {
        "id": "mcNmflUxlkUN"
      },
      "outputs": [],
      "source": [
        "df.drop(columns=dr,inplace=True) "
      ]
    },
    {
      "cell_type": "markdown",
      "metadata": {
        "id": "zGtSgiiRlkUO"
      },
      "source": [
        "We dropped posting_date and doc_id.\n",
        "\n",
        "Now, to avoid discrepancy between document_create_date and document_create_date.1 we drop document_create_date and instead use document_create_date.1"
      ]
    },
    {
      "cell_type": "code",
      "execution_count": 27,
      "metadata": {
        "id": "Dai5xWqUlkUO"
      },
      "outputs": [],
      "source": [
        "df.drop(columns=['document_create_date'],inplace=True)"
      ]
    },
    {
      "cell_type": "markdown",
      "metadata": {
        "id": "QES5IUNWlkUO"
      },
      "source": [
        "Also, invoice id is unique for each transaction and don't affect the sales, so we drop it."
      ]
    },
    {
      "cell_type": "code",
      "execution_count": 28,
      "metadata": {
        "id": "TJeiWIyKlkUP",
        "outputId": "c7e1c2d1-1bf1-4081-e04d-053433ce6127",
        "colab": {
          "base_uri": "https://localhost:8080/",
          "height": 424
        }
      },
      "outputs": [
        {
          "output_type": "execute_result",
          "data": {
            "text/plain": [
              "      business_code cust_number       name_customer clear_date  buisness_year  \\\n",
              "0              U001  0200315290              KWI in 2019-03-07         2019.0   \n",
              "1              U001  0200769623  WAL-MAR foundation 2020-01-16         2020.0   \n",
              "2              U001  0200820380  SMITH'S associates 2019-07-08         2019.0   \n",
              "3              U001  0200769623        WAL-MAR corp 2019-03-22         2019.0   \n",
              "4              U001   200230690             DECA in 2019-06-03         2019.0   \n",
              "...             ...         ...                 ...        ...            ...   \n",
              "26271          U001  0200606231       INTER systems 2019-06-21         2019.0   \n",
              "26272          U001  0200754118             ARMY co 2020-01-29         2020.0   \n",
              "26273          U001  0200783609           PROFIC co 2019-11-26         2019.0   \n",
              "26274          U001  0200744019           TARG corp 2019-09-03         2019.0   \n",
              "26275          U001  0200794332        COST systems 2019-08-01         2019.0   \n",
              "\n",
              "      document_create_date.1 due_in_date invoice_currency  total_open_amount  \\\n",
              "0                 2019-02-20  2019-03-07              USD           21227.05   \n",
              "1                 2020-01-04  2020-01-19              USD            5669.72   \n",
              "2                 2019-06-21  2019-07-06              USD           67968.48   \n",
              "3                 2019-03-12  2019-03-27              USD           61395.73   \n",
              "4                 2019-05-21  2019-06-08              USD            1067.72   \n",
              "...                      ...         ...              ...                ...   \n",
              "26271             2019-06-06  2019-06-21              USD            9792.82   \n",
              "26272             2020-01-02  2020-01-17              USD          110826.17   \n",
              "26273             2019-10-23  2019-11-24              USD           11501.00   \n",
              "26274             2019-08-18  2019-09-02              USD            2333.49   \n",
              "26275             2019-07-17  2019-08-01              USD           25501.01   \n",
              "\n",
              "      baseline_create_date cust_payment_terms  \n",
              "0               2019-02-20               NAA8  \n",
              "1               2020-01-04               NAH4  \n",
              "2               2019-06-21               NAA8  \n",
              "3               2019-03-12               NAH4  \n",
              "4               2019-05-16               NAM4  \n",
              "...                    ...                ...  \n",
              "26271           2019-06-06               NAA8  \n",
              "26272           2020-01-02               NAA8  \n",
              "26273           2019-10-23               NA32  \n",
              "26274           2019-08-18               NAA8  \n",
              "26275           2019-07-17               NAAX  \n",
              "\n",
              "[26276 rows x 11 columns]"
            ],
            "text/html": [
              "\n",
              "  <div id=\"df-c7e9b8ff-9b88-44a8-bae5-6b706defd84b\">\n",
              "    <div class=\"colab-df-container\">\n",
              "      <div>\n",
              "<style scoped>\n",
              "    .dataframe tbody tr th:only-of-type {\n",
              "        vertical-align: middle;\n",
              "    }\n",
              "\n",
              "    .dataframe tbody tr th {\n",
              "        vertical-align: top;\n",
              "    }\n",
              "\n",
              "    .dataframe thead th {\n",
              "        text-align: right;\n",
              "    }\n",
              "</style>\n",
              "<table border=\"1\" class=\"dataframe\">\n",
              "  <thead>\n",
              "    <tr style=\"text-align: right;\">\n",
              "      <th></th>\n",
              "      <th>business_code</th>\n",
              "      <th>cust_number</th>\n",
              "      <th>name_customer</th>\n",
              "      <th>clear_date</th>\n",
              "      <th>buisness_year</th>\n",
              "      <th>document_create_date.1</th>\n",
              "      <th>due_in_date</th>\n",
              "      <th>invoice_currency</th>\n",
              "      <th>total_open_amount</th>\n",
              "      <th>baseline_create_date</th>\n",
              "      <th>cust_payment_terms</th>\n",
              "    </tr>\n",
              "  </thead>\n",
              "  <tbody>\n",
              "    <tr>\n",
              "      <th>0</th>\n",
              "      <td>U001</td>\n",
              "      <td>0200315290</td>\n",
              "      <td>KWI in</td>\n",
              "      <td>2019-03-07</td>\n",
              "      <td>2019.0</td>\n",
              "      <td>2019-02-20</td>\n",
              "      <td>2019-03-07</td>\n",
              "      <td>USD</td>\n",
              "      <td>21227.05</td>\n",
              "      <td>2019-02-20</td>\n",
              "      <td>NAA8</td>\n",
              "    </tr>\n",
              "    <tr>\n",
              "      <th>1</th>\n",
              "      <td>U001</td>\n",
              "      <td>0200769623</td>\n",
              "      <td>WAL-MAR foundation</td>\n",
              "      <td>2020-01-16</td>\n",
              "      <td>2020.0</td>\n",
              "      <td>2020-01-04</td>\n",
              "      <td>2020-01-19</td>\n",
              "      <td>USD</td>\n",
              "      <td>5669.72</td>\n",
              "      <td>2020-01-04</td>\n",
              "      <td>NAH4</td>\n",
              "    </tr>\n",
              "    <tr>\n",
              "      <th>2</th>\n",
              "      <td>U001</td>\n",
              "      <td>0200820380</td>\n",
              "      <td>SMITH'S associates</td>\n",
              "      <td>2019-07-08</td>\n",
              "      <td>2019.0</td>\n",
              "      <td>2019-06-21</td>\n",
              "      <td>2019-07-06</td>\n",
              "      <td>USD</td>\n",
              "      <td>67968.48</td>\n",
              "      <td>2019-06-21</td>\n",
              "      <td>NAA8</td>\n",
              "    </tr>\n",
              "    <tr>\n",
              "      <th>3</th>\n",
              "      <td>U001</td>\n",
              "      <td>0200769623</td>\n",
              "      <td>WAL-MAR corp</td>\n",
              "      <td>2019-03-22</td>\n",
              "      <td>2019.0</td>\n",
              "      <td>2019-03-12</td>\n",
              "      <td>2019-03-27</td>\n",
              "      <td>USD</td>\n",
              "      <td>61395.73</td>\n",
              "      <td>2019-03-12</td>\n",
              "      <td>NAH4</td>\n",
              "    </tr>\n",
              "    <tr>\n",
              "      <th>4</th>\n",
              "      <td>U001</td>\n",
              "      <td>200230690</td>\n",
              "      <td>DECA in</td>\n",
              "      <td>2019-06-03</td>\n",
              "      <td>2019.0</td>\n",
              "      <td>2019-05-21</td>\n",
              "      <td>2019-06-08</td>\n",
              "      <td>USD</td>\n",
              "      <td>1067.72</td>\n",
              "      <td>2019-05-16</td>\n",
              "      <td>NAM4</td>\n",
              "    </tr>\n",
              "    <tr>\n",
              "      <th>...</th>\n",
              "      <td>...</td>\n",
              "      <td>...</td>\n",
              "      <td>...</td>\n",
              "      <td>...</td>\n",
              "      <td>...</td>\n",
              "      <td>...</td>\n",
              "      <td>...</td>\n",
              "      <td>...</td>\n",
              "      <td>...</td>\n",
              "      <td>...</td>\n",
              "      <td>...</td>\n",
              "    </tr>\n",
              "    <tr>\n",
              "      <th>26271</th>\n",
              "      <td>U001</td>\n",
              "      <td>0200606231</td>\n",
              "      <td>INTER systems</td>\n",
              "      <td>2019-06-21</td>\n",
              "      <td>2019.0</td>\n",
              "      <td>2019-06-06</td>\n",
              "      <td>2019-06-21</td>\n",
              "      <td>USD</td>\n",
              "      <td>9792.82</td>\n",
              "      <td>2019-06-06</td>\n",
              "      <td>NAA8</td>\n",
              "    </tr>\n",
              "    <tr>\n",
              "      <th>26272</th>\n",
              "      <td>U001</td>\n",
              "      <td>0200754118</td>\n",
              "      <td>ARMY co</td>\n",
              "      <td>2020-01-29</td>\n",
              "      <td>2020.0</td>\n",
              "      <td>2020-01-02</td>\n",
              "      <td>2020-01-17</td>\n",
              "      <td>USD</td>\n",
              "      <td>110826.17</td>\n",
              "      <td>2020-01-02</td>\n",
              "      <td>NAA8</td>\n",
              "    </tr>\n",
              "    <tr>\n",
              "      <th>26273</th>\n",
              "      <td>U001</td>\n",
              "      <td>0200783609</td>\n",
              "      <td>PROFIC co</td>\n",
              "      <td>2019-11-26</td>\n",
              "      <td>2019.0</td>\n",
              "      <td>2019-10-23</td>\n",
              "      <td>2019-11-24</td>\n",
              "      <td>USD</td>\n",
              "      <td>11501.00</td>\n",
              "      <td>2019-10-23</td>\n",
              "      <td>NA32</td>\n",
              "    </tr>\n",
              "    <tr>\n",
              "      <th>26274</th>\n",
              "      <td>U001</td>\n",
              "      <td>0200744019</td>\n",
              "      <td>TARG corp</td>\n",
              "      <td>2019-09-03</td>\n",
              "      <td>2019.0</td>\n",
              "      <td>2019-08-18</td>\n",
              "      <td>2019-09-02</td>\n",
              "      <td>USD</td>\n",
              "      <td>2333.49</td>\n",
              "      <td>2019-08-18</td>\n",
              "      <td>NAA8</td>\n",
              "    </tr>\n",
              "    <tr>\n",
              "      <th>26275</th>\n",
              "      <td>U001</td>\n",
              "      <td>0200794332</td>\n",
              "      <td>COST systems</td>\n",
              "      <td>2019-08-01</td>\n",
              "      <td>2019.0</td>\n",
              "      <td>2019-07-17</td>\n",
              "      <td>2019-08-01</td>\n",
              "      <td>USD</td>\n",
              "      <td>25501.01</td>\n",
              "      <td>2019-07-17</td>\n",
              "      <td>NAAX</td>\n",
              "    </tr>\n",
              "  </tbody>\n",
              "</table>\n",
              "<p>26276 rows × 11 columns</p>\n",
              "</div>\n",
              "      <button class=\"colab-df-convert\" onclick=\"convertToInteractive('df-c7e9b8ff-9b88-44a8-bae5-6b706defd84b')\"\n",
              "              title=\"Convert this dataframe to an interactive table.\"\n",
              "              style=\"display:none;\">\n",
              "        \n",
              "  <svg xmlns=\"http://www.w3.org/2000/svg\" height=\"24px\"viewBox=\"0 0 24 24\"\n",
              "       width=\"24px\">\n",
              "    <path d=\"M0 0h24v24H0V0z\" fill=\"none\"/>\n",
              "    <path d=\"M18.56 5.44l.94 2.06.94-2.06 2.06-.94-2.06-.94-.94-2.06-.94 2.06-2.06.94zm-11 1L8.5 8.5l.94-2.06 2.06-.94-2.06-.94L8.5 2.5l-.94 2.06-2.06.94zm10 10l.94 2.06.94-2.06 2.06-.94-2.06-.94-.94-2.06-.94 2.06-2.06.94z\"/><path d=\"M17.41 7.96l-1.37-1.37c-.4-.4-.92-.59-1.43-.59-.52 0-1.04.2-1.43.59L10.3 9.45l-7.72 7.72c-.78.78-.78 2.05 0 2.83L4 21.41c.39.39.9.59 1.41.59.51 0 1.02-.2 1.41-.59l7.78-7.78 2.81-2.81c.8-.78.8-2.07 0-2.86zM5.41 20L4 18.59l7.72-7.72 1.47 1.35L5.41 20z\"/>\n",
              "  </svg>\n",
              "      </button>\n",
              "      \n",
              "  <style>\n",
              "    .colab-df-container {\n",
              "      display:flex;\n",
              "      flex-wrap:wrap;\n",
              "      gap: 12px;\n",
              "    }\n",
              "\n",
              "    .colab-df-convert {\n",
              "      background-color: #E8F0FE;\n",
              "      border: none;\n",
              "      border-radius: 50%;\n",
              "      cursor: pointer;\n",
              "      display: none;\n",
              "      fill: #1967D2;\n",
              "      height: 32px;\n",
              "      padding: 0 0 0 0;\n",
              "      width: 32px;\n",
              "    }\n",
              "\n",
              "    .colab-df-convert:hover {\n",
              "      background-color: #E2EBFA;\n",
              "      box-shadow: 0px 1px 2px rgba(60, 64, 67, 0.3), 0px 1px 3px 1px rgba(60, 64, 67, 0.15);\n",
              "      fill: #174EA6;\n",
              "    }\n",
              "\n",
              "    [theme=dark] .colab-df-convert {\n",
              "      background-color: #3B4455;\n",
              "      fill: #D2E3FC;\n",
              "    }\n",
              "\n",
              "    [theme=dark] .colab-df-convert:hover {\n",
              "      background-color: #434B5C;\n",
              "      box-shadow: 0px 1px 3px 1px rgba(0, 0, 0, 0.15);\n",
              "      filter: drop-shadow(0px 1px 2px rgba(0, 0, 0, 0.3));\n",
              "      fill: #FFFFFF;\n",
              "    }\n",
              "  </style>\n",
              "\n",
              "      <script>\n",
              "        const buttonEl =\n",
              "          document.querySelector('#df-c7e9b8ff-9b88-44a8-bae5-6b706defd84b button.colab-df-convert');\n",
              "        buttonEl.style.display =\n",
              "          google.colab.kernel.accessAllowed ? 'block' : 'none';\n",
              "\n",
              "        async function convertToInteractive(key) {\n",
              "          const element = document.querySelector('#df-c7e9b8ff-9b88-44a8-bae5-6b706defd84b');\n",
              "          const dataTable =\n",
              "            await google.colab.kernel.invokeFunction('convertToInteractive',\n",
              "                                                     [key], {});\n",
              "          if (!dataTable) return;\n",
              "\n",
              "          const docLinkHtml = 'Like what you see? Visit the ' +\n",
              "            '<a target=\"_blank\" href=https://colab.research.google.com/notebooks/data_table.ipynb>data table notebook</a>'\n",
              "            + ' to learn more about interactive tables.';\n",
              "          element.innerHTML = '';\n",
              "          dataTable['output_type'] = 'display_data';\n",
              "          await google.colab.output.renderOutput(dataTable, element);\n",
              "          const docLink = document.createElement('div');\n",
              "          docLink.innerHTML = docLinkHtml;\n",
              "          element.appendChild(docLink);\n",
              "        }\n",
              "      </script>\n",
              "    </div>\n",
              "  </div>\n",
              "  "
            ]
          },
          "metadata": {},
          "execution_count": 28
        }
      ],
      "source": [
        "df.drop(columns=['invoice_id'],inplace=True) \n",
        "df"
      ]
    },
    {
      "cell_type": "markdown",
      "metadata": {
        "id": "_GqxHnSJlkUP"
      },
      "source": [
        "# TARGET VARIABLE AND SORT\n",
        "Our model cant take in dates for prediction so our target column will not be clear_date. Instead it will be the delay column as delay will be in int format which our model can predict.\n",
        "\n",
        "clear_date - due_date will tell us how much delay was there in paying. \n",
        " \n",
        " \"-\" indicates it has been paid off before due date. \n",
        " \"+\" indicates it has been paid off after the due date"
      ]
    },
    {
      "cell_type": "code",
      "execution_count": 29,
      "metadata": {
        "id": "DBP9ZnN0lkUP"
      },
      "outputs": [],
      "source": [
        "\n",
        "df['delay']=(df['clear_date']-df['due_in_date']).dt.days"
      ]
    },
    {
      "cell_type": "markdown",
      "metadata": {
        "id": "q15Rcn56lkUQ"
      },
      "source": [
        "Sorting in ascending order by document_create_date.1"
      ]
    },
    {
      "cell_type": "code",
      "execution_count": 30,
      "metadata": {
        "id": "gLS3rM2rlkUQ",
        "outputId": "a7d7aef4-358c-466c-f339-3d3fa13c93f6",
        "colab": {
          "base_uri": "https://localhost:8080/",
          "height": 424
        }
      },
      "outputs": [
        {
          "output_type": "execute_result",
          "data": {
            "text/plain": [
              "      business_code cust_number  name_customer clear_date  buisness_year  \\\n",
              "4663           U001  0200769623  WAL-MAR trust 2019-01-09         2019.0   \n",
              "9016           U001  0200769623     WAL-MAR co 2019-01-15         2019.0   \n",
              "8597           U001  0200794332      COST corp 2019-01-14         2019.0   \n",
              "10263          U001  0200723794   MID MO trust 2019-01-14         2019.0   \n",
              "4200           U001  0200726979  BJ'S  systems 2019-01-15         2019.0   \n",
              "...             ...         ...            ...        ...            ...   \n",
              "25195          U001  0200744707        PERFOR  2020-03-16         2020.0   \n",
              "20839          U001  0200721222  GO associates 2020-03-13         2020.0   \n",
              "15489          U001  0100049079      ESSEX  in 2020-03-19         2020.0   \n",
              "14025          U001  0200895843           US   2020-03-13         2020.0   \n",
              "8072           U001  0200700919         US  co 2020-03-20         2020.0   \n",
              "\n",
              "      document_create_date.1 due_in_date invoice_currency  total_open_amount  \\\n",
              "4663              2018-12-30  2019-01-14              USD           14902.13   \n",
              "9016              2018-12-30  2019-01-14              USD            9081.20   \n",
              "8597              2018-12-30  2019-01-14              USD           32715.47   \n",
              "10263             2018-12-30  2019-01-14              USD          169989.59   \n",
              "4200              2018-12-30  2019-01-14              USD             271.96   \n",
              "...                      ...         ...              ...                ...   \n",
              "25195             2020-02-27  2020-03-13              USD           39408.22   \n",
              "20839             2020-02-27  2020-05-02              USD           10770.76   \n",
              "15489             2020-02-27  2020-03-13              USD           14271.00   \n",
              "14025             2020-02-27  2020-03-13              USD             894.72   \n",
              "8072              2020-02-27  2020-03-18              USD           90195.02   \n",
              "\n",
              "      baseline_create_date cust_payment_terms  delay  \n",
              "4663            2018-12-30               NAH4     -5  \n",
              "9016            2018-12-30               NAH4      1  \n",
              "8597            2018-12-30               NAAX      0  \n",
              "10263           2018-12-30               NAA8      0  \n",
              "4200            2018-12-30               NAA8      1  \n",
              "...                    ...                ...    ...  \n",
              "25195           2020-02-27               NAA8      3  \n",
              "20839           2020-02-27               NAGD    -50  \n",
              "15489           2020-02-27               NAA8      6  \n",
              "14025           2020-02-27               NAA8      0  \n",
              "8072            2020-02-27               NAD1      2  \n",
              "\n",
              "[26276 rows x 12 columns]"
            ],
            "text/html": [
              "\n",
              "  <div id=\"df-109ca55f-b4e5-47b6-983f-a02ee3150a3c\">\n",
              "    <div class=\"colab-df-container\">\n",
              "      <div>\n",
              "<style scoped>\n",
              "    .dataframe tbody tr th:only-of-type {\n",
              "        vertical-align: middle;\n",
              "    }\n",
              "\n",
              "    .dataframe tbody tr th {\n",
              "        vertical-align: top;\n",
              "    }\n",
              "\n",
              "    .dataframe thead th {\n",
              "        text-align: right;\n",
              "    }\n",
              "</style>\n",
              "<table border=\"1\" class=\"dataframe\">\n",
              "  <thead>\n",
              "    <tr style=\"text-align: right;\">\n",
              "      <th></th>\n",
              "      <th>business_code</th>\n",
              "      <th>cust_number</th>\n",
              "      <th>name_customer</th>\n",
              "      <th>clear_date</th>\n",
              "      <th>buisness_year</th>\n",
              "      <th>document_create_date.1</th>\n",
              "      <th>due_in_date</th>\n",
              "      <th>invoice_currency</th>\n",
              "      <th>total_open_amount</th>\n",
              "      <th>baseline_create_date</th>\n",
              "      <th>cust_payment_terms</th>\n",
              "      <th>delay</th>\n",
              "    </tr>\n",
              "  </thead>\n",
              "  <tbody>\n",
              "    <tr>\n",
              "      <th>4663</th>\n",
              "      <td>U001</td>\n",
              "      <td>0200769623</td>\n",
              "      <td>WAL-MAR trust</td>\n",
              "      <td>2019-01-09</td>\n",
              "      <td>2019.0</td>\n",
              "      <td>2018-12-30</td>\n",
              "      <td>2019-01-14</td>\n",
              "      <td>USD</td>\n",
              "      <td>14902.13</td>\n",
              "      <td>2018-12-30</td>\n",
              "      <td>NAH4</td>\n",
              "      <td>-5</td>\n",
              "    </tr>\n",
              "    <tr>\n",
              "      <th>9016</th>\n",
              "      <td>U001</td>\n",
              "      <td>0200769623</td>\n",
              "      <td>WAL-MAR co</td>\n",
              "      <td>2019-01-15</td>\n",
              "      <td>2019.0</td>\n",
              "      <td>2018-12-30</td>\n",
              "      <td>2019-01-14</td>\n",
              "      <td>USD</td>\n",
              "      <td>9081.20</td>\n",
              "      <td>2018-12-30</td>\n",
              "      <td>NAH4</td>\n",
              "      <td>1</td>\n",
              "    </tr>\n",
              "    <tr>\n",
              "      <th>8597</th>\n",
              "      <td>U001</td>\n",
              "      <td>0200794332</td>\n",
              "      <td>COST corp</td>\n",
              "      <td>2019-01-14</td>\n",
              "      <td>2019.0</td>\n",
              "      <td>2018-12-30</td>\n",
              "      <td>2019-01-14</td>\n",
              "      <td>USD</td>\n",
              "      <td>32715.47</td>\n",
              "      <td>2018-12-30</td>\n",
              "      <td>NAAX</td>\n",
              "      <td>0</td>\n",
              "    </tr>\n",
              "    <tr>\n",
              "      <th>10263</th>\n",
              "      <td>U001</td>\n",
              "      <td>0200723794</td>\n",
              "      <td>MID MO trust</td>\n",
              "      <td>2019-01-14</td>\n",
              "      <td>2019.0</td>\n",
              "      <td>2018-12-30</td>\n",
              "      <td>2019-01-14</td>\n",
              "      <td>USD</td>\n",
              "      <td>169989.59</td>\n",
              "      <td>2018-12-30</td>\n",
              "      <td>NAA8</td>\n",
              "      <td>0</td>\n",
              "    </tr>\n",
              "    <tr>\n",
              "      <th>4200</th>\n",
              "      <td>U001</td>\n",
              "      <td>0200726979</td>\n",
              "      <td>BJ'S  systems</td>\n",
              "      <td>2019-01-15</td>\n",
              "      <td>2019.0</td>\n",
              "      <td>2018-12-30</td>\n",
              "      <td>2019-01-14</td>\n",
              "      <td>USD</td>\n",
              "      <td>271.96</td>\n",
              "      <td>2018-12-30</td>\n",
              "      <td>NAA8</td>\n",
              "      <td>1</td>\n",
              "    </tr>\n",
              "    <tr>\n",
              "      <th>...</th>\n",
              "      <td>...</td>\n",
              "      <td>...</td>\n",
              "      <td>...</td>\n",
              "      <td>...</td>\n",
              "      <td>...</td>\n",
              "      <td>...</td>\n",
              "      <td>...</td>\n",
              "      <td>...</td>\n",
              "      <td>...</td>\n",
              "      <td>...</td>\n",
              "      <td>...</td>\n",
              "      <td>...</td>\n",
              "    </tr>\n",
              "    <tr>\n",
              "      <th>25195</th>\n",
              "      <td>U001</td>\n",
              "      <td>0200744707</td>\n",
              "      <td>PERFOR</td>\n",
              "      <td>2020-03-16</td>\n",
              "      <td>2020.0</td>\n",
              "      <td>2020-02-27</td>\n",
              "      <td>2020-03-13</td>\n",
              "      <td>USD</td>\n",
              "      <td>39408.22</td>\n",
              "      <td>2020-02-27</td>\n",
              "      <td>NAA8</td>\n",
              "      <td>3</td>\n",
              "    </tr>\n",
              "    <tr>\n",
              "      <th>20839</th>\n",
              "      <td>U001</td>\n",
              "      <td>0200721222</td>\n",
              "      <td>GO associates</td>\n",
              "      <td>2020-03-13</td>\n",
              "      <td>2020.0</td>\n",
              "      <td>2020-02-27</td>\n",
              "      <td>2020-05-02</td>\n",
              "      <td>USD</td>\n",
              "      <td>10770.76</td>\n",
              "      <td>2020-02-27</td>\n",
              "      <td>NAGD</td>\n",
              "      <td>-50</td>\n",
              "    </tr>\n",
              "    <tr>\n",
              "      <th>15489</th>\n",
              "      <td>U001</td>\n",
              "      <td>0100049079</td>\n",
              "      <td>ESSEX  in</td>\n",
              "      <td>2020-03-19</td>\n",
              "      <td>2020.0</td>\n",
              "      <td>2020-02-27</td>\n",
              "      <td>2020-03-13</td>\n",
              "      <td>USD</td>\n",
              "      <td>14271.00</td>\n",
              "      <td>2020-02-27</td>\n",
              "      <td>NAA8</td>\n",
              "      <td>6</td>\n",
              "    </tr>\n",
              "    <tr>\n",
              "      <th>14025</th>\n",
              "      <td>U001</td>\n",
              "      <td>0200895843</td>\n",
              "      <td>US</td>\n",
              "      <td>2020-03-13</td>\n",
              "      <td>2020.0</td>\n",
              "      <td>2020-02-27</td>\n",
              "      <td>2020-03-13</td>\n",
              "      <td>USD</td>\n",
              "      <td>894.72</td>\n",
              "      <td>2020-02-27</td>\n",
              "      <td>NAA8</td>\n",
              "      <td>0</td>\n",
              "    </tr>\n",
              "    <tr>\n",
              "      <th>8072</th>\n",
              "      <td>U001</td>\n",
              "      <td>0200700919</td>\n",
              "      <td>US  co</td>\n",
              "      <td>2020-03-20</td>\n",
              "      <td>2020.0</td>\n",
              "      <td>2020-02-27</td>\n",
              "      <td>2020-03-18</td>\n",
              "      <td>USD</td>\n",
              "      <td>90195.02</td>\n",
              "      <td>2020-02-27</td>\n",
              "      <td>NAD1</td>\n",
              "      <td>2</td>\n",
              "    </tr>\n",
              "  </tbody>\n",
              "</table>\n",
              "<p>26276 rows × 12 columns</p>\n",
              "</div>\n",
              "      <button class=\"colab-df-convert\" onclick=\"convertToInteractive('df-109ca55f-b4e5-47b6-983f-a02ee3150a3c')\"\n",
              "              title=\"Convert this dataframe to an interactive table.\"\n",
              "              style=\"display:none;\">\n",
              "        \n",
              "  <svg xmlns=\"http://www.w3.org/2000/svg\" height=\"24px\"viewBox=\"0 0 24 24\"\n",
              "       width=\"24px\">\n",
              "    <path d=\"M0 0h24v24H0V0z\" fill=\"none\"/>\n",
              "    <path d=\"M18.56 5.44l.94 2.06.94-2.06 2.06-.94-2.06-.94-.94-2.06-.94 2.06-2.06.94zm-11 1L8.5 8.5l.94-2.06 2.06-.94-2.06-.94L8.5 2.5l-.94 2.06-2.06.94zm10 10l.94 2.06.94-2.06 2.06-.94-2.06-.94-.94-2.06-.94 2.06-2.06.94z\"/><path d=\"M17.41 7.96l-1.37-1.37c-.4-.4-.92-.59-1.43-.59-.52 0-1.04.2-1.43.59L10.3 9.45l-7.72 7.72c-.78.78-.78 2.05 0 2.83L4 21.41c.39.39.9.59 1.41.59.51 0 1.02-.2 1.41-.59l7.78-7.78 2.81-2.81c.8-.78.8-2.07 0-2.86zM5.41 20L4 18.59l7.72-7.72 1.47 1.35L5.41 20z\"/>\n",
              "  </svg>\n",
              "      </button>\n",
              "      \n",
              "  <style>\n",
              "    .colab-df-container {\n",
              "      display:flex;\n",
              "      flex-wrap:wrap;\n",
              "      gap: 12px;\n",
              "    }\n",
              "\n",
              "    .colab-df-convert {\n",
              "      background-color: #E8F0FE;\n",
              "      border: none;\n",
              "      border-radius: 50%;\n",
              "      cursor: pointer;\n",
              "      display: none;\n",
              "      fill: #1967D2;\n",
              "      height: 32px;\n",
              "      padding: 0 0 0 0;\n",
              "      width: 32px;\n",
              "    }\n",
              "\n",
              "    .colab-df-convert:hover {\n",
              "      background-color: #E2EBFA;\n",
              "      box-shadow: 0px 1px 2px rgba(60, 64, 67, 0.3), 0px 1px 3px 1px rgba(60, 64, 67, 0.15);\n",
              "      fill: #174EA6;\n",
              "    }\n",
              "\n",
              "    [theme=dark] .colab-df-convert {\n",
              "      background-color: #3B4455;\n",
              "      fill: #D2E3FC;\n",
              "    }\n",
              "\n",
              "    [theme=dark] .colab-df-convert:hover {\n",
              "      background-color: #434B5C;\n",
              "      box-shadow: 0px 1px 3px 1px rgba(0, 0, 0, 0.15);\n",
              "      filter: drop-shadow(0px 1px 2px rgba(0, 0, 0, 0.3));\n",
              "      fill: #FFFFFF;\n",
              "    }\n",
              "  </style>\n",
              "\n",
              "      <script>\n",
              "        const buttonEl =\n",
              "          document.querySelector('#df-109ca55f-b4e5-47b6-983f-a02ee3150a3c button.colab-df-convert');\n",
              "        buttonEl.style.display =\n",
              "          google.colab.kernel.accessAllowed ? 'block' : 'none';\n",
              "\n",
              "        async function convertToInteractive(key) {\n",
              "          const element = document.querySelector('#df-109ca55f-b4e5-47b6-983f-a02ee3150a3c');\n",
              "          const dataTable =\n",
              "            await google.colab.kernel.invokeFunction('convertToInteractive',\n",
              "                                                     [key], {});\n",
              "          if (!dataTable) return;\n",
              "\n",
              "          const docLinkHtml = 'Like what you see? Visit the ' +\n",
              "            '<a target=\"_blank\" href=https://colab.research.google.com/notebooks/data_table.ipynb>data table notebook</a>'\n",
              "            + ' to learn more about interactive tables.';\n",
              "          element.innerHTML = '';\n",
              "          dataTable['output_type'] = 'display_data';\n",
              "          await google.colab.output.renderOutput(dataTable, element);\n",
              "          const docLink = document.createElement('div');\n",
              "          docLink.innerHTML = docLinkHtml;\n",
              "          element.appendChild(docLink);\n",
              "        }\n",
              "      </script>\n",
              "    </div>\n",
              "  </div>\n",
              "  "
            ]
          },
          "metadata": {},
          "execution_count": 30
        }
      ],
      "source": [
        "df.sort_values(by='document_create_date.1',inplace=True) # sorting in ascending order by document_create_date.1\n",
        "df"
      ]
    },
    {
      "cell_type": "markdown",
      "metadata": {
        "id": "5ZhN1P7NlkUQ"
      },
      "source": [
        "# SPLITTING\n",
        "Creating test set on null clear_date"
      ]
    },
    {
      "cell_type": "code",
      "execution_count": 31,
      "metadata": {
        "id": "fLKzTj5flkUR",
        "outputId": "a81eedc6-7ae1-486e-8e82-11675eb1d559",
        "colab": {
          "base_uri": "https://localhost:8080/",
          "height": 49
        }
      },
      "outputs": [
        {
          "output_type": "execute_result",
          "data": {
            "text/plain": [
              "Empty DataFrame\n",
              "Columns: [business_code, cust_number, name_customer, clear_date, buisness_year, document_create_date.1, due_in_date, invoice_currency, total_open_amount, baseline_create_date, cust_payment_terms, delay]\n",
              "Index: []"
            ],
            "text/html": [
              "\n",
              "  <div id=\"df-66ef6f33-2862-484a-bb52-f22cc2d169bd\">\n",
              "    <div class=\"colab-df-container\">\n",
              "      <div>\n",
              "<style scoped>\n",
              "    .dataframe tbody tr th:only-of-type {\n",
              "        vertical-align: middle;\n",
              "    }\n",
              "\n",
              "    .dataframe tbody tr th {\n",
              "        vertical-align: top;\n",
              "    }\n",
              "\n",
              "    .dataframe thead th {\n",
              "        text-align: right;\n",
              "    }\n",
              "</style>\n",
              "<table border=\"1\" class=\"dataframe\">\n",
              "  <thead>\n",
              "    <tr style=\"text-align: right;\">\n",
              "      <th></th>\n",
              "      <th>business_code</th>\n",
              "      <th>cust_number</th>\n",
              "      <th>name_customer</th>\n",
              "      <th>clear_date</th>\n",
              "      <th>buisness_year</th>\n",
              "      <th>document_create_date.1</th>\n",
              "      <th>due_in_date</th>\n",
              "      <th>invoice_currency</th>\n",
              "      <th>total_open_amount</th>\n",
              "      <th>baseline_create_date</th>\n",
              "      <th>cust_payment_terms</th>\n",
              "      <th>delay</th>\n",
              "    </tr>\n",
              "  </thead>\n",
              "  <tbody>\n",
              "  </tbody>\n",
              "</table>\n",
              "</div>\n",
              "      <button class=\"colab-df-convert\" onclick=\"convertToInteractive('df-66ef6f33-2862-484a-bb52-f22cc2d169bd')\"\n",
              "              title=\"Convert this dataframe to an interactive table.\"\n",
              "              style=\"display:none;\">\n",
              "        \n",
              "  <svg xmlns=\"http://www.w3.org/2000/svg\" height=\"24px\"viewBox=\"0 0 24 24\"\n",
              "       width=\"24px\">\n",
              "    <path d=\"M0 0h24v24H0V0z\" fill=\"none\"/>\n",
              "    <path d=\"M18.56 5.44l.94 2.06.94-2.06 2.06-.94-2.06-.94-.94-2.06-.94 2.06-2.06.94zm-11 1L8.5 8.5l.94-2.06 2.06-.94-2.06-.94L8.5 2.5l-.94 2.06-2.06.94zm10 10l.94 2.06.94-2.06 2.06-.94-2.06-.94-.94-2.06-.94 2.06-2.06.94z\"/><path d=\"M17.41 7.96l-1.37-1.37c-.4-.4-.92-.59-1.43-.59-.52 0-1.04.2-1.43.59L10.3 9.45l-7.72 7.72c-.78.78-.78 2.05 0 2.83L4 21.41c.39.39.9.59 1.41.59.51 0 1.02-.2 1.41-.59l7.78-7.78 2.81-2.81c.8-.78.8-2.07 0-2.86zM5.41 20L4 18.59l7.72-7.72 1.47 1.35L5.41 20z\"/>\n",
              "  </svg>\n",
              "      </button>\n",
              "      \n",
              "  <style>\n",
              "    .colab-df-container {\n",
              "      display:flex;\n",
              "      flex-wrap:wrap;\n",
              "      gap: 12px;\n",
              "    }\n",
              "\n",
              "    .colab-df-convert {\n",
              "      background-color: #E8F0FE;\n",
              "      border: none;\n",
              "      border-radius: 50%;\n",
              "      cursor: pointer;\n",
              "      display: none;\n",
              "      fill: #1967D2;\n",
              "      height: 32px;\n",
              "      padding: 0 0 0 0;\n",
              "      width: 32px;\n",
              "    }\n",
              "\n",
              "    .colab-df-convert:hover {\n",
              "      background-color: #E2EBFA;\n",
              "      box-shadow: 0px 1px 2px rgba(60, 64, 67, 0.3), 0px 1px 3px 1px rgba(60, 64, 67, 0.15);\n",
              "      fill: #174EA6;\n",
              "    }\n",
              "\n",
              "    [theme=dark] .colab-df-convert {\n",
              "      background-color: #3B4455;\n",
              "      fill: #D2E3FC;\n",
              "    }\n",
              "\n",
              "    [theme=dark] .colab-df-convert:hover {\n",
              "      background-color: #434B5C;\n",
              "      box-shadow: 0px 1px 3px 1px rgba(0, 0, 0, 0.15);\n",
              "      filter: drop-shadow(0px 1px 2px rgba(0, 0, 0, 0.3));\n",
              "      fill: #FFFFFF;\n",
              "    }\n",
              "  </style>\n",
              "\n",
              "      <script>\n",
              "        const buttonEl =\n",
              "          document.querySelector('#df-66ef6f33-2862-484a-bb52-f22cc2d169bd button.colab-df-convert');\n",
              "        buttonEl.style.display =\n",
              "          google.colab.kernel.accessAllowed ? 'block' : 'none';\n",
              "\n",
              "        async function convertToInteractive(key) {\n",
              "          const element = document.querySelector('#df-66ef6f33-2862-484a-bb52-f22cc2d169bd');\n",
              "          const dataTable =\n",
              "            await google.colab.kernel.invokeFunction('convertToInteractive',\n",
              "                                                     [key], {});\n",
              "          if (!dataTable) return;\n",
              "\n",
              "          const docLinkHtml = 'Like what you see? Visit the ' +\n",
              "            '<a target=\"_blank\" href=https://colab.research.google.com/notebooks/data_table.ipynb>data table notebook</a>'\n",
              "            + ' to learn more about interactive tables.';\n",
              "          element.innerHTML = '';\n",
              "          dataTable['output_type'] = 'display_data';\n",
              "          await google.colab.output.renderOutput(dataTable, element);\n",
              "          const docLink = document.createElement('div');\n",
              "          docLink.innerHTML = docLinkHtml;\n",
              "          element.appendChild(docLink);\n",
              "        }\n",
              "      </script>\n",
              "    </div>\n",
              "  </div>\n",
              "  "
            ]
          },
          "metadata": {},
          "execution_count": 31
        }
      ],
      "source": [
        "\n",
        "test_data = df[df.clear_date.isnull()].reset_index()\n",
        "test_data.drop(columns=['index'],inplace=True)\n",
        "test_data"
      ]
    },
    {
      "cell_type": "code",
      "execution_count": 32,
      "metadata": {
        "id": "KmtlmdvglkUR"
      },
      "outputs": [],
      "source": [
        "ts = test_data.copy()"
      ]
    },
    {
      "cell_type": "markdown",
      "metadata": {
        "id": "t7ToUlxalkUS"
      },
      "source": [
        "Splitting test_set into x_test and y_test"
      ]
    },
    {
      "cell_type": "code",
      "execution_count": 33,
      "metadata": {
        "id": "ttquRkRjlkUS",
        "outputId": "bea60bdc-07f7-4cd4-ebd7-a29ad97eea79",
        "colab": {
          "base_uri": "https://localhost:8080/"
        }
      },
      "outputs": [
        {
          "output_type": "execute_result",
          "data": {
            "text/plain": [
              "Series([], Name: delay, dtype: int64)"
            ]
          },
          "metadata": {},
          "execution_count": 33
        }
      ],
      "source": [
        "\n",
        "y_test = test_data[\"delay\"]\n",
        "y_test"
      ]
    },
    {
      "cell_type": "code",
      "execution_count": 34,
      "metadata": {
        "id": "Q4CmQ7uVlkUS",
        "outputId": "5731b5d3-84b7-4f52-bfe3-4ba9480be42b",
        "colab": {
          "base_uri": "https://localhost:8080/",
          "height": 49
        }
      },
      "outputs": [
        {
          "output_type": "execute_result",
          "data": {
            "text/plain": [
              "Empty DataFrame\n",
              "Columns: [business_code, cust_number, name_customer, clear_date, buisness_year, document_create_date.1, due_in_date, invoice_currency, total_open_amount, baseline_create_date, cust_payment_terms]\n",
              "Index: []"
            ],
            "text/html": [
              "\n",
              "  <div id=\"df-2592e685-0c3f-4f8e-a66a-efcc7d474d62\">\n",
              "    <div class=\"colab-df-container\">\n",
              "      <div>\n",
              "<style scoped>\n",
              "    .dataframe tbody tr th:only-of-type {\n",
              "        vertical-align: middle;\n",
              "    }\n",
              "\n",
              "    .dataframe tbody tr th {\n",
              "        vertical-align: top;\n",
              "    }\n",
              "\n",
              "    .dataframe thead th {\n",
              "        text-align: right;\n",
              "    }\n",
              "</style>\n",
              "<table border=\"1\" class=\"dataframe\">\n",
              "  <thead>\n",
              "    <tr style=\"text-align: right;\">\n",
              "      <th></th>\n",
              "      <th>business_code</th>\n",
              "      <th>cust_number</th>\n",
              "      <th>name_customer</th>\n",
              "      <th>clear_date</th>\n",
              "      <th>buisness_year</th>\n",
              "      <th>document_create_date.1</th>\n",
              "      <th>due_in_date</th>\n",
              "      <th>invoice_currency</th>\n",
              "      <th>total_open_amount</th>\n",
              "      <th>baseline_create_date</th>\n",
              "      <th>cust_payment_terms</th>\n",
              "    </tr>\n",
              "  </thead>\n",
              "  <tbody>\n",
              "  </tbody>\n",
              "</table>\n",
              "</div>\n",
              "      <button class=\"colab-df-convert\" onclick=\"convertToInteractive('df-2592e685-0c3f-4f8e-a66a-efcc7d474d62')\"\n",
              "              title=\"Convert this dataframe to an interactive table.\"\n",
              "              style=\"display:none;\">\n",
              "        \n",
              "  <svg xmlns=\"http://www.w3.org/2000/svg\" height=\"24px\"viewBox=\"0 0 24 24\"\n",
              "       width=\"24px\">\n",
              "    <path d=\"M0 0h24v24H0V0z\" fill=\"none\"/>\n",
              "    <path d=\"M18.56 5.44l.94 2.06.94-2.06 2.06-.94-2.06-.94-.94-2.06-.94 2.06-2.06.94zm-11 1L8.5 8.5l.94-2.06 2.06-.94-2.06-.94L8.5 2.5l-.94 2.06-2.06.94zm10 10l.94 2.06.94-2.06 2.06-.94-2.06-.94-.94-2.06-.94 2.06-2.06.94z\"/><path d=\"M17.41 7.96l-1.37-1.37c-.4-.4-.92-.59-1.43-.59-.52 0-1.04.2-1.43.59L10.3 9.45l-7.72 7.72c-.78.78-.78 2.05 0 2.83L4 21.41c.39.39.9.59 1.41.59.51 0 1.02-.2 1.41-.59l7.78-7.78 2.81-2.81c.8-.78.8-2.07 0-2.86zM5.41 20L4 18.59l7.72-7.72 1.47 1.35L5.41 20z\"/>\n",
              "  </svg>\n",
              "      </button>\n",
              "      \n",
              "  <style>\n",
              "    .colab-df-container {\n",
              "      display:flex;\n",
              "      flex-wrap:wrap;\n",
              "      gap: 12px;\n",
              "    }\n",
              "\n",
              "    .colab-df-convert {\n",
              "      background-color: #E8F0FE;\n",
              "      border: none;\n",
              "      border-radius: 50%;\n",
              "      cursor: pointer;\n",
              "      display: none;\n",
              "      fill: #1967D2;\n",
              "      height: 32px;\n",
              "      padding: 0 0 0 0;\n",
              "      width: 32px;\n",
              "    }\n",
              "\n",
              "    .colab-df-convert:hover {\n",
              "      background-color: #E2EBFA;\n",
              "      box-shadow: 0px 1px 2px rgba(60, 64, 67, 0.3), 0px 1px 3px 1px rgba(60, 64, 67, 0.15);\n",
              "      fill: #174EA6;\n",
              "    }\n",
              "\n",
              "    [theme=dark] .colab-df-convert {\n",
              "      background-color: #3B4455;\n",
              "      fill: #D2E3FC;\n",
              "    }\n",
              "\n",
              "    [theme=dark] .colab-df-convert:hover {\n",
              "      background-color: #434B5C;\n",
              "      box-shadow: 0px 1px 3px 1px rgba(0, 0, 0, 0.15);\n",
              "      filter: drop-shadow(0px 1px 2px rgba(0, 0, 0, 0.3));\n",
              "      fill: #FFFFFF;\n",
              "    }\n",
              "  </style>\n",
              "\n",
              "      <script>\n",
              "        const buttonEl =\n",
              "          document.querySelector('#df-2592e685-0c3f-4f8e-a66a-efcc7d474d62 button.colab-df-convert');\n",
              "        buttonEl.style.display =\n",
              "          google.colab.kernel.accessAllowed ? 'block' : 'none';\n",
              "\n",
              "        async function convertToInteractive(key) {\n",
              "          const element = document.querySelector('#df-2592e685-0c3f-4f8e-a66a-efcc7d474d62');\n",
              "          const dataTable =\n",
              "            await google.colab.kernel.invokeFunction('convertToInteractive',\n",
              "                                                     [key], {});\n",
              "          if (!dataTable) return;\n",
              "\n",
              "          const docLinkHtml = 'Like what you see? Visit the ' +\n",
              "            '<a target=\"_blank\" href=https://colab.research.google.com/notebooks/data_table.ipynb>data table notebook</a>'\n",
              "            + ' to learn more about interactive tables.';\n",
              "          element.innerHTML = '';\n",
              "          dataTable['output_type'] = 'display_data';\n",
              "          await google.colab.output.renderOutput(dataTable, element);\n",
              "          const docLink = document.createElement('div');\n",
              "          docLink.innerHTML = docLinkHtml;\n",
              "          element.appendChild(docLink);\n",
              "        }\n",
              "      </script>\n",
              "    </div>\n",
              "  </div>\n",
              "  "
            ]
          },
          "metadata": {},
          "execution_count": 34
        }
      ],
      "source": [
        "x_test = test_data.iloc[:,:-1].copy()\n",
        "x_test"
      ]
    },
    {
      "cell_type": "markdown",
      "metadata": {
        "id": "c6fdUhDPlkUT"
      },
      "source": [
        "### Creating a seprate data frame out of which we will extract val1, val2 and final train set.\n",
        "WHOLE DATA ---> [TRAIN_DATA + VAL1 (1.5 MONTHS) + VAL2 (1.5 MONTHS)] + TEST_DATA"
      ]
    },
    {
      "cell_type": "code",
      "execution_count": 35,
      "metadata": {
        "id": "_Y2sxjNQlkUT",
        "outputId": "4d78e628-e1f1-468e-84e5-de1b268558ba",
        "colab": {
          "base_uri": "https://localhost:8080/",
          "height": 424
        }
      },
      "outputs": [
        {
          "output_type": "execute_result",
          "data": {
            "text/plain": [
              "      business_code cust_number  name_customer clear_date  buisness_year  \\\n",
              "0              U001  0200769623  WAL-MAR trust 2019-01-09         2019.0   \n",
              "1              U001  0200769623     WAL-MAR co 2019-01-15         2019.0   \n",
              "2              U001  0200794332      COST corp 2019-01-14         2019.0   \n",
              "3              U001  0200723794   MID MO trust 2019-01-14         2019.0   \n",
              "4              U001  0200726979  BJ'S  systems 2019-01-15         2019.0   \n",
              "...             ...         ...            ...        ...            ...   \n",
              "26271          U001  0200744707        PERFOR  2020-03-16         2020.0   \n",
              "26272          U001  0200721222  GO associates 2020-03-13         2020.0   \n",
              "26273          U001  0100049079      ESSEX  in 2020-03-19         2020.0   \n",
              "26274          U001  0200895843           US   2020-03-13         2020.0   \n",
              "26275          U001  0200700919         US  co 2020-03-20         2020.0   \n",
              "\n",
              "      document_create_date.1 due_in_date invoice_currency  total_open_amount  \\\n",
              "0                 2018-12-30  2019-01-14              USD           14902.13   \n",
              "1                 2018-12-30  2019-01-14              USD            9081.20   \n",
              "2                 2018-12-30  2019-01-14              USD           32715.47   \n",
              "3                 2018-12-30  2019-01-14              USD          169989.59   \n",
              "4                 2018-12-30  2019-01-14              USD             271.96   \n",
              "...                      ...         ...              ...                ...   \n",
              "26271             2020-02-27  2020-03-13              USD           39408.22   \n",
              "26272             2020-02-27  2020-05-02              USD           10770.76   \n",
              "26273             2020-02-27  2020-03-13              USD           14271.00   \n",
              "26274             2020-02-27  2020-03-13              USD             894.72   \n",
              "26275             2020-02-27  2020-03-18              USD           90195.02   \n",
              "\n",
              "      baseline_create_date cust_payment_terms  delay  \n",
              "0               2018-12-30               NAH4     -5  \n",
              "1               2018-12-30               NAH4      1  \n",
              "2               2018-12-30               NAAX      0  \n",
              "3               2018-12-30               NAA8      0  \n",
              "4               2018-12-30               NAA8      1  \n",
              "...                    ...                ...    ...  \n",
              "26271           2020-02-27               NAA8      3  \n",
              "26272           2020-02-27               NAGD    -50  \n",
              "26273           2020-02-27               NAA8      6  \n",
              "26274           2020-02-27               NAA8      0  \n",
              "26275           2020-02-27               NAD1      2  \n",
              "\n",
              "[26276 rows x 12 columns]"
            ],
            "text/html": [
              "\n",
              "  <div id=\"df-f38e53fb-89bb-49ac-a485-d73bd24ef4e6\">\n",
              "    <div class=\"colab-df-container\">\n",
              "      <div>\n",
              "<style scoped>\n",
              "    .dataframe tbody tr th:only-of-type {\n",
              "        vertical-align: middle;\n",
              "    }\n",
              "\n",
              "    .dataframe tbody tr th {\n",
              "        vertical-align: top;\n",
              "    }\n",
              "\n",
              "    .dataframe thead th {\n",
              "        text-align: right;\n",
              "    }\n",
              "</style>\n",
              "<table border=\"1\" class=\"dataframe\">\n",
              "  <thead>\n",
              "    <tr style=\"text-align: right;\">\n",
              "      <th></th>\n",
              "      <th>business_code</th>\n",
              "      <th>cust_number</th>\n",
              "      <th>name_customer</th>\n",
              "      <th>clear_date</th>\n",
              "      <th>buisness_year</th>\n",
              "      <th>document_create_date.1</th>\n",
              "      <th>due_in_date</th>\n",
              "      <th>invoice_currency</th>\n",
              "      <th>total_open_amount</th>\n",
              "      <th>baseline_create_date</th>\n",
              "      <th>cust_payment_terms</th>\n",
              "      <th>delay</th>\n",
              "    </tr>\n",
              "  </thead>\n",
              "  <tbody>\n",
              "    <tr>\n",
              "      <th>0</th>\n",
              "      <td>U001</td>\n",
              "      <td>0200769623</td>\n",
              "      <td>WAL-MAR trust</td>\n",
              "      <td>2019-01-09</td>\n",
              "      <td>2019.0</td>\n",
              "      <td>2018-12-30</td>\n",
              "      <td>2019-01-14</td>\n",
              "      <td>USD</td>\n",
              "      <td>14902.13</td>\n",
              "      <td>2018-12-30</td>\n",
              "      <td>NAH4</td>\n",
              "      <td>-5</td>\n",
              "    </tr>\n",
              "    <tr>\n",
              "      <th>1</th>\n",
              "      <td>U001</td>\n",
              "      <td>0200769623</td>\n",
              "      <td>WAL-MAR co</td>\n",
              "      <td>2019-01-15</td>\n",
              "      <td>2019.0</td>\n",
              "      <td>2018-12-30</td>\n",
              "      <td>2019-01-14</td>\n",
              "      <td>USD</td>\n",
              "      <td>9081.20</td>\n",
              "      <td>2018-12-30</td>\n",
              "      <td>NAH4</td>\n",
              "      <td>1</td>\n",
              "    </tr>\n",
              "    <tr>\n",
              "      <th>2</th>\n",
              "      <td>U001</td>\n",
              "      <td>0200794332</td>\n",
              "      <td>COST corp</td>\n",
              "      <td>2019-01-14</td>\n",
              "      <td>2019.0</td>\n",
              "      <td>2018-12-30</td>\n",
              "      <td>2019-01-14</td>\n",
              "      <td>USD</td>\n",
              "      <td>32715.47</td>\n",
              "      <td>2018-12-30</td>\n",
              "      <td>NAAX</td>\n",
              "      <td>0</td>\n",
              "    </tr>\n",
              "    <tr>\n",
              "      <th>3</th>\n",
              "      <td>U001</td>\n",
              "      <td>0200723794</td>\n",
              "      <td>MID MO trust</td>\n",
              "      <td>2019-01-14</td>\n",
              "      <td>2019.0</td>\n",
              "      <td>2018-12-30</td>\n",
              "      <td>2019-01-14</td>\n",
              "      <td>USD</td>\n",
              "      <td>169989.59</td>\n",
              "      <td>2018-12-30</td>\n",
              "      <td>NAA8</td>\n",
              "      <td>0</td>\n",
              "    </tr>\n",
              "    <tr>\n",
              "      <th>4</th>\n",
              "      <td>U001</td>\n",
              "      <td>0200726979</td>\n",
              "      <td>BJ'S  systems</td>\n",
              "      <td>2019-01-15</td>\n",
              "      <td>2019.0</td>\n",
              "      <td>2018-12-30</td>\n",
              "      <td>2019-01-14</td>\n",
              "      <td>USD</td>\n",
              "      <td>271.96</td>\n",
              "      <td>2018-12-30</td>\n",
              "      <td>NAA8</td>\n",
              "      <td>1</td>\n",
              "    </tr>\n",
              "    <tr>\n",
              "      <th>...</th>\n",
              "      <td>...</td>\n",
              "      <td>...</td>\n",
              "      <td>...</td>\n",
              "      <td>...</td>\n",
              "      <td>...</td>\n",
              "      <td>...</td>\n",
              "      <td>...</td>\n",
              "      <td>...</td>\n",
              "      <td>...</td>\n",
              "      <td>...</td>\n",
              "      <td>...</td>\n",
              "      <td>...</td>\n",
              "    </tr>\n",
              "    <tr>\n",
              "      <th>26271</th>\n",
              "      <td>U001</td>\n",
              "      <td>0200744707</td>\n",
              "      <td>PERFOR</td>\n",
              "      <td>2020-03-16</td>\n",
              "      <td>2020.0</td>\n",
              "      <td>2020-02-27</td>\n",
              "      <td>2020-03-13</td>\n",
              "      <td>USD</td>\n",
              "      <td>39408.22</td>\n",
              "      <td>2020-02-27</td>\n",
              "      <td>NAA8</td>\n",
              "      <td>3</td>\n",
              "    </tr>\n",
              "    <tr>\n",
              "      <th>26272</th>\n",
              "      <td>U001</td>\n",
              "      <td>0200721222</td>\n",
              "      <td>GO associates</td>\n",
              "      <td>2020-03-13</td>\n",
              "      <td>2020.0</td>\n",
              "      <td>2020-02-27</td>\n",
              "      <td>2020-05-02</td>\n",
              "      <td>USD</td>\n",
              "      <td>10770.76</td>\n",
              "      <td>2020-02-27</td>\n",
              "      <td>NAGD</td>\n",
              "      <td>-50</td>\n",
              "    </tr>\n",
              "    <tr>\n",
              "      <th>26273</th>\n",
              "      <td>U001</td>\n",
              "      <td>0100049079</td>\n",
              "      <td>ESSEX  in</td>\n",
              "      <td>2020-03-19</td>\n",
              "      <td>2020.0</td>\n",
              "      <td>2020-02-27</td>\n",
              "      <td>2020-03-13</td>\n",
              "      <td>USD</td>\n",
              "      <td>14271.00</td>\n",
              "      <td>2020-02-27</td>\n",
              "      <td>NAA8</td>\n",
              "      <td>6</td>\n",
              "    </tr>\n",
              "    <tr>\n",
              "      <th>26274</th>\n",
              "      <td>U001</td>\n",
              "      <td>0200895843</td>\n",
              "      <td>US</td>\n",
              "      <td>2020-03-13</td>\n",
              "      <td>2020.0</td>\n",
              "      <td>2020-02-27</td>\n",
              "      <td>2020-03-13</td>\n",
              "      <td>USD</td>\n",
              "      <td>894.72</td>\n",
              "      <td>2020-02-27</td>\n",
              "      <td>NAA8</td>\n",
              "      <td>0</td>\n",
              "    </tr>\n",
              "    <tr>\n",
              "      <th>26275</th>\n",
              "      <td>U001</td>\n",
              "      <td>0200700919</td>\n",
              "      <td>US  co</td>\n",
              "      <td>2020-03-20</td>\n",
              "      <td>2020.0</td>\n",
              "      <td>2020-02-27</td>\n",
              "      <td>2020-03-18</td>\n",
              "      <td>USD</td>\n",
              "      <td>90195.02</td>\n",
              "      <td>2020-02-27</td>\n",
              "      <td>NAD1</td>\n",
              "      <td>2</td>\n",
              "    </tr>\n",
              "  </tbody>\n",
              "</table>\n",
              "<p>26276 rows × 12 columns</p>\n",
              "</div>\n",
              "      <button class=\"colab-df-convert\" onclick=\"convertToInteractive('df-f38e53fb-89bb-49ac-a485-d73bd24ef4e6')\"\n",
              "              title=\"Convert this dataframe to an interactive table.\"\n",
              "              style=\"display:none;\">\n",
              "        \n",
              "  <svg xmlns=\"http://www.w3.org/2000/svg\" height=\"24px\"viewBox=\"0 0 24 24\"\n",
              "       width=\"24px\">\n",
              "    <path d=\"M0 0h24v24H0V0z\" fill=\"none\"/>\n",
              "    <path d=\"M18.56 5.44l.94 2.06.94-2.06 2.06-.94-2.06-.94-.94-2.06-.94 2.06-2.06.94zm-11 1L8.5 8.5l.94-2.06 2.06-.94-2.06-.94L8.5 2.5l-.94 2.06-2.06.94zm10 10l.94 2.06.94-2.06 2.06-.94-2.06-.94-.94-2.06-.94 2.06-2.06.94z\"/><path d=\"M17.41 7.96l-1.37-1.37c-.4-.4-.92-.59-1.43-.59-.52 0-1.04.2-1.43.59L10.3 9.45l-7.72 7.72c-.78.78-.78 2.05 0 2.83L4 21.41c.39.39.9.59 1.41.59.51 0 1.02-.2 1.41-.59l7.78-7.78 2.81-2.81c.8-.78.8-2.07 0-2.86zM5.41 20L4 18.59l7.72-7.72 1.47 1.35L5.41 20z\"/>\n",
              "  </svg>\n",
              "      </button>\n",
              "      \n",
              "  <style>\n",
              "    .colab-df-container {\n",
              "      display:flex;\n",
              "      flex-wrap:wrap;\n",
              "      gap: 12px;\n",
              "    }\n",
              "\n",
              "    .colab-df-convert {\n",
              "      background-color: #E8F0FE;\n",
              "      border: none;\n",
              "      border-radius: 50%;\n",
              "      cursor: pointer;\n",
              "      display: none;\n",
              "      fill: #1967D2;\n",
              "      height: 32px;\n",
              "      padding: 0 0 0 0;\n",
              "      width: 32px;\n",
              "    }\n",
              "\n",
              "    .colab-df-convert:hover {\n",
              "      background-color: #E2EBFA;\n",
              "      box-shadow: 0px 1px 2px rgba(60, 64, 67, 0.3), 0px 1px 3px 1px rgba(60, 64, 67, 0.15);\n",
              "      fill: #174EA6;\n",
              "    }\n",
              "\n",
              "    [theme=dark] .colab-df-convert {\n",
              "      background-color: #3B4455;\n",
              "      fill: #D2E3FC;\n",
              "    }\n",
              "\n",
              "    [theme=dark] .colab-df-convert:hover {\n",
              "      background-color: #434B5C;\n",
              "      box-shadow: 0px 1px 3px 1px rgba(0, 0, 0, 0.15);\n",
              "      filter: drop-shadow(0px 1px 2px rgba(0, 0, 0, 0.3));\n",
              "      fill: #FFFFFF;\n",
              "    }\n",
              "  </style>\n",
              "\n",
              "      <script>\n",
              "        const buttonEl =\n",
              "          document.querySelector('#df-f38e53fb-89bb-49ac-a485-d73bd24ef4e6 button.colab-df-convert');\n",
              "        buttonEl.style.display =\n",
              "          google.colab.kernel.accessAllowed ? 'block' : 'none';\n",
              "\n",
              "        async function convertToInteractive(key) {\n",
              "          const element = document.querySelector('#df-f38e53fb-89bb-49ac-a485-d73bd24ef4e6');\n",
              "          const dataTable =\n",
              "            await google.colab.kernel.invokeFunction('convertToInteractive',\n",
              "                                                     [key], {});\n",
              "          if (!dataTable) return;\n",
              "\n",
              "          const docLinkHtml = 'Like what you see? Visit the ' +\n",
              "            '<a target=\"_blank\" href=https://colab.research.google.com/notebooks/data_table.ipynb>data table notebook</a>'\n",
              "            + ' to learn more about interactive tables.';\n",
              "          element.innerHTML = '';\n",
              "          dataTable['output_type'] = 'display_data';\n",
              "          await google.colab.output.renderOutput(dataTable, element);\n",
              "          const docLink = document.createElement('div');\n",
              "          docLink.innerHTML = docLinkHtml;\n",
              "          element.appendChild(docLink);\n",
              "        }\n",
              "      </script>\n",
              "    </div>\n",
              "  </div>\n",
              "  "
            ]
          },
          "metadata": {},
          "execution_count": 35
        }
      ],
      "source": [
        "train_data2 = df[df.clear_date.notnull()].reset_index() #train set on non-null clear date\n",
        "train_data2.drop(columns=['index'],inplace=True)\n",
        "train_data2"
      ]
    },
    {
      "cell_type": "code",
      "execution_count": 36,
      "metadata": {
        "id": "V8k3gMvRlkUT",
        "outputId": "1389912d-58c7-4a56-efad-8543c879b2f6",
        "colab": {
          "base_uri": "https://localhost:8080/"
        }
      },
      "outputs": [
        {
          "output_type": "stream",
          "name": "stdout",
          "text": [
            "2020-01-12 00:00:00\n"
          ]
        },
        {
          "output_type": "execute_result",
          "data": {
            "text/plain": [
              "23553"
            ]
          },
          "metadata": {},
          "execution_count": 36
        }
      ],
      "source": [
        "# Making use of offset to find date 1.5 months prior to 2020-02-27\n",
        "x = train_data2['document_create_date.1'].iloc[-1] - pd.DateOffset(months=1, days=15)\n",
        "y = train_data2['document_create_date.1'].loc[train_data2['document_create_date.1'] <= x].iloc[-1]\n",
        "print(y) \n",
        "train_data2['document_create_date.1'].loc[train_data2['document_create_date.1'] == y].last_valid_index()"
      ]
    },
    {
      "cell_type": "markdown",
      "metadata": {
        "id": "g-J0gWzrlkUU"
      },
      "source": [
        "This gives the date which is 1.5 months prior to 2020-02-27.\n",
        "\n",
        "val2 will start from 2020-01-13 to 2020-02-27"
      ]
    },
    {
      "cell_type": "code",
      "execution_count": 37,
      "metadata": {
        "id": "ic5p-fD0lkUU",
        "outputId": "4ba7bcfe-414c-444c-c2d2-e5d3bffdd068",
        "colab": {
          "base_uri": "https://localhost:8080/",
          "height": 49
        }
      },
      "outputs": [
        {
          "output_type": "execute_result",
          "data": {
            "text/plain": [
              "Empty DataFrame\n",
              "Columns: [business_code, cust_number, name_customer, clear_date, buisness_year, document_create_date.1, due_in_date, invoice_currency, total_open_amount, baseline_create_date, cust_payment_terms, delay]\n",
              "Index: []"
            ],
            "text/html": [
              "\n",
              "  <div id=\"df-8c1fa008-6be4-46cc-a2a7-cbb04690c06a\">\n",
              "    <div class=\"colab-df-container\">\n",
              "      <div>\n",
              "<style scoped>\n",
              "    .dataframe tbody tr th:only-of-type {\n",
              "        vertical-align: middle;\n",
              "    }\n",
              "\n",
              "    .dataframe tbody tr th {\n",
              "        vertical-align: top;\n",
              "    }\n",
              "\n",
              "    .dataframe thead th {\n",
              "        text-align: right;\n",
              "    }\n",
              "</style>\n",
              "<table border=\"1\" class=\"dataframe\">\n",
              "  <thead>\n",
              "    <tr style=\"text-align: right;\">\n",
              "      <th></th>\n",
              "      <th>business_code</th>\n",
              "      <th>cust_number</th>\n",
              "      <th>name_customer</th>\n",
              "      <th>clear_date</th>\n",
              "      <th>buisness_year</th>\n",
              "      <th>document_create_date.1</th>\n",
              "      <th>due_in_date</th>\n",
              "      <th>invoice_currency</th>\n",
              "      <th>total_open_amount</th>\n",
              "      <th>baseline_create_date</th>\n",
              "      <th>cust_payment_terms</th>\n",
              "      <th>delay</th>\n",
              "    </tr>\n",
              "  </thead>\n",
              "  <tbody>\n",
              "  </tbody>\n",
              "</table>\n",
              "</div>\n",
              "      <button class=\"colab-df-convert\" onclick=\"convertToInteractive('df-8c1fa008-6be4-46cc-a2a7-cbb04690c06a')\"\n",
              "              title=\"Convert this dataframe to an interactive table.\"\n",
              "              style=\"display:none;\">\n",
              "        \n",
              "  <svg xmlns=\"http://www.w3.org/2000/svg\" height=\"24px\"viewBox=\"0 0 24 24\"\n",
              "       width=\"24px\">\n",
              "    <path d=\"M0 0h24v24H0V0z\" fill=\"none\"/>\n",
              "    <path d=\"M18.56 5.44l.94 2.06.94-2.06 2.06-.94-2.06-.94-.94-2.06-.94 2.06-2.06.94zm-11 1L8.5 8.5l.94-2.06 2.06-.94-2.06-.94L8.5 2.5l-.94 2.06-2.06.94zm10 10l.94 2.06.94-2.06 2.06-.94-2.06-.94-.94-2.06-.94 2.06-2.06.94z\"/><path d=\"M17.41 7.96l-1.37-1.37c-.4-.4-.92-.59-1.43-.59-.52 0-1.04.2-1.43.59L10.3 9.45l-7.72 7.72c-.78.78-.78 2.05 0 2.83L4 21.41c.39.39.9.59 1.41.59.51 0 1.02-.2 1.41-.59l7.78-7.78 2.81-2.81c.8-.78.8-2.07 0-2.86zM5.41 20L4 18.59l7.72-7.72 1.47 1.35L5.41 20z\"/>\n",
              "  </svg>\n",
              "      </button>\n",
              "      \n",
              "  <style>\n",
              "    .colab-df-container {\n",
              "      display:flex;\n",
              "      flex-wrap:wrap;\n",
              "      gap: 12px;\n",
              "    }\n",
              "\n",
              "    .colab-df-convert {\n",
              "      background-color: #E8F0FE;\n",
              "      border: none;\n",
              "      border-radius: 50%;\n",
              "      cursor: pointer;\n",
              "      display: none;\n",
              "      fill: #1967D2;\n",
              "      height: 32px;\n",
              "      padding: 0 0 0 0;\n",
              "      width: 32px;\n",
              "    }\n",
              "\n",
              "    .colab-df-convert:hover {\n",
              "      background-color: #E2EBFA;\n",
              "      box-shadow: 0px 1px 2px rgba(60, 64, 67, 0.3), 0px 1px 3px 1px rgba(60, 64, 67, 0.15);\n",
              "      fill: #174EA6;\n",
              "    }\n",
              "\n",
              "    [theme=dark] .colab-df-convert {\n",
              "      background-color: #3B4455;\n",
              "      fill: #D2E3FC;\n",
              "    }\n",
              "\n",
              "    [theme=dark] .colab-df-convert:hover {\n",
              "      background-color: #434B5C;\n",
              "      box-shadow: 0px 1px 3px 1px rgba(0, 0, 0, 0.15);\n",
              "      filter: drop-shadow(0px 1px 2px rgba(0, 0, 0, 0.3));\n",
              "      fill: #FFFFFF;\n",
              "    }\n",
              "  </style>\n",
              "\n",
              "      <script>\n",
              "        const buttonEl =\n",
              "          document.querySelector('#df-8c1fa008-6be4-46cc-a2a7-cbb04690c06a button.colab-df-convert');\n",
              "        buttonEl.style.display =\n",
              "          google.colab.kernel.accessAllowed ? 'block' : 'none';\n",
              "\n",
              "        async function convertToInteractive(key) {\n",
              "          const element = document.querySelector('#df-8c1fa008-6be4-46cc-a2a7-cbb04690c06a');\n",
              "          const dataTable =\n",
              "            await google.colab.kernel.invokeFunction('convertToInteractive',\n",
              "                                                     [key], {});\n",
              "          if (!dataTable) return;\n",
              "\n",
              "          const docLinkHtml = 'Like what you see? Visit the ' +\n",
              "            '<a target=\"_blank\" href=https://colab.research.google.com/notebooks/data_table.ipynb>data table notebook</a>'\n",
              "            + ' to learn more about interactive tables.';\n",
              "          element.innerHTML = '';\n",
              "          dataTable['output_type'] = 'display_data';\n",
              "          await google.colab.output.renderOutput(dataTable, element);\n",
              "          const docLink = document.createElement('div');\n",
              "          docLink.innerHTML = docLinkHtml;\n",
              "          element.appendChild(docLink);\n",
              "        }\n",
              "      </script>\n",
              "    </div>\n",
              "  </div>\n",
              "  "
            ]
          },
          "metadata": {},
          "execution_count": 37
        }
      ],
      "source": [
        "# dataframe for val2\n",
        "val2 = train_data2.iloc[40519: , :].copy()\n",
        "val2.reset_index(drop=True,inplace=True)\n",
        "val2"
      ]
    },
    {
      "cell_type": "markdown",
      "metadata": {
        "id": "F9Xwycc0lkUU"
      },
      "source": [
        "Removing val2 from train_data2 and storing into new dataframe to extract val1."
      ]
    },
    {
      "cell_type": "code",
      "execution_count": 38,
      "metadata": {
        "id": "1ibITrG0lkUU",
        "outputId": "08f7b748-8b63-4d80-d71c-9c2590b15084",
        "colab": {
          "base_uri": "https://localhost:8080/",
          "height": 424
        }
      },
      "outputs": [
        {
          "output_type": "execute_result",
          "data": {
            "text/plain": [
              "      business_code cust_number  name_customer clear_date  buisness_year  \\\n",
              "0              U001  0200769623  WAL-MAR trust 2019-01-09         2019.0   \n",
              "1              U001  0200769623     WAL-MAR co 2019-01-15         2019.0   \n",
              "2              U001  0200794332      COST corp 2019-01-14         2019.0   \n",
              "3              U001  0200723794   MID MO trust 2019-01-14         2019.0   \n",
              "4              U001  0200726979  BJ'S  systems 2019-01-15         2019.0   \n",
              "...             ...         ...            ...        ...            ...   \n",
              "26271          U001  0200744707        PERFOR  2020-03-16         2020.0   \n",
              "26272          U001  0200721222  GO associates 2020-03-13         2020.0   \n",
              "26273          U001  0100049079      ESSEX  in 2020-03-19         2020.0   \n",
              "26274          U001  0200895843           US   2020-03-13         2020.0   \n",
              "26275          U001  0200700919         US  co 2020-03-20         2020.0   \n",
              "\n",
              "      document_create_date.1 due_in_date invoice_currency  total_open_amount  \\\n",
              "0                 2018-12-30  2019-01-14              USD           14902.13   \n",
              "1                 2018-12-30  2019-01-14              USD            9081.20   \n",
              "2                 2018-12-30  2019-01-14              USD           32715.47   \n",
              "3                 2018-12-30  2019-01-14              USD          169989.59   \n",
              "4                 2018-12-30  2019-01-14              USD             271.96   \n",
              "...                      ...         ...              ...                ...   \n",
              "26271             2020-02-27  2020-03-13              USD           39408.22   \n",
              "26272             2020-02-27  2020-05-02              USD           10770.76   \n",
              "26273             2020-02-27  2020-03-13              USD           14271.00   \n",
              "26274             2020-02-27  2020-03-13              USD             894.72   \n",
              "26275             2020-02-27  2020-03-18              USD           90195.02   \n",
              "\n",
              "      baseline_create_date cust_payment_terms  delay  \n",
              "0               2018-12-30               NAH4     -5  \n",
              "1               2018-12-30               NAH4      1  \n",
              "2               2018-12-30               NAAX      0  \n",
              "3               2018-12-30               NAA8      0  \n",
              "4               2018-12-30               NAA8      1  \n",
              "...                    ...                ...    ...  \n",
              "26271           2020-02-27               NAA8      3  \n",
              "26272           2020-02-27               NAGD    -50  \n",
              "26273           2020-02-27               NAA8      6  \n",
              "26274           2020-02-27               NAA8      0  \n",
              "26275           2020-02-27               NAD1      2  \n",
              "\n",
              "[26260 rows x 12 columns]"
            ],
            "text/html": [
              "\n",
              "  <div id=\"df-121624bb-cc82-46d5-8757-d299667ed21b\">\n",
              "    <div class=\"colab-df-container\">\n",
              "      <div>\n",
              "<style scoped>\n",
              "    .dataframe tbody tr th:only-of-type {\n",
              "        vertical-align: middle;\n",
              "    }\n",
              "\n",
              "    .dataframe tbody tr th {\n",
              "        vertical-align: top;\n",
              "    }\n",
              "\n",
              "    .dataframe thead th {\n",
              "        text-align: right;\n",
              "    }\n",
              "</style>\n",
              "<table border=\"1\" class=\"dataframe\">\n",
              "  <thead>\n",
              "    <tr style=\"text-align: right;\">\n",
              "      <th></th>\n",
              "      <th>business_code</th>\n",
              "      <th>cust_number</th>\n",
              "      <th>name_customer</th>\n",
              "      <th>clear_date</th>\n",
              "      <th>buisness_year</th>\n",
              "      <th>document_create_date.1</th>\n",
              "      <th>due_in_date</th>\n",
              "      <th>invoice_currency</th>\n",
              "      <th>total_open_amount</th>\n",
              "      <th>baseline_create_date</th>\n",
              "      <th>cust_payment_terms</th>\n",
              "      <th>delay</th>\n",
              "    </tr>\n",
              "  </thead>\n",
              "  <tbody>\n",
              "    <tr>\n",
              "      <th>0</th>\n",
              "      <td>U001</td>\n",
              "      <td>0200769623</td>\n",
              "      <td>WAL-MAR trust</td>\n",
              "      <td>2019-01-09</td>\n",
              "      <td>2019.0</td>\n",
              "      <td>2018-12-30</td>\n",
              "      <td>2019-01-14</td>\n",
              "      <td>USD</td>\n",
              "      <td>14902.13</td>\n",
              "      <td>2018-12-30</td>\n",
              "      <td>NAH4</td>\n",
              "      <td>-5</td>\n",
              "    </tr>\n",
              "    <tr>\n",
              "      <th>1</th>\n",
              "      <td>U001</td>\n",
              "      <td>0200769623</td>\n",
              "      <td>WAL-MAR co</td>\n",
              "      <td>2019-01-15</td>\n",
              "      <td>2019.0</td>\n",
              "      <td>2018-12-30</td>\n",
              "      <td>2019-01-14</td>\n",
              "      <td>USD</td>\n",
              "      <td>9081.20</td>\n",
              "      <td>2018-12-30</td>\n",
              "      <td>NAH4</td>\n",
              "      <td>1</td>\n",
              "    </tr>\n",
              "    <tr>\n",
              "      <th>2</th>\n",
              "      <td>U001</td>\n",
              "      <td>0200794332</td>\n",
              "      <td>COST corp</td>\n",
              "      <td>2019-01-14</td>\n",
              "      <td>2019.0</td>\n",
              "      <td>2018-12-30</td>\n",
              "      <td>2019-01-14</td>\n",
              "      <td>USD</td>\n",
              "      <td>32715.47</td>\n",
              "      <td>2018-12-30</td>\n",
              "      <td>NAAX</td>\n",
              "      <td>0</td>\n",
              "    </tr>\n",
              "    <tr>\n",
              "      <th>3</th>\n",
              "      <td>U001</td>\n",
              "      <td>0200723794</td>\n",
              "      <td>MID MO trust</td>\n",
              "      <td>2019-01-14</td>\n",
              "      <td>2019.0</td>\n",
              "      <td>2018-12-30</td>\n",
              "      <td>2019-01-14</td>\n",
              "      <td>USD</td>\n",
              "      <td>169989.59</td>\n",
              "      <td>2018-12-30</td>\n",
              "      <td>NAA8</td>\n",
              "      <td>0</td>\n",
              "    </tr>\n",
              "    <tr>\n",
              "      <th>4</th>\n",
              "      <td>U001</td>\n",
              "      <td>0200726979</td>\n",
              "      <td>BJ'S  systems</td>\n",
              "      <td>2019-01-15</td>\n",
              "      <td>2019.0</td>\n",
              "      <td>2018-12-30</td>\n",
              "      <td>2019-01-14</td>\n",
              "      <td>USD</td>\n",
              "      <td>271.96</td>\n",
              "      <td>2018-12-30</td>\n",
              "      <td>NAA8</td>\n",
              "      <td>1</td>\n",
              "    </tr>\n",
              "    <tr>\n",
              "      <th>...</th>\n",
              "      <td>...</td>\n",
              "      <td>...</td>\n",
              "      <td>...</td>\n",
              "      <td>...</td>\n",
              "      <td>...</td>\n",
              "      <td>...</td>\n",
              "      <td>...</td>\n",
              "      <td>...</td>\n",
              "      <td>...</td>\n",
              "      <td>...</td>\n",
              "      <td>...</td>\n",
              "      <td>...</td>\n",
              "    </tr>\n",
              "    <tr>\n",
              "      <th>26271</th>\n",
              "      <td>U001</td>\n",
              "      <td>0200744707</td>\n",
              "      <td>PERFOR</td>\n",
              "      <td>2020-03-16</td>\n",
              "      <td>2020.0</td>\n",
              "      <td>2020-02-27</td>\n",
              "      <td>2020-03-13</td>\n",
              "      <td>USD</td>\n",
              "      <td>39408.22</td>\n",
              "      <td>2020-02-27</td>\n",
              "      <td>NAA8</td>\n",
              "      <td>3</td>\n",
              "    </tr>\n",
              "    <tr>\n",
              "      <th>26272</th>\n",
              "      <td>U001</td>\n",
              "      <td>0200721222</td>\n",
              "      <td>GO associates</td>\n",
              "      <td>2020-03-13</td>\n",
              "      <td>2020.0</td>\n",
              "      <td>2020-02-27</td>\n",
              "      <td>2020-05-02</td>\n",
              "      <td>USD</td>\n",
              "      <td>10770.76</td>\n",
              "      <td>2020-02-27</td>\n",
              "      <td>NAGD</td>\n",
              "      <td>-50</td>\n",
              "    </tr>\n",
              "    <tr>\n",
              "      <th>26273</th>\n",
              "      <td>U001</td>\n",
              "      <td>0100049079</td>\n",
              "      <td>ESSEX  in</td>\n",
              "      <td>2020-03-19</td>\n",
              "      <td>2020.0</td>\n",
              "      <td>2020-02-27</td>\n",
              "      <td>2020-03-13</td>\n",
              "      <td>USD</td>\n",
              "      <td>14271.00</td>\n",
              "      <td>2020-02-27</td>\n",
              "      <td>NAA8</td>\n",
              "      <td>6</td>\n",
              "    </tr>\n",
              "    <tr>\n",
              "      <th>26274</th>\n",
              "      <td>U001</td>\n",
              "      <td>0200895843</td>\n",
              "      <td>US</td>\n",
              "      <td>2020-03-13</td>\n",
              "      <td>2020.0</td>\n",
              "      <td>2020-02-27</td>\n",
              "      <td>2020-03-13</td>\n",
              "      <td>USD</td>\n",
              "      <td>894.72</td>\n",
              "      <td>2020-02-27</td>\n",
              "      <td>NAA8</td>\n",
              "      <td>0</td>\n",
              "    </tr>\n",
              "    <tr>\n",
              "      <th>26275</th>\n",
              "      <td>U001</td>\n",
              "      <td>0200700919</td>\n",
              "      <td>US  co</td>\n",
              "      <td>2020-03-20</td>\n",
              "      <td>2020.0</td>\n",
              "      <td>2020-02-27</td>\n",
              "      <td>2020-03-18</td>\n",
              "      <td>USD</td>\n",
              "      <td>90195.02</td>\n",
              "      <td>2020-02-27</td>\n",
              "      <td>NAD1</td>\n",
              "      <td>2</td>\n",
              "    </tr>\n",
              "  </tbody>\n",
              "</table>\n",
              "<p>26260 rows × 12 columns</p>\n",
              "</div>\n",
              "      <button class=\"colab-df-convert\" onclick=\"convertToInteractive('df-121624bb-cc82-46d5-8757-d299667ed21b')\"\n",
              "              title=\"Convert this dataframe to an interactive table.\"\n",
              "              style=\"display:none;\">\n",
              "        \n",
              "  <svg xmlns=\"http://www.w3.org/2000/svg\" height=\"24px\"viewBox=\"0 0 24 24\"\n",
              "       width=\"24px\">\n",
              "    <path d=\"M0 0h24v24H0V0z\" fill=\"none\"/>\n",
              "    <path d=\"M18.56 5.44l.94 2.06.94-2.06 2.06-.94-2.06-.94-.94-2.06-.94 2.06-2.06.94zm-11 1L8.5 8.5l.94-2.06 2.06-.94-2.06-.94L8.5 2.5l-.94 2.06-2.06.94zm10 10l.94 2.06.94-2.06 2.06-.94-2.06-.94-.94-2.06-.94 2.06-2.06.94z\"/><path d=\"M17.41 7.96l-1.37-1.37c-.4-.4-.92-.59-1.43-.59-.52 0-1.04.2-1.43.59L10.3 9.45l-7.72 7.72c-.78.78-.78 2.05 0 2.83L4 21.41c.39.39.9.59 1.41.59.51 0 1.02-.2 1.41-.59l7.78-7.78 2.81-2.81c.8-.78.8-2.07 0-2.86zM5.41 20L4 18.59l7.72-7.72 1.47 1.35L5.41 20z\"/>\n",
              "  </svg>\n",
              "      </button>\n",
              "      \n",
              "  <style>\n",
              "    .colab-df-container {\n",
              "      display:flex;\n",
              "      flex-wrap:wrap;\n",
              "      gap: 12px;\n",
              "    }\n",
              "\n",
              "    .colab-df-convert {\n",
              "      background-color: #E8F0FE;\n",
              "      border: none;\n",
              "      border-radius: 50%;\n",
              "      cursor: pointer;\n",
              "      display: none;\n",
              "      fill: #1967D2;\n",
              "      height: 32px;\n",
              "      padding: 0 0 0 0;\n",
              "      width: 32px;\n",
              "    }\n",
              "\n",
              "    .colab-df-convert:hover {\n",
              "      background-color: #E2EBFA;\n",
              "      box-shadow: 0px 1px 2px rgba(60, 64, 67, 0.3), 0px 1px 3px 1px rgba(60, 64, 67, 0.15);\n",
              "      fill: #174EA6;\n",
              "    }\n",
              "\n",
              "    [theme=dark] .colab-df-convert {\n",
              "      background-color: #3B4455;\n",
              "      fill: #D2E3FC;\n",
              "    }\n",
              "\n",
              "    [theme=dark] .colab-df-convert:hover {\n",
              "      background-color: #434B5C;\n",
              "      box-shadow: 0px 1px 3px 1px rgba(0, 0, 0, 0.15);\n",
              "      filter: drop-shadow(0px 1px 2px rgba(0, 0, 0, 0.3));\n",
              "      fill: #FFFFFF;\n",
              "    }\n",
              "  </style>\n",
              "\n",
              "      <script>\n",
              "        const buttonEl =\n",
              "          document.querySelector('#df-121624bb-cc82-46d5-8757-d299667ed21b button.colab-df-convert');\n",
              "        buttonEl.style.display =\n",
              "          google.colab.kernel.accessAllowed ? 'block' : 'none';\n",
              "\n",
              "        async function convertToInteractive(key) {\n",
              "          const element = document.querySelector('#df-121624bb-cc82-46d5-8757-d299667ed21b');\n",
              "          const dataTable =\n",
              "            await google.colab.kernel.invokeFunction('convertToInteractive',\n",
              "                                                     [key], {});\n",
              "          if (!dataTable) return;\n",
              "\n",
              "          const docLinkHtml = 'Like what you see? Visit the ' +\n",
              "            '<a target=\"_blank\" href=https://colab.research.google.com/notebooks/data_table.ipynb>data table notebook</a>'\n",
              "            + ' to learn more about interactive tables.';\n",
              "          element.innerHTML = '';\n",
              "          dataTable['output_type'] = 'display_data';\n",
              "          await google.colab.output.renderOutput(dataTable, element);\n",
              "          const docLink = document.createElement('div');\n",
              "          docLink.innerHTML = docLinkHtml;\n",
              "          element.appendChild(docLink);\n",
              "        }\n",
              "      </script>\n",
              "    </div>\n",
              "  </div>\n",
              "  "
            ]
          },
          "metadata": {},
          "execution_count": 38
        }
      ],
      "source": [
        "train_data1 = pd.concat([train_data2, val2]).drop_duplicates(keep=False)\n",
        "train_data1"
      ]
    },
    {
      "cell_type": "code",
      "execution_count": 39,
      "metadata": {
        "id": "TWXy33PqlkUV",
        "outputId": "b4a14c18-ebd8-4d85-ce51-43c298366892",
        "colab": {
          "base_uri": "https://localhost:8080/"
        }
      },
      "outputs": [
        {
          "output_type": "stream",
          "name": "stdout",
          "text": [
            "2020-01-12 00:00:00\n"
          ]
        },
        {
          "output_type": "execute_result",
          "data": {
            "text/plain": [
              "23553"
            ]
          },
          "metadata": {},
          "execution_count": 39
        }
      ],
      "source": [
        "x2 = train_data1['document_create_date.1'].iloc[-1] - pd.DateOffset(months=1, days=15)\n",
        "y2 = train_data1['document_create_date.1'].loc[train_data1['document_create_date.1'] <= x2].iloc[-1]\n",
        "print(y2)\n",
        "train_data1['document_create_date.1'].loc[train_data1['document_create_date.1'] == y2].last_valid_index() "
      ]
    },
    {
      "cell_type": "markdown",
      "metadata": {
        "id": "d86UOZIGlkUV"
      },
      "source": [
        "This gives the date which is 1.5 months prior to 2020-01-13 (start of val2).\n",
        "\n",
        "val1 will start from 2019-11-28 to 2020-01-12."
      ]
    },
    {
      "cell_type": "code",
      "execution_count": 40,
      "metadata": {
        "id": "FN_CRTzPlkUV",
        "outputId": "3f5117d9-a9d6-4591-cdb6-0ed7b7296dda",
        "colab": {
          "base_uri": "https://localhost:8080/",
          "height": 49
        }
      },
      "outputs": [
        {
          "output_type": "execute_result",
          "data": {
            "text/plain": [
              "Empty DataFrame\n",
              "Columns: [business_code, cust_number, name_customer, clear_date, buisness_year, document_create_date.1, due_in_date, invoice_currency, total_open_amount, baseline_create_date, cust_payment_terms, delay]\n",
              "Index: []"
            ],
            "text/html": [
              "\n",
              "  <div id=\"df-c23a4777-265c-46db-9196-24aa7e117a4e\">\n",
              "    <div class=\"colab-df-container\">\n",
              "      <div>\n",
              "<style scoped>\n",
              "    .dataframe tbody tr th:only-of-type {\n",
              "        vertical-align: middle;\n",
              "    }\n",
              "\n",
              "    .dataframe tbody tr th {\n",
              "        vertical-align: top;\n",
              "    }\n",
              "\n",
              "    .dataframe thead th {\n",
              "        text-align: right;\n",
              "    }\n",
              "</style>\n",
              "<table border=\"1\" class=\"dataframe\">\n",
              "  <thead>\n",
              "    <tr style=\"text-align: right;\">\n",
              "      <th></th>\n",
              "      <th>business_code</th>\n",
              "      <th>cust_number</th>\n",
              "      <th>name_customer</th>\n",
              "      <th>clear_date</th>\n",
              "      <th>buisness_year</th>\n",
              "      <th>document_create_date.1</th>\n",
              "      <th>due_in_date</th>\n",
              "      <th>invoice_currency</th>\n",
              "      <th>total_open_amount</th>\n",
              "      <th>baseline_create_date</th>\n",
              "      <th>cust_payment_terms</th>\n",
              "      <th>delay</th>\n",
              "    </tr>\n",
              "  </thead>\n",
              "  <tbody>\n",
              "  </tbody>\n",
              "</table>\n",
              "</div>\n",
              "      <button class=\"colab-df-convert\" onclick=\"convertToInteractive('df-c23a4777-265c-46db-9196-24aa7e117a4e')\"\n",
              "              title=\"Convert this dataframe to an interactive table.\"\n",
              "              style=\"display:none;\">\n",
              "        \n",
              "  <svg xmlns=\"http://www.w3.org/2000/svg\" height=\"24px\"viewBox=\"0 0 24 24\"\n",
              "       width=\"24px\">\n",
              "    <path d=\"M0 0h24v24H0V0z\" fill=\"none\"/>\n",
              "    <path d=\"M18.56 5.44l.94 2.06.94-2.06 2.06-.94-2.06-.94-.94-2.06-.94 2.06-2.06.94zm-11 1L8.5 8.5l.94-2.06 2.06-.94-2.06-.94L8.5 2.5l-.94 2.06-2.06.94zm10 10l.94 2.06.94-2.06 2.06-.94-2.06-.94-.94-2.06-.94 2.06-2.06.94z\"/><path d=\"M17.41 7.96l-1.37-1.37c-.4-.4-.92-.59-1.43-.59-.52 0-1.04.2-1.43.59L10.3 9.45l-7.72 7.72c-.78.78-.78 2.05 0 2.83L4 21.41c.39.39.9.59 1.41.59.51 0 1.02-.2 1.41-.59l7.78-7.78 2.81-2.81c.8-.78.8-2.07 0-2.86zM5.41 20L4 18.59l7.72-7.72 1.47 1.35L5.41 20z\"/>\n",
              "  </svg>\n",
              "      </button>\n",
              "      \n",
              "  <style>\n",
              "    .colab-df-container {\n",
              "      display:flex;\n",
              "      flex-wrap:wrap;\n",
              "      gap: 12px;\n",
              "    }\n",
              "\n",
              "    .colab-df-convert {\n",
              "      background-color: #E8F0FE;\n",
              "      border: none;\n",
              "      border-radius: 50%;\n",
              "      cursor: pointer;\n",
              "      display: none;\n",
              "      fill: #1967D2;\n",
              "      height: 32px;\n",
              "      padding: 0 0 0 0;\n",
              "      width: 32px;\n",
              "    }\n",
              "\n",
              "    .colab-df-convert:hover {\n",
              "      background-color: #E2EBFA;\n",
              "      box-shadow: 0px 1px 2px rgba(60, 64, 67, 0.3), 0px 1px 3px 1px rgba(60, 64, 67, 0.15);\n",
              "      fill: #174EA6;\n",
              "    }\n",
              "\n",
              "    [theme=dark] .colab-df-convert {\n",
              "      background-color: #3B4455;\n",
              "      fill: #D2E3FC;\n",
              "    }\n",
              "\n",
              "    [theme=dark] .colab-df-convert:hover {\n",
              "      background-color: #434B5C;\n",
              "      box-shadow: 0px 1px 3px 1px rgba(0, 0, 0, 0.15);\n",
              "      filter: drop-shadow(0px 1px 2px rgba(0, 0, 0, 0.3));\n",
              "      fill: #FFFFFF;\n",
              "    }\n",
              "  </style>\n",
              "\n",
              "      <script>\n",
              "        const buttonEl =\n",
              "          document.querySelector('#df-c23a4777-265c-46db-9196-24aa7e117a4e button.colab-df-convert');\n",
              "        buttonEl.style.display =\n",
              "          google.colab.kernel.accessAllowed ? 'block' : 'none';\n",
              "\n",
              "        async function convertToInteractive(key) {\n",
              "          const element = document.querySelector('#df-c23a4777-265c-46db-9196-24aa7e117a4e');\n",
              "          const dataTable =\n",
              "            await google.colab.kernel.invokeFunction('convertToInteractive',\n",
              "                                                     [key], {});\n",
              "          if (!dataTable) return;\n",
              "\n",
              "          const docLinkHtml = 'Like what you see? Visit the ' +\n",
              "            '<a target=\"_blank\" href=https://colab.research.google.com/notebooks/data_table.ipynb>data table notebook</a>'\n",
              "            + ' to learn more about interactive tables.';\n",
              "          element.innerHTML = '';\n",
              "          dataTable['output_type'] = 'display_data';\n",
              "          await google.colab.output.renderOutput(dataTable, element);\n",
              "          const docLink = document.createElement('div');\n",
              "          docLink.innerHTML = docLinkHtml;\n",
              "          element.appendChild(docLink);\n",
              "        }\n",
              "      </script>\n",
              "    </div>\n",
              "  </div>\n",
              "  "
            ]
          },
          "metadata": {},
          "execution_count": 40
        }
      ],
      "source": [
        "val1 = train_data1.iloc[37251: , :].copy()\n",
        "val1.reset_index(drop=True,inplace=True)\n",
        "val1"
      ]
    },
    {
      "cell_type": "markdown",
      "metadata": {
        "id": "rL1HG-4FlkUW"
      },
      "source": [
        "Removing val1 from the dataframe and making the final train set."
      ]
    },
    {
      "cell_type": "code",
      "execution_count": 41,
      "metadata": {
        "id": "YvZzGJcllkUW",
        "outputId": "18006785-3321-493b-e64b-609d17c1b6fb",
        "colab": {
          "base_uri": "https://localhost:8080/",
          "height": 424
        }
      },
      "outputs": [
        {
          "output_type": "execute_result",
          "data": {
            "text/plain": [
              "      business_code cust_number  name_customer clear_date  buisness_year  \\\n",
              "0              U001  0200769623  WAL-MAR trust 2019-01-09         2019.0   \n",
              "1              U001  0200769623     WAL-MAR co 2019-01-15         2019.0   \n",
              "2              U001  0200794332      COST corp 2019-01-14         2019.0   \n",
              "3              U001  0200723794   MID MO trust 2019-01-14         2019.0   \n",
              "4              U001  0200726979  BJ'S  systems 2019-01-15         2019.0   \n",
              "...             ...         ...            ...        ...            ...   \n",
              "26271          U001  0200744707        PERFOR  2020-03-16         2020.0   \n",
              "26272          U001  0200721222  GO associates 2020-03-13         2020.0   \n",
              "26273          U001  0100049079      ESSEX  in 2020-03-19         2020.0   \n",
              "26274          U001  0200895843           US   2020-03-13         2020.0   \n",
              "26275          U001  0200700919         US  co 2020-03-20         2020.0   \n",
              "\n",
              "      document_create_date.1 due_in_date invoice_currency  total_open_amount  \\\n",
              "0                 2018-12-30  2019-01-14              USD           14902.13   \n",
              "1                 2018-12-30  2019-01-14              USD            9081.20   \n",
              "2                 2018-12-30  2019-01-14              USD           32715.47   \n",
              "3                 2018-12-30  2019-01-14              USD          169989.59   \n",
              "4                 2018-12-30  2019-01-14              USD             271.96   \n",
              "...                      ...         ...              ...                ...   \n",
              "26271             2020-02-27  2020-03-13              USD           39408.22   \n",
              "26272             2020-02-27  2020-05-02              USD           10770.76   \n",
              "26273             2020-02-27  2020-03-13              USD           14271.00   \n",
              "26274             2020-02-27  2020-03-13              USD             894.72   \n",
              "26275             2020-02-27  2020-03-18              USD           90195.02   \n",
              "\n",
              "      baseline_create_date cust_payment_terms  delay  \n",
              "0               2018-12-30               NAH4     -5  \n",
              "1               2018-12-30               NAH4      1  \n",
              "2               2018-12-30               NAAX      0  \n",
              "3               2018-12-30               NAA8      0  \n",
              "4               2018-12-30               NAA8      1  \n",
              "...                    ...                ...    ...  \n",
              "26271           2020-02-27               NAA8      3  \n",
              "26272           2020-02-27               NAGD    -50  \n",
              "26273           2020-02-27               NAA8      6  \n",
              "26274           2020-02-27               NAA8      0  \n",
              "26275           2020-02-27               NAD1      2  \n",
              "\n",
              "[26260 rows x 12 columns]"
            ],
            "text/html": [
              "\n",
              "  <div id=\"df-162a1b23-eaa6-4e12-a3f5-a94fbcb88bde\">\n",
              "    <div class=\"colab-df-container\">\n",
              "      <div>\n",
              "<style scoped>\n",
              "    .dataframe tbody tr th:only-of-type {\n",
              "        vertical-align: middle;\n",
              "    }\n",
              "\n",
              "    .dataframe tbody tr th {\n",
              "        vertical-align: top;\n",
              "    }\n",
              "\n",
              "    .dataframe thead th {\n",
              "        text-align: right;\n",
              "    }\n",
              "</style>\n",
              "<table border=\"1\" class=\"dataframe\">\n",
              "  <thead>\n",
              "    <tr style=\"text-align: right;\">\n",
              "      <th></th>\n",
              "      <th>business_code</th>\n",
              "      <th>cust_number</th>\n",
              "      <th>name_customer</th>\n",
              "      <th>clear_date</th>\n",
              "      <th>buisness_year</th>\n",
              "      <th>document_create_date.1</th>\n",
              "      <th>due_in_date</th>\n",
              "      <th>invoice_currency</th>\n",
              "      <th>total_open_amount</th>\n",
              "      <th>baseline_create_date</th>\n",
              "      <th>cust_payment_terms</th>\n",
              "      <th>delay</th>\n",
              "    </tr>\n",
              "  </thead>\n",
              "  <tbody>\n",
              "    <tr>\n",
              "      <th>0</th>\n",
              "      <td>U001</td>\n",
              "      <td>0200769623</td>\n",
              "      <td>WAL-MAR trust</td>\n",
              "      <td>2019-01-09</td>\n",
              "      <td>2019.0</td>\n",
              "      <td>2018-12-30</td>\n",
              "      <td>2019-01-14</td>\n",
              "      <td>USD</td>\n",
              "      <td>14902.13</td>\n",
              "      <td>2018-12-30</td>\n",
              "      <td>NAH4</td>\n",
              "      <td>-5</td>\n",
              "    </tr>\n",
              "    <tr>\n",
              "      <th>1</th>\n",
              "      <td>U001</td>\n",
              "      <td>0200769623</td>\n",
              "      <td>WAL-MAR co</td>\n",
              "      <td>2019-01-15</td>\n",
              "      <td>2019.0</td>\n",
              "      <td>2018-12-30</td>\n",
              "      <td>2019-01-14</td>\n",
              "      <td>USD</td>\n",
              "      <td>9081.20</td>\n",
              "      <td>2018-12-30</td>\n",
              "      <td>NAH4</td>\n",
              "      <td>1</td>\n",
              "    </tr>\n",
              "    <tr>\n",
              "      <th>2</th>\n",
              "      <td>U001</td>\n",
              "      <td>0200794332</td>\n",
              "      <td>COST corp</td>\n",
              "      <td>2019-01-14</td>\n",
              "      <td>2019.0</td>\n",
              "      <td>2018-12-30</td>\n",
              "      <td>2019-01-14</td>\n",
              "      <td>USD</td>\n",
              "      <td>32715.47</td>\n",
              "      <td>2018-12-30</td>\n",
              "      <td>NAAX</td>\n",
              "      <td>0</td>\n",
              "    </tr>\n",
              "    <tr>\n",
              "      <th>3</th>\n",
              "      <td>U001</td>\n",
              "      <td>0200723794</td>\n",
              "      <td>MID MO trust</td>\n",
              "      <td>2019-01-14</td>\n",
              "      <td>2019.0</td>\n",
              "      <td>2018-12-30</td>\n",
              "      <td>2019-01-14</td>\n",
              "      <td>USD</td>\n",
              "      <td>169989.59</td>\n",
              "      <td>2018-12-30</td>\n",
              "      <td>NAA8</td>\n",
              "      <td>0</td>\n",
              "    </tr>\n",
              "    <tr>\n",
              "      <th>4</th>\n",
              "      <td>U001</td>\n",
              "      <td>0200726979</td>\n",
              "      <td>BJ'S  systems</td>\n",
              "      <td>2019-01-15</td>\n",
              "      <td>2019.0</td>\n",
              "      <td>2018-12-30</td>\n",
              "      <td>2019-01-14</td>\n",
              "      <td>USD</td>\n",
              "      <td>271.96</td>\n",
              "      <td>2018-12-30</td>\n",
              "      <td>NAA8</td>\n",
              "      <td>1</td>\n",
              "    </tr>\n",
              "    <tr>\n",
              "      <th>...</th>\n",
              "      <td>...</td>\n",
              "      <td>...</td>\n",
              "      <td>...</td>\n",
              "      <td>...</td>\n",
              "      <td>...</td>\n",
              "      <td>...</td>\n",
              "      <td>...</td>\n",
              "      <td>...</td>\n",
              "      <td>...</td>\n",
              "      <td>...</td>\n",
              "      <td>...</td>\n",
              "      <td>...</td>\n",
              "    </tr>\n",
              "    <tr>\n",
              "      <th>26271</th>\n",
              "      <td>U001</td>\n",
              "      <td>0200744707</td>\n",
              "      <td>PERFOR</td>\n",
              "      <td>2020-03-16</td>\n",
              "      <td>2020.0</td>\n",
              "      <td>2020-02-27</td>\n",
              "      <td>2020-03-13</td>\n",
              "      <td>USD</td>\n",
              "      <td>39408.22</td>\n",
              "      <td>2020-02-27</td>\n",
              "      <td>NAA8</td>\n",
              "      <td>3</td>\n",
              "    </tr>\n",
              "    <tr>\n",
              "      <th>26272</th>\n",
              "      <td>U001</td>\n",
              "      <td>0200721222</td>\n",
              "      <td>GO associates</td>\n",
              "      <td>2020-03-13</td>\n",
              "      <td>2020.0</td>\n",
              "      <td>2020-02-27</td>\n",
              "      <td>2020-05-02</td>\n",
              "      <td>USD</td>\n",
              "      <td>10770.76</td>\n",
              "      <td>2020-02-27</td>\n",
              "      <td>NAGD</td>\n",
              "      <td>-50</td>\n",
              "    </tr>\n",
              "    <tr>\n",
              "      <th>26273</th>\n",
              "      <td>U001</td>\n",
              "      <td>0100049079</td>\n",
              "      <td>ESSEX  in</td>\n",
              "      <td>2020-03-19</td>\n",
              "      <td>2020.0</td>\n",
              "      <td>2020-02-27</td>\n",
              "      <td>2020-03-13</td>\n",
              "      <td>USD</td>\n",
              "      <td>14271.00</td>\n",
              "      <td>2020-02-27</td>\n",
              "      <td>NAA8</td>\n",
              "      <td>6</td>\n",
              "    </tr>\n",
              "    <tr>\n",
              "      <th>26274</th>\n",
              "      <td>U001</td>\n",
              "      <td>0200895843</td>\n",
              "      <td>US</td>\n",
              "      <td>2020-03-13</td>\n",
              "      <td>2020.0</td>\n",
              "      <td>2020-02-27</td>\n",
              "      <td>2020-03-13</td>\n",
              "      <td>USD</td>\n",
              "      <td>894.72</td>\n",
              "      <td>2020-02-27</td>\n",
              "      <td>NAA8</td>\n",
              "      <td>0</td>\n",
              "    </tr>\n",
              "    <tr>\n",
              "      <th>26275</th>\n",
              "      <td>U001</td>\n",
              "      <td>0200700919</td>\n",
              "      <td>US  co</td>\n",
              "      <td>2020-03-20</td>\n",
              "      <td>2020.0</td>\n",
              "      <td>2020-02-27</td>\n",
              "      <td>2020-03-18</td>\n",
              "      <td>USD</td>\n",
              "      <td>90195.02</td>\n",
              "      <td>2020-02-27</td>\n",
              "      <td>NAD1</td>\n",
              "      <td>2</td>\n",
              "    </tr>\n",
              "  </tbody>\n",
              "</table>\n",
              "<p>26260 rows × 12 columns</p>\n",
              "</div>\n",
              "      <button class=\"colab-df-convert\" onclick=\"convertToInteractive('df-162a1b23-eaa6-4e12-a3f5-a94fbcb88bde')\"\n",
              "              title=\"Convert this dataframe to an interactive table.\"\n",
              "              style=\"display:none;\">\n",
              "        \n",
              "  <svg xmlns=\"http://www.w3.org/2000/svg\" height=\"24px\"viewBox=\"0 0 24 24\"\n",
              "       width=\"24px\">\n",
              "    <path d=\"M0 0h24v24H0V0z\" fill=\"none\"/>\n",
              "    <path d=\"M18.56 5.44l.94 2.06.94-2.06 2.06-.94-2.06-.94-.94-2.06-.94 2.06-2.06.94zm-11 1L8.5 8.5l.94-2.06 2.06-.94-2.06-.94L8.5 2.5l-.94 2.06-2.06.94zm10 10l.94 2.06.94-2.06 2.06-.94-2.06-.94-.94-2.06-.94 2.06-2.06.94z\"/><path d=\"M17.41 7.96l-1.37-1.37c-.4-.4-.92-.59-1.43-.59-.52 0-1.04.2-1.43.59L10.3 9.45l-7.72 7.72c-.78.78-.78 2.05 0 2.83L4 21.41c.39.39.9.59 1.41.59.51 0 1.02-.2 1.41-.59l7.78-7.78 2.81-2.81c.8-.78.8-2.07 0-2.86zM5.41 20L4 18.59l7.72-7.72 1.47 1.35L5.41 20z\"/>\n",
              "  </svg>\n",
              "      </button>\n",
              "      \n",
              "  <style>\n",
              "    .colab-df-container {\n",
              "      display:flex;\n",
              "      flex-wrap:wrap;\n",
              "      gap: 12px;\n",
              "    }\n",
              "\n",
              "    .colab-df-convert {\n",
              "      background-color: #E8F0FE;\n",
              "      border: none;\n",
              "      border-radius: 50%;\n",
              "      cursor: pointer;\n",
              "      display: none;\n",
              "      fill: #1967D2;\n",
              "      height: 32px;\n",
              "      padding: 0 0 0 0;\n",
              "      width: 32px;\n",
              "    }\n",
              "\n",
              "    .colab-df-convert:hover {\n",
              "      background-color: #E2EBFA;\n",
              "      box-shadow: 0px 1px 2px rgba(60, 64, 67, 0.3), 0px 1px 3px 1px rgba(60, 64, 67, 0.15);\n",
              "      fill: #174EA6;\n",
              "    }\n",
              "\n",
              "    [theme=dark] .colab-df-convert {\n",
              "      background-color: #3B4455;\n",
              "      fill: #D2E3FC;\n",
              "    }\n",
              "\n",
              "    [theme=dark] .colab-df-convert:hover {\n",
              "      background-color: #434B5C;\n",
              "      box-shadow: 0px 1px 3px 1px rgba(0, 0, 0, 0.15);\n",
              "      filter: drop-shadow(0px 1px 2px rgba(0, 0, 0, 0.3));\n",
              "      fill: #FFFFFF;\n",
              "    }\n",
              "  </style>\n",
              "\n",
              "      <script>\n",
              "        const buttonEl =\n",
              "          document.querySelector('#df-162a1b23-eaa6-4e12-a3f5-a94fbcb88bde button.colab-df-convert');\n",
              "        buttonEl.style.display =\n",
              "          google.colab.kernel.accessAllowed ? 'block' : 'none';\n",
              "\n",
              "        async function convertToInteractive(key) {\n",
              "          const element = document.querySelector('#df-162a1b23-eaa6-4e12-a3f5-a94fbcb88bde');\n",
              "          const dataTable =\n",
              "            await google.colab.kernel.invokeFunction('convertToInteractive',\n",
              "                                                     [key], {});\n",
              "          if (!dataTable) return;\n",
              "\n",
              "          const docLinkHtml = 'Like what you see? Visit the ' +\n",
              "            '<a target=\"_blank\" href=https://colab.research.google.com/notebooks/data_table.ipynb>data table notebook</a>'\n",
              "            + ' to learn more about interactive tables.';\n",
              "          element.innerHTML = '';\n",
              "          dataTable['output_type'] = 'display_data';\n",
              "          await google.colab.output.renderOutput(dataTable, element);\n",
              "          const docLink = document.createElement('div');\n",
              "          docLink.innerHTML = docLinkHtml;\n",
              "          element.appendChild(docLink);\n",
              "        }\n",
              "      </script>\n",
              "    </div>\n",
              "  </div>\n",
              "  "
            ]
          },
          "metadata": {},
          "execution_count": 41
        }
      ],
      "source": [
        "train_data = pd.concat([train_data1, val1]).drop_duplicates(keep=False)\n",
        "train_data"
      ]
    },
    {
      "cell_type": "markdown",
      "metadata": {
        "id": "6Mh5k144lkUW"
      },
      "source": [
        "We successfully splitted the data into train, val1, val2, and test set."
      ]
    },
    {
      "cell_type": "markdown",
      "metadata": {
        "id": "hClwJy_9lkUX"
      },
      "source": [
        "# EDA on train set"
      ]
    },
    {
      "cell_type": "markdown",
      "metadata": {
        "id": "_YdQC0H0lkUX"
      },
      "source": [
        "## UNIVARIATE ANALYSIS"
      ]
    },
    {
      "cell_type": "code",
      "execution_count": 42,
      "metadata": {
        "id": "YdSvFPr5lkUX",
        "outputId": "715e3580-9252-4f50-84fa-432538a52526",
        "colab": {
          "base_uri": "https://localhost:8080/"
        }
      },
      "outputs": [
        {
          "output_type": "stream",
          "name": "stdout",
          "text": [
            "<class 'pandas.core.frame.DataFrame'>\n",
            "Int64Index: 26260 entries, 0 to 26275\n",
            "Data columns (total 12 columns):\n",
            " #   Column                  Non-Null Count  Dtype         \n",
            "---  ------                  --------------  -----         \n",
            " 0   business_code           26260 non-null  object        \n",
            " 1   cust_number             26260 non-null  object        \n",
            " 2   name_customer           26260 non-null  object        \n",
            " 3   clear_date              26260 non-null  datetime64[ns]\n",
            " 4   buisness_year           26260 non-null  float64       \n",
            " 5   document_create_date.1  26260 non-null  datetime64[ns]\n",
            " 6   due_in_date             26260 non-null  datetime64[ns]\n",
            " 7   invoice_currency        26260 non-null  object        \n",
            " 8   total_open_amount       26260 non-null  float64       \n",
            " 9   baseline_create_date    26260 non-null  datetime64[ns]\n",
            " 10  cust_payment_terms      26260 non-null  object        \n",
            " 11  delay                   26260 non-null  int64         \n",
            "dtypes: datetime64[ns](4), float64(2), int64(1), object(5)\n",
            "memory usage: 2.6+ MB\n"
          ]
        }
      ],
      "source": [
        "train_data.info()"
      ]
    },
    {
      "cell_type": "markdown",
      "metadata": {
        "id": "_XXz264hlkUX"
      },
      "source": [
        "We can see there are no null values in our dataset. There are only 3 continuous variable column i.e. buisness_year, total_open_amount and delay,"
      ]
    },
    {
      "cell_type": "markdown",
      "metadata": {
        "id": "qfrOICdvlkUY"
      },
      "source": [
        "### business_code\n",
        "company code of the account"
      ]
    },
    {
      "cell_type": "code",
      "execution_count": 43,
      "metadata": {
        "id": "afZqRGXflkUY",
        "outputId": "31ab133c-3226-4235-fef6-53d9c8df5609",
        "colab": {
          "base_uri": "https://localhost:8080/"
        }
      },
      "outputs": [
        {
          "output_type": "execute_result",
          "data": {
            "text/plain": [
              "U001    23802\n",
              "CA02     2006\n",
              "U013      350\n",
              "U002       95\n",
              "U005        5\n",
              "U007        2\n",
              "Name: business_code, dtype: int64"
            ]
          },
          "metadata": {},
          "execution_count": 43
        }
      ],
      "source": [
        "train_data.business_code.value_counts()"
      ]
    },
    {
      "cell_type": "code",
      "execution_count": 44,
      "metadata": {
        "id": "1z1uk6TolkUY",
        "outputId": "675bc4e9-fb9a-47e6-a6b7-2e9563649281",
        "colab": {
          "base_uri": "https://localhost:8080/",
          "height": 297
        }
      },
      "outputs": [
        {
          "output_type": "execute_result",
          "data": {
            "text/plain": [
              "<matplotlib.axes._subplots.AxesSubplot at 0x7f5a15665ed0>"
            ]
          },
          "metadata": {},
          "execution_count": 44
        },
        {
          "output_type": "display_data",
          "data": {
            "text/plain": [
              "<Figure size 432x288 with 1 Axes>"
            ],
            "image/png": "[encoded data removed]"
          },
          "metadata": {
            "needs_background": "light"
          }
        }
      ],
      "source": [
        "sns.countplot(x = train_data['business_code'])"
      ]
    },
    {
      "cell_type": "markdown",
      "metadata": {
        "id": "mzct8u9glkUZ"
      },
      "source": [
        "As there are only 6 values we can apply encoding on it later."
      ]
    },
    {
      "cell_type": "markdown",
      "metadata": {
        "id": "z5o2BBkjlkUZ"
      },
      "source": [
        "### cust_number\n",
        "customer number given to all the customers of the Account."
      ]
    },
    {
      "cell_type": "code",
      "execution_count": 45,
      "metadata": {
        "scrolled": true,
        "id": "RASv7sGWlkUZ",
        "outputId": "aa29b2c4-399c-41ee-8702-7f4c4d953e2b",
        "colab": {
          "base_uri": "https://localhost:8080/"
        }
      },
      "outputs": [
        {
          "output_type": "execute_result",
          "data": {
            "text/plain": [
              "0200769623    5884\n",
              "0200726979    1017\n",
              "0200762301     723\n",
              "0200759878     681\n",
              "0200794332     597\n",
              "              ... \n",
              "140105000        1\n",
              "0200429605       1\n",
              "0200122006       1\n",
              "200793088        1\n",
              "0200703836       1\n",
              "Name: cust_number, Length: 1185, dtype: int64"
            ]
          },
          "metadata": {},
          "execution_count": 45
        }
      ],
      "source": [
        "train_data.cust_number.value_counts()"
      ]
    },
    {
      "cell_type": "code",
      "execution_count": 46,
      "metadata": {
        "id": "Zo0MmEUrlkUZ",
        "outputId": "d113a255-9f93-4dec-f609-4ae02e8a9ce2",
        "colab": {
          "base_uri": "https://localhost:8080/"
        }
      },
      "outputs": [
        {
          "output_type": "execute_result",
          "data": {
            "text/plain": [
              "1185"
            ]
          },
          "metadata": {},
          "execution_count": 46
        }
      ],
      "source": [
        "len(dict(train_data.cust_number.value_counts()))"
      ]
    },
    {
      "cell_type": "markdown",
      "metadata": {
        "id": "n3vSbrDylkUa"
      },
      "source": [
        "\n",
        "There are 1359 unique customers or comapny that we have transactions with.\n",
        "\n",
        "cust_number represent account no of different companies. For eg WAL-MAR has many varities that is WAL-MAR corporation, WAL-MAR systems etc but they have the same cust_number."
      ]
    },
    {
      "cell_type": "markdown",
      "metadata": {
        "id": "pA3OBrXclkUa"
      },
      "source": [
        "### name_customer\n",
        "name of the customer."
      ]
    },
    {
      "cell_type": "code",
      "execution_count": 47,
      "metadata": {
        "id": "_h5kwtpMlkUa",
        "outputId": "6a42a1c3-05eb-433d-fb16-3f2f06920961",
        "colab": {
          "base_uri": "https://localhost:8080/"
        }
      },
      "outputs": [
        {
          "output_type": "execute_result",
          "data": {
            "text/plain": [
              "WAL-MAR foundation    596\n",
              "WAL-MAR trust         588\n",
              "WAL-MAR us            587\n",
              "WAL-MAR corp          587\n",
              "WAL-MAR systems       577\n",
              "                     ... \n",
              "MULT co                 1\n",
              "PE trust                1\n",
              "CORN corp               1\n",
              "BI trust                1\n",
              "ACC D trust             1\n",
              "Name: name_customer, Length: 3273, dtype: int64"
            ]
          },
          "metadata": {},
          "execution_count": 47
        }
      ],
      "source": [
        "train_data.name_customer.value_counts()"
      ]
    },
    {
      "cell_type": "markdown",
      "metadata": {
        "id": "pKAAJKKHlkUb"
      },
      "source": [
        "Companies Like WAL-MAR, WAL-MAR systems, etc belong to company WAL-MAR and have a unique customer_num to their name hence this column will be dropped."
      ]
    },
    {
      "cell_type": "markdown",
      "metadata": {
        "id": "CqyWNNTwlkUb"
      },
      "source": [
        "### clear_date\n",
        "The date on which the customer clears an invoice, or in simple terms, they make the full payment."
      ]
    },
    {
      "cell_type": "code",
      "execution_count": 48,
      "metadata": {
        "id": "BJRiABFNlkUb",
        "outputId": "95210618-9e6f-42c1-9788-0c5d9910b571",
        "colab": {
          "base_uri": "https://localhost:8080/"
        }
      },
      "outputs": [
        {
          "output_type": "execute_result",
          "data": {
            "text/plain": [
              "Timestamp('2019-01-04 00:00:00')"
            ]
          },
          "metadata": {},
          "execution_count": 48
        }
      ],
      "source": [
        "train_data.clear_date.min()"
      ]
    },
    {
      "cell_type": "code",
      "execution_count": 49,
      "metadata": {
        "id": "tRa-gyMLlkUb",
        "outputId": "e04a099e-f97d-4e3e-b510-566d932b354d",
        "colab": {
          "base_uri": "https://localhost:8080/"
        }
      },
      "outputs": [
        {
          "output_type": "execute_result",
          "data": {
            "text/plain": [
              "Timestamp('2020-05-15 00:00:00')"
            ]
          },
          "metadata": {},
          "execution_count": 49
        }
      ],
      "source": [
        "train_data.clear_date.max()"
      ]
    },
    {
      "cell_type": "markdown",
      "metadata": {
        "id": "TKrEg2T3lkUb"
      },
      "source": [
        "Our clear_date ranges for 362 days."
      ]
    },
    {
      "cell_type": "code",
      "execution_count": 50,
      "metadata": {
        "id": "oxLnkU1plkUc",
        "outputId": "d4e82efb-b8a0-405a-9797-fe1cf443e1d8",
        "colab": {
          "base_uri": "https://localhost:8080/"
        }
      },
      "outputs": [
        {
          "output_type": "execute_result",
          "data": {
            "text/plain": [
              "2     3207\n",
              "3     2764\n",
              "5     2175\n",
              "4     2146\n",
              "12    2115\n",
              "11    2050\n",
              "8     2027\n",
              "10    2001\n",
              "7     1987\n",
              "9     1973\n",
              "1     1912\n",
              "6     1903\n",
              "Name: clear_date, dtype: int64"
            ]
          },
          "metadata": {},
          "execution_count": 50
        }
      ],
      "source": [
        "clear_month = train_data.clear_date.dt.month\n",
        "clear_month.value_counts()"
      ]
    },
    {
      "cell_type": "code",
      "execution_count": 51,
      "metadata": {
        "id": "bZfyZKOJlkUc",
        "outputId": "4a4a8ee8-3e2a-4ce5-d539-a6ea21dd08af",
        "colab": {
          "base_uri": "https://localhost:8080/",
          "height": 297
        }
      },
      "outputs": [
        {
          "output_type": "execute_result",
          "data": {
            "text/plain": [
              "<matplotlib.axes._subplots.AxesSubplot at 0x7f5a1556c2d0>"
            ]
          },
          "metadata": {},
          "execution_count": 51
        },
        {
          "output_type": "display_data",
          "data": {
            "text/plain": [
              "<Figure size 432x288 with 1 Axes>"
            ],
            "image/png": "[encoded data removed]"
          },
          "metadata": {
            "needs_background": "light"
          }
        }
      ],
      "source": [
        "sns.countplot(x=clear_month, palette=\"hls\")"
      ]
    },
    {
      "cell_type": "markdown",
      "metadata": {
        "id": "RIsnZsdElkUc"
      },
      "source": [
        "May is the month where the companies completed their maximum transations."
      ]
    },
    {
      "cell_type": "markdown",
      "metadata": {
        "id": "sgC12wEllkUd"
      },
      "source": [
        "### buisness_year\n",
        "indicates the year of clear date"
      ]
    },
    {
      "cell_type": "code",
      "execution_count": 52,
      "metadata": {
        "id": "NYHv5KcFlkUd",
        "outputId": "4dd2b2d9-eda4-4f61-bade-d76be7251821",
        "colab": {
          "base_uri": "https://localhost:8080/"
        }
      },
      "outputs": [
        {
          "output_type": "execute_result",
          "data": {
            "text/plain": [
              "2019.0    22745\n",
              "2020.0     3515\n",
              "Name: buisness_year, dtype: int64"
            ]
          },
          "metadata": {},
          "execution_count": 52
        }
      ],
      "source": [
        "train_data.buisness_year.value_counts()"
      ]
    },
    {
      "cell_type": "markdown",
      "metadata": {
        "id": "zJdiK7tLlkUd"
      },
      "source": [
        "As there is only 1 buisness_year we will drop this column."
      ]
    },
    {
      "cell_type": "markdown",
      "metadata": {
        "id": "avmhpCE9lkUd"
      },
      "source": [
        "### document_create_date.1\n",
        "The date on which the invoice document was created"
      ]
    },
    {
      "cell_type": "code",
      "execution_count": 53,
      "metadata": {
        "id": "nQ6uWfpjlkUe",
        "outputId": "100ed12c-3cf3-4ba8-b5b6-aa0935266279",
        "colab": {
          "base_uri": "https://localhost:8080/"
        }
      },
      "outputs": [
        {
          "output_type": "execute_result",
          "data": {
            "text/plain": [
              "Timestamp('2018-12-30 00:00:00')"
            ]
          },
          "metadata": {},
          "execution_count": 53
        }
      ],
      "source": [
        "train_data[\"document_create_date.1\"].min()"
      ]
    },
    {
      "cell_type": "code",
      "execution_count": 54,
      "metadata": {
        "id": "jSFOvhGulkUe",
        "outputId": "31d5957a-0d94-4062-9c41-d134f1049de7",
        "colab": {
          "base_uri": "https://localhost:8080/"
        }
      },
      "outputs": [
        {
          "output_type": "execute_result",
          "data": {
            "text/plain": [
              "Timestamp('2020-02-27 00:00:00')"
            ]
          },
          "metadata": {},
          "execution_count": 54
        }
      ],
      "source": [
        "train_data[\"document_create_date.1\"].max()"
      ]
    },
    {
      "cell_type": "markdown",
      "metadata": {
        "id": "bEZXGocdlkUe"
      },
      "source": [
        "It ranges for 334 days, almost less than a year"
      ]
    },
    {
      "cell_type": "markdown",
      "metadata": {
        "id": "rQEDml1JlkUe"
      },
      "source": [
        "### invoice_currency\n",
        "The currency of the invoice amount in the document for the invoice"
      ]
    },
    {
      "cell_type": "code",
      "execution_count": 55,
      "metadata": {
        "id": "QlDC7ssulkUf",
        "outputId": "08e6cd97-2866-4648-fe54-3455b6469b1b",
        "colab": {
          "base_uri": "https://localhost:8080/"
        }
      },
      "outputs": [
        {
          "output_type": "execute_result",
          "data": {
            "text/plain": [
              "USD    24253\n",
              "CAD     2007\n",
              "Name: invoice_currency, dtype: int64"
            ]
          },
          "metadata": {},
          "execution_count": 55
        }
      ],
      "source": [
        "train_data[\"invoice_currency\"].value_counts()"
      ]
    },
    {
      "cell_type": "markdown",
      "metadata": {
        "id": "8CNd93RPlkUf"
      },
      "source": [
        "As there are two currencies involved, we can convert either one them. However, as there is not much difference between USD and CAD, there is not much use of converting them."
      ]
    },
    {
      "cell_type": "markdown",
      "metadata": {
        "id": "J0_XwIrVlkUf"
      },
      "source": [
        "### total_open_amount\n",
        "The amount that is yet to be paid for that invoice"
      ]
    },
    {
      "cell_type": "code",
      "execution_count": 56,
      "metadata": {
        "id": "naHwrt6UlkUf",
        "outputId": "2b63f29a-bf3e-47ec-87f8-ae0015a3ef17",
        "colab": {
          "base_uri": "https://localhost:8080/"
        }
      },
      "outputs": [
        {
          "output_type": "execute_result",
          "data": {
            "text/plain": [
              "count     26260.000000\n",
              "mean      32427.606766\n",
              "std       39560.646643\n",
              "min           2.400000\n",
              "25%        4683.345000\n",
              "50%       17500.055000\n",
              "75%       47276.332500\n",
              "max      639710.380000\n",
              "Name: total_open_amount, dtype: object"
            ]
          },
          "metadata": {},
          "execution_count": 56
        }
      ],
      "source": [
        "train_data['total_open_amount'].describe().apply(lambda x: format(x,'f'))"
      ]
    },
    {
      "cell_type": "markdown",
      "metadata": {
        "id": "hTsgcLTglkUg"
      },
      "source": [
        "Automatically binning the amount using pd.qcut."
      ]
    },
    {
      "cell_type": "code",
      "execution_count": 57,
      "metadata": {
        "id": "k-69SxGTlkUg",
        "outputId": "010062dc-4c3c-41a0-ad5f-1c16e41dc749",
        "colab": {
          "base_uri": "https://localhost:8080/"
        }
      },
      "outputs": [
        {
          "output_type": "execute_result",
          "data": {
            "text/plain": [
              "(2.399, 765.484]          2626\n",
              "(765.484, 2900.124]       2626\n",
              "(2900.124, 7021.323]      2626\n",
              "(7021.323, 12891.616]     2626\n",
              "(12891.616, 17500.055]    2626\n",
              "(17500.055, 25734.736]    2626\n",
              "(25734.736, 39894.995]    2626\n",
              "(39894.995, 55688.4]      2626\n",
              "(55688.4, 82640.89]       2626\n",
              "(82640.89, 639710.38]     2626\n",
              "Name: total_open_amount, dtype: int64"
            ]
          },
          "metadata": {},
          "execution_count": 57
        }
      ],
      "source": [
        "open_amount_bins = pd.qcut(train_data['total_open_amount'],q=10)\n",
        "open_amount_bins.value_counts()"
      ]
    },
    {
      "cell_type": "code",
      "execution_count": 58,
      "metadata": {
        "id": "z1JgObMqlkUg"
      },
      "outputs": [],
      "source": [
        "amount_bins = [0,5000,10000,50000,100000,1100000]\n",
        "new_open_amount_bin = pd.cut(train_data['total_open_amount'], bins = amount_bins)"
      ]
    },
    {
      "cell_type": "code",
      "execution_count": 59,
      "metadata": {
        "id": "r0jA-TxhlkUg",
        "outputId": "bae15687-7631-48a5-f65e-ba15b5593ca4",
        "colab": {
          "base_uri": "https://localhost:8080/",
          "height": 409
        }
      },
      "outputs": [
        {
          "output_type": "execute_result",
          "data": {
            "text/plain": [
              "<matplotlib.axes._subplots.AxesSubplot at 0x7f5a15045890>"
            ]
          },
          "metadata": {},
          "execution_count": 59
        },
        {
          "output_type": "display_data",
          "data": {
            "text/plain": [
              "<Figure size 432x288 with 1 Axes>"
            ],
            "image/png": "[encoded data removed]"
          },
          "metadata": {
            "needs_background": "light"
          }
        }
      ],
      "source": [
        "plt.xticks(fontsize=10, rotation=90)\n",
        "sns.countplot(x=open_amount_bins, palette=\"hls\")"
      ]
    },
    {
      "cell_type": "markdown",
      "metadata": {
        "id": "p4hwF4gblkUh"
      },
      "source": [
        "The number of companies in each distribution is same."
      ]
    },
    {
      "cell_type": "markdown",
      "metadata": {
        "id": "6ZIEjqEflkUh"
      },
      "source": [
        "### baseline_create_date\n",
        "The date on which the Invoice was created."
      ]
    },
    {
      "cell_type": "code",
      "execution_count": 60,
      "metadata": {
        "id": "11ruoztrlkUh",
        "outputId": "faf98ce6-a36b-4df3-a3a6-edc096534838",
        "colab": {
          "base_uri": "https://localhost:8080/",
          "height": 424
        }
      },
      "outputs": [
        {
          "output_type": "execute_result",
          "data": {
            "text/plain": [
              "      business_code cust_number         name_customer clear_date  \\\n",
              "44             CA02  0140105686               SYSC co 2019-01-17   \n",
              "129            CA02  0140104423             METRO  us 2019-01-15   \n",
              "138            CA02  0140104340  COLABOR  corporation 2019-01-17   \n",
              "164            U001  0200020431       DEC corporation 2019-01-15   \n",
              "171            U001  0200230690       DECA associates 2019-01-10   \n",
              "...             ...         ...                   ...        ...   \n",
              "26224          CA02  0140104429            COSTCO llc 2020-03-23   \n",
              "26236          CA02  0140104409                LOB us 2020-03-09   \n",
              "26238          CA02  0140104409       LOB corporation 2020-03-16   \n",
              "26242          CA02  0140106408                WAL-M  2020-03-13   \n",
              "26256          CA02  0140104409       LOB corporation 2020-03-09   \n",
              "\n",
              "       buisness_year document_create_date.1 due_in_date invoice_currency  \\\n",
              "44            2019.0             2018-12-31  2019-01-13              CAD   \n",
              "129           2019.0             2019-01-02  2019-01-14              CAD   \n",
              "138           2019.0             2019-01-02  2019-01-14              CAD   \n",
              "164           2019.0             2019-01-03  2019-01-24              USD   \n",
              "171           2019.0             2019-01-03  2019-01-11              USD   \n",
              "...              ...                    ...         ...              ...   \n",
              "26224         2020.0             2020-02-26  2020-03-09              CAD   \n",
              "26236         2020.0             2020-02-26  2020-03-08              CAD   \n",
              "26238         2020.0             2020-02-26  2020-03-16              CAD   \n",
              "26242         2020.0             2020-02-26  2020-03-08              CAD   \n",
              "26256         2020.0             2020-02-26  2020-03-08              CAD   \n",
              "\n",
              "       total_open_amount baseline_create_date cust_payment_terms  delay  \n",
              "44              24557.30           2019-01-03               CA10      4  \n",
              "129             83191.19           2019-01-04               CA10      1  \n",
              "138             18294.15           2019-01-04               CA10      3  \n",
              "164              3113.96           2019-01-01               NAM4     -9  \n",
              "171             47036.18           2019-01-01               NAM2     -1  \n",
              "...                  ...                  ...                ...    ...  \n",
              "26224            2201.38           2020-02-28               CA10     14  \n",
              "26236           49620.60           2020-02-27               CA10      1  \n",
              "26238          167684.61           2020-03-06               CA10      0  \n",
              "26242           78455.73           2020-02-27               CA10      5  \n",
              "26256          251169.00           2020-02-27               CA10      1  \n",
              "\n",
              "[2897 rows x 12 columns]"
            ],
            "text/html": [
              "\n",
              "  <div id=\"df-b1c8ab83-249c-4fdf-9eba-8a7ca8b36418\">\n",
              "    <div class=\"colab-df-container\">\n",
              "      <div>\n",
              "<style scoped>\n",
              "    .dataframe tbody tr th:only-of-type {\n",
              "        vertical-align: middle;\n",
              "    }\n",
              "\n",
              "    .dataframe tbody tr th {\n",
              "        vertical-align: top;\n",
              "    }\n",
              "\n",
              "    .dataframe thead th {\n",
              "        text-align: right;\n",
              "    }\n",
              "</style>\n",
              "<table border=\"1\" class=\"dataframe\">\n",
              "  <thead>\n",
              "    <tr style=\"text-align: right;\">\n",
              "      <th></th>\n",
              "      <th>business_code</th>\n",
              "      <th>cust_number</th>\n",
              "      <th>name_customer</th>\n",
              "      <th>clear_date</th>\n",
              "      <th>buisness_year</th>\n",
              "      <th>document_create_date.1</th>\n",
              "      <th>due_in_date</th>\n",
              "      <th>invoice_currency</th>\n",
              "      <th>total_open_amount</th>\n",
              "      <th>baseline_create_date</th>\n",
              "      <th>cust_payment_terms</th>\n",
              "      <th>delay</th>\n",
              "    </tr>\n",
              "  </thead>\n",
              "  <tbody>\n",
              "    <tr>\n",
              "      <th>44</th>\n",
              "      <td>CA02</td>\n",
              "      <td>0140105686</td>\n",
              "      <td>SYSC co</td>\n",
              "      <td>2019-01-17</td>\n",
              "      <td>2019.0</td>\n",
              "      <td>2018-12-31</td>\n",
              "      <td>2019-01-13</td>\n",
              "      <td>CAD</td>\n",
              "      <td>24557.30</td>\n",
              "      <td>2019-01-03</td>\n",
              "      <td>CA10</td>\n",
              "      <td>4</td>\n",
              "    </tr>\n",
              "    <tr>\n",
              "      <th>129</th>\n",
              "      <td>CA02</td>\n",
              "      <td>0140104423</td>\n",
              "      <td>METRO  us</td>\n",
              "      <td>2019-01-15</td>\n",
              "      <td>2019.0</td>\n",
              "      <td>2019-01-02</td>\n",
              "      <td>2019-01-14</td>\n",
              "      <td>CAD</td>\n",
              "      <td>83191.19</td>\n",
              "      <td>2019-01-04</td>\n",
              "      <td>CA10</td>\n",
              "      <td>1</td>\n",
              "    </tr>\n",
              "    <tr>\n",
              "      <th>138</th>\n",
              "      <td>CA02</td>\n",
              "      <td>0140104340</td>\n",
              "      <td>COLABOR  corporation</td>\n",
              "      <td>2019-01-17</td>\n",
              "      <td>2019.0</td>\n",
              "      <td>2019-01-02</td>\n",
              "      <td>2019-01-14</td>\n",
              "      <td>CAD</td>\n",
              "      <td>18294.15</td>\n",
              "      <td>2019-01-04</td>\n",
              "      <td>CA10</td>\n",
              "      <td>3</td>\n",
              "    </tr>\n",
              "    <tr>\n",
              "      <th>164</th>\n",
              "      <td>U001</td>\n",
              "      <td>0200020431</td>\n",
              "      <td>DEC corporation</td>\n",
              "      <td>2019-01-15</td>\n",
              "      <td>2019.0</td>\n",
              "      <td>2019-01-03</td>\n",
              "      <td>2019-01-24</td>\n",
              "      <td>USD</td>\n",
              "      <td>3113.96</td>\n",
              "      <td>2019-01-01</td>\n",
              "      <td>NAM4</td>\n",
              "      <td>-9</td>\n",
              "    </tr>\n",
              "    <tr>\n",
              "      <th>171</th>\n",
              "      <td>U001</td>\n",
              "      <td>0200230690</td>\n",
              "      <td>DECA associates</td>\n",
              "      <td>2019-01-10</td>\n",
              "      <td>2019.0</td>\n",
              "      <td>2019-01-03</td>\n",
              "      <td>2019-01-11</td>\n",
              "      <td>USD</td>\n",
              "      <td>47036.18</td>\n",
              "      <td>2019-01-01</td>\n",
              "      <td>NAM2</td>\n",
              "      <td>-1</td>\n",
              "    </tr>\n",
              "    <tr>\n",
              "      <th>...</th>\n",
              "      <td>...</td>\n",
              "      <td>...</td>\n",
              "      <td>...</td>\n",
              "      <td>...</td>\n",
              "      <td>...</td>\n",
              "      <td>...</td>\n",
              "      <td>...</td>\n",
              "      <td>...</td>\n",
              "      <td>...</td>\n",
              "      <td>...</td>\n",
              "      <td>...</td>\n",
              "      <td>...</td>\n",
              "    </tr>\n",
              "    <tr>\n",
              "      <th>26224</th>\n",
              "      <td>CA02</td>\n",
              "      <td>0140104429</td>\n",
              "      <td>COSTCO llc</td>\n",
              "      <td>2020-03-23</td>\n",
              "      <td>2020.0</td>\n",
              "      <td>2020-02-26</td>\n",
              "      <td>2020-03-09</td>\n",
              "      <td>CAD</td>\n",
              "      <td>2201.38</td>\n",
              "      <td>2020-02-28</td>\n",
              "      <td>CA10</td>\n",
              "      <td>14</td>\n",
              "    </tr>\n",
              "    <tr>\n",
              "      <th>26236</th>\n",
              "      <td>CA02</td>\n",
              "      <td>0140104409</td>\n",
              "      <td>LOB us</td>\n",
              "      <td>2020-03-09</td>\n",
              "      <td>2020.0</td>\n",
              "      <td>2020-02-26</td>\n",
              "      <td>2020-03-08</td>\n",
              "      <td>CAD</td>\n",
              "      <td>49620.60</td>\n",
              "      <td>2020-02-27</td>\n",
              "      <td>CA10</td>\n",
              "      <td>1</td>\n",
              "    </tr>\n",
              "    <tr>\n",
              "      <th>26238</th>\n",
              "      <td>CA02</td>\n",
              "      <td>0140104409</td>\n",
              "      <td>LOB corporation</td>\n",
              "      <td>2020-03-16</td>\n",
              "      <td>2020.0</td>\n",
              "      <td>2020-02-26</td>\n",
              "      <td>2020-03-16</td>\n",
              "      <td>CAD</td>\n",
              "      <td>167684.61</td>\n",
              "      <td>2020-03-06</td>\n",
              "      <td>CA10</td>\n",
              "      <td>0</td>\n",
              "    </tr>\n",
              "    <tr>\n",
              "      <th>26242</th>\n",
              "      <td>CA02</td>\n",
              "      <td>0140106408</td>\n",
              "      <td>WAL-M</td>\n",
              "      <td>2020-03-13</td>\n",
              "      <td>2020.0</td>\n",
              "      <td>2020-02-26</td>\n",
              "      <td>2020-03-08</td>\n",
              "      <td>CAD</td>\n",
              "      <td>78455.73</td>\n",
              "      <td>2020-02-27</td>\n",
              "      <td>CA10</td>\n",
              "      <td>5</td>\n",
              "    </tr>\n",
              "    <tr>\n",
              "      <th>26256</th>\n",
              "      <td>CA02</td>\n",
              "      <td>0140104409</td>\n",
              "      <td>LOB corporation</td>\n",
              "      <td>2020-03-09</td>\n",
              "      <td>2020.0</td>\n",
              "      <td>2020-02-26</td>\n",
              "      <td>2020-03-08</td>\n",
              "      <td>CAD</td>\n",
              "      <td>251169.00</td>\n",
              "      <td>2020-02-27</td>\n",
              "      <td>CA10</td>\n",
              "      <td>1</td>\n",
              "    </tr>\n",
              "  </tbody>\n",
              "</table>\n",
              "<p>2897 rows × 12 columns</p>\n",
              "</div>\n",
              "      <button class=\"colab-df-convert\" onclick=\"convertToInteractive('df-b1c8ab83-249c-4fdf-9eba-8a7ca8b36418')\"\n",
              "              title=\"Convert this dataframe to an interactive table.\"\n",
              "              style=\"display:none;\">\n",
              "        \n",
              "  <svg xmlns=\"http://www.w3.org/2000/svg\" height=\"24px\"viewBox=\"0 0 24 24\"\n",
              "       width=\"24px\">\n",
              "    <path d=\"M0 0h24v24H0V0z\" fill=\"none\"/>\n",
              "    <path d=\"M18.56 5.44l.94 2.06.94-2.06 2.06-.94-2.06-.94-.94-2.06-.94 2.06-2.06.94zm-11 1L8.5 8.5l.94-2.06 2.06-.94-2.06-.94L8.5 2.5l-.94 2.06-2.06.94zm10 10l.94 2.06.94-2.06 2.06-.94-2.06-.94-.94-2.06-.94 2.06-2.06.94z\"/><path d=\"M17.41 7.96l-1.37-1.37c-.4-.4-.92-.59-1.43-.59-.52 0-1.04.2-1.43.59L10.3 9.45l-7.72 7.72c-.78.78-.78 2.05 0 2.83L4 21.41c.39.39.9.59 1.41.59.51 0 1.02-.2 1.41-.59l7.78-7.78 2.81-2.81c.8-.78.8-2.07 0-2.86zM5.41 20L4 18.59l7.72-7.72 1.47 1.35L5.41 20z\"/>\n",
              "  </svg>\n",
              "      </button>\n",
              "      \n",
              "  <style>\n",
              "    .colab-df-container {\n",
              "      display:flex;\n",
              "      flex-wrap:wrap;\n",
              "      gap: 12px;\n",
              "    }\n",
              "\n",
              "    .colab-df-convert {\n",
              "      background-color: #E8F0FE;\n",
              "      border: none;\n",
              "      border-radius: 50%;\n",
              "      cursor: pointer;\n",
              "      display: none;\n",
              "      fill: #1967D2;\n",
              "      height: 32px;\n",
              "      padding: 0 0 0 0;\n",
              "      width: 32px;\n",
              "    }\n",
              "\n",
              "    .colab-df-convert:hover {\n",
              "      background-color: #E2EBFA;\n",
              "      box-shadow: 0px 1px 2px rgba(60, 64, 67, 0.3), 0px 1px 3px 1px rgba(60, 64, 67, 0.15);\n",
              "      fill: #174EA6;\n",
              "    }\n",
              "\n",
              "    [theme=dark] .colab-df-convert {\n",
              "      background-color: #3B4455;\n",
              "      fill: #D2E3FC;\n",
              "    }\n",
              "\n",
              "    [theme=dark] .colab-df-convert:hover {\n",
              "      background-color: #434B5C;\n",
              "      box-shadow: 0px 1px 3px 1px rgba(0, 0, 0, 0.15);\n",
              "      filter: drop-shadow(0px 1px 2px rgba(0, 0, 0, 0.3));\n",
              "      fill: #FFFFFF;\n",
              "    }\n",
              "  </style>\n",
              "\n",
              "      <script>\n",
              "        const buttonEl =\n",
              "          document.querySelector('#df-b1c8ab83-249c-4fdf-9eba-8a7ca8b36418 button.colab-df-convert');\n",
              "        buttonEl.style.display =\n",
              "          google.colab.kernel.accessAllowed ? 'block' : 'none';\n",
              "\n",
              "        async function convertToInteractive(key) {\n",
              "          const element = document.querySelector('#df-b1c8ab83-249c-4fdf-9eba-8a7ca8b36418');\n",
              "          const dataTable =\n",
              "            await google.colab.kernel.invokeFunction('convertToInteractive',\n",
              "                                                     [key], {});\n",
              "          if (!dataTable) return;\n",
              "\n",
              "          const docLinkHtml = 'Like what you see? Visit the ' +\n",
              "            '<a target=\"_blank\" href=https://colab.research.google.com/notebooks/data_table.ipynb>data table notebook</a>'\n",
              "            + ' to learn more about interactive tables.';\n",
              "          element.innerHTML = '';\n",
              "          dataTable['output_type'] = 'display_data';\n",
              "          await google.colab.output.renderOutput(dataTable, element);\n",
              "          const docLink = document.createElement('div');\n",
              "          docLink.innerHTML = docLinkHtml;\n",
              "          element.appendChild(docLink);\n",
              "        }\n",
              "      </script>\n",
              "    </div>\n",
              "  </div>\n",
              "  "
            ]
          },
          "metadata": {},
          "execution_count": 60
        }
      ],
      "source": [
        "train_data.loc[train_data[\"document_create_date.1\"]!=train_data[\"baseline_create_date\"]]"
      ]
    },
    {
      "cell_type": "markdown",
      "metadata": {
        "id": "nmkCLt_tlkUh"
      },
      "source": [
        "Baseline create date and document create date are same except if the company is canadian there is a delay in filing the document and creating an invoice. \n",
        "\n",
        "It's not that important to our model so we'll drop it."
      ]
    },
    {
      "cell_type": "markdown",
      "metadata": {
        "id": "LjsusHO6lkUi"
      },
      "source": [
        "### cust_payment_terms\n",
        "Business terms and agreements between customers and accounts on discounts and days of payment."
      ]
    },
    {
      "cell_type": "code",
      "execution_count": 61,
      "metadata": {
        "id": "PWS3yElxlkUi",
        "outputId": "ce09da01-ffd2-44c6-c311-d76e2aedd3cd",
        "colab": {
          "base_uri": "https://localhost:8080/"
        }
      },
      "outputs": [
        {
          "output_type": "execute_result",
          "data": {
            "text/plain": [
              "NAA8    10673\n",
              "NAH4     6948\n",
              "CA10     1950\n",
              "NAC6      810\n",
              "NAM4      782\n",
              "        ...  \n",
              "NAUX        1\n",
              "NATL        1\n",
              "NAVC        1\n",
              "NATJ        1\n",
              "NATZ        1\n",
              "Name: cust_payment_terms, Length: 67, dtype: int64"
            ]
          },
          "metadata": {},
          "execution_count": 61
        }
      ],
      "source": [
        "train_data.cust_payment_terms.value_counts()"
      ]
    },
    {
      "cell_type": "code",
      "execution_count": 62,
      "metadata": {
        "id": "hxNxvHYtlkUi",
        "outputId": "7d3dc71c-46fc-4bfb-efa2-b80e9afeed69",
        "colab": {
          "base_uri": "https://localhost:8080/"
        }
      },
      "outputs": [
        {
          "output_type": "execute_result",
          "data": {
            "text/plain": [
              "1185"
            ]
          },
          "metadata": {},
          "execution_count": 62
        }
      ],
      "source": [
        "len(dict(train_data.cust_number.value_counts()))"
      ]
    },
    {
      "cell_type": "markdown",
      "metadata": {
        "id": "GxeXA5zAlkUj"
      },
      "source": [
        "It is same as cust_number."
      ]
    },
    {
      "cell_type": "markdown",
      "metadata": {
        "id": "6wp4BIbzlkUj"
      },
      "source": [
        "### isOpen\n",
        "- Tells whether a transaction is open or closed"
      ]
    },
    {
      "cell_type": "code",
      "execution_count": 67,
      "metadata": {
        "id": "eTMSxyBMlkUj",
        "outputId": "d7ee3c18-356b-4388-e114-aeb18654bf3f",
        "colab": {
          "base_uri": "https://localhost:8080/",
          "height": 286
        }
      },
      "outputs": [
        {
          "output_type": "error",
          "ename": "AttributeError",
          "evalue": "ignored",
          "traceback": [
            "\u001b[0;31m---------------------------------------------------------------------------\u001b[0m",
            "\u001b[0;31mAttributeError\u001b[0m                            Traceback (most recent call last)",
            "\u001b[0;32m<ipython-input-67-34e05c8301da>\u001b[0m in \u001b[0;36m<module>\u001b[0;34m\u001b[0m\n\u001b[0;32m----> 1\u001b[0;31m \u001b[0mtrain_data\u001b[0m\u001b[0;34m.\u001b[0m\u001b[0misOpen\u001b[0m\u001b[0;34m.\u001b[0m\u001b[0mvalue_counts\u001b[0m\u001b[0;34m(\u001b[0m\u001b[0;34m)\u001b[0m\u001b[0;34m\u001b[0m\u001b[0;34m\u001b[0m\u001b[0m\n\u001b[0m",
            "\u001b[0;32m/usr/local/lib/python3.7/dist-packages/pandas/core/generic.py\u001b[0m in \u001b[0;36m__getattr__\u001b[0;34m(self, name)\u001b[0m\n\u001b[1;32m   5485\u001b[0m         ):\n\u001b[1;32m   5486\u001b[0m             \u001b[0;32mreturn\u001b[0m \u001b[0mself\u001b[0m\u001b[0;34m[\u001b[0m\u001b[0mname\u001b[0m\u001b[0;34m]\u001b[0m\u001b[0;34m\u001b[0m\u001b[0;34m\u001b[0m\u001b[0m\n\u001b[0;32m-> 5487\u001b[0;31m         \u001b[0;32mreturn\u001b[0m \u001b[0mobject\u001b[0m\u001b[0;34m.\u001b[0m\u001b[0m__getattribute__\u001b[0m\u001b[0;34m(\u001b[0m\u001b[0mself\u001b[0m\u001b[0;34m,\u001b[0m \u001b[0mname\u001b[0m\u001b[0;34m)\u001b[0m\u001b[0;34m\u001b[0m\u001b[0;34m\u001b[0m\u001b[0m\n\u001b[0m\u001b[1;32m   5488\u001b[0m \u001b[0;34m\u001b[0m\u001b[0m\n\u001b[1;32m   5489\u001b[0m     \u001b[0;32mdef\u001b[0m \u001b[0m__setattr__\u001b[0m\u001b[0;34m(\u001b[0m\u001b[0mself\u001b[0m\u001b[0;34m,\u001b[0m \u001b[0mname\u001b[0m\u001b[0;34m:\u001b[0m \u001b[0mstr\u001b[0m\u001b[0;34m,\u001b[0m \u001b[0mvalue\u001b[0m\u001b[0;34m)\u001b[0m \u001b[0;34m->\u001b[0m \u001b[0;32mNone\u001b[0m\u001b[0;34m:\u001b[0m\u001b[0;34m\u001b[0m\u001b[0;34m\u001b[0m\u001b[0m\n",
            "\u001b[0;31mAttributeError\u001b[0m: 'DataFrame' object has no attribute 'isOpen'"
          ]
        }
      ],
      "source": [
        "train_data.isOpen.value_counts()"
      ]
    },
    {
      "cell_type": "markdown",
      "metadata": {
        "id": "c2Tu7-FDlkUj"
      },
      "source": [
        "isOpen is 0 for all the train set as all the invoices has been closed. So we can drop this column."
      ]
    },
    {
      "cell_type": "markdown",
      "metadata": {
        "id": "U6xFyvnTlkUj"
      },
      "source": [
        "### Delay\n",
        "The negative delay specifies that the amount was cleared before the due date and thus there was no delay. Therefore we have capped the negative values to 0."
      ]
    },
    {
      "cell_type": "code",
      "execution_count": 64,
      "metadata": {
        "id": "6Szk9OculkUk",
        "outputId": "0de4a98a-ea01-4595-caa5-651f6eb9a153",
        "colab": {
          "base_uri": "https://localhost:8080/"
        }
      },
      "outputs": [
        {
          "output_type": "execute_result",
          "data": {
            "text/plain": [
              "9608"
            ]
          },
          "metadata": {},
          "execution_count": 64
        }
      ],
      "source": [
        "train_data.delay[train_data.delay<0].count()"
      ]
    },
    {
      "cell_type": "code",
      "execution_count": null,
      "metadata": {
        "id": "P7eK9N59lkUk",
        "outputId": "e95ba830-cc69-40ce-9646-873ce5987f82"
      },
      "outputs": [
        {
          "data": {
            "text/plain": [
              "0"
            ]
          },
          "execution_count": 58,
          "metadata": {},
          "output_type": "execute_result"
        }
      ],
      "source": [
        "train_data['delay']=train_data.delay.apply(lambda x: 0 if x<0 else x)\n",
        "train_data.delay[train_data.delay<0].count()"
      ]
    },
    {
      "cell_type": "code",
      "execution_count": null,
      "metadata": {
        "id": "lCOHzt1clkUk",
        "outputId": "c60182d5-dc7a-4f51-db1d-d9e04e34852f"
      },
      "outputs": [
        {
          "data": {
            "text/plain": [
              "count    37251.000000\n",
              "mean         2.822126\n",
              "std          9.368047\n",
              "min          0.000000\n",
              "25%          0.000000\n",
              "50%          0.000000\n",
              "75%          2.000000\n",
              "max        277.000000\n",
              "Name: delay, dtype: float64"
            ]
          },
          "execution_count": 59,
          "metadata": {},
          "output_type": "execute_result"
        }
      ],
      "source": [
        "train_data.delay.describe()"
      ]
    },
    {
      "cell_type": "markdown",
      "metadata": {
        "id": "TA_kFOwalkUl"
      },
      "source": [
        "## MULTIVARIATE ANALYSIS"
      ]
    },
    {
      "cell_type": "markdown",
      "metadata": {
        "id": "PxdVn-kqlkUl"
      },
      "source": [
        "### Relation b/w business_code with invoice_currency"
      ]
    },
    {
      "cell_type": "code",
      "execution_count": null,
      "metadata": {
        "id": "AnlsZ7DOlkUl",
        "outputId": "c27b3f4c-c971-4f51-f817-d223f3033dd1"
      },
      "outputs": [
        {
          "data": {
            "text/plain": [
              "USD    34365\n",
              "CAD     2886\n",
              "Name: invoice_currency, dtype: int64"
            ]
          },
          "execution_count": 60,
          "metadata": {},
          "output_type": "execute_result"
        }
      ],
      "source": [
        "train_data['invoice_currency'].value_counts()"
      ]
    },
    {
      "cell_type": "code",
      "execution_count": null,
      "metadata": {
        "id": "02p8YZhHlkUl",
        "outputId": "6df0fd60-877a-4390-e615-4d32bdf4fdb7"
      },
      "outputs": [
        {
          "data": {
            "text/plain": [
              "business_code  invoice_currency\n",
              "CA02           CAD                  2884\n",
              "U001           USD                 33713\n",
              "U002           USD                   124\n",
              "U005           USD                     8\n",
              "U007           USD                     2\n",
              "U013           USD                   518\n",
              "               CAD                     2\n",
              "Name: invoice_currency, dtype: int64"
            ]
          },
          "execution_count": 61,
          "metadata": {},
          "output_type": "execute_result"
        }
      ],
      "source": [
        "train_data.groupby(\"business_code\").invoice_currency.value_counts()"
      ]
    },
    {
      "cell_type": "markdown",
      "metadata": {
        "id": "V-EjEt1NlkUl"
      },
      "source": [
        "We see that business code first letter describes in which currency the transaction took place except for 2 entries. Let's explore them further"
      ]
    },
    {
      "cell_type": "code",
      "execution_count": null,
      "metadata": {
        "id": "tp2lcD9ilkUm",
        "outputId": "c82734bb-5bfa-4bc8-b05a-e2d1a8573189"
      },
      "outputs": [
        {
          "data": {
            "text/plain": [
              "invoice_currency  business_code\n",
              "CAD               CA02              2884\n",
              "                  U013                 2\n",
              "USD               U001             33713\n",
              "                  U013               518\n",
              "                  U002               124\n",
              "                  U005                 8\n",
              "                  U007                 2\n",
              "Name: business_code, dtype: int64"
            ]
          },
          "execution_count": 62,
          "metadata": {},
          "output_type": "execute_result"
        }
      ],
      "source": [
        "train_data.groupby(\"invoice_currency\").business_code.value_counts()"
      ]
    },
    {
      "cell_type": "markdown",
      "metadata": {
        "id": "iGDZJc82lkUm"
      },
      "source": [
        "business_code U013 is an US based company but paying in CAD"
      ]
    },
    {
      "cell_type": "code",
      "execution_count": null,
      "metadata": {
        "id": "1K6rTOU6lkUm",
        "outputId": "f0fbbc20-03d2-4204-e8aa-a81486c8fd86"
      },
      "outputs": [
        {
          "data": {
            "text/html": [
              "<div>\n",
              "<style scoped>\n",
              "    .dataframe tbody tr th:only-of-type {\n",
              "        vertical-align: middle;\n",
              "    }\n",
              "\n",
              "    .dataframe tbody tr th {\n",
              "        vertical-align: top;\n",
              "    }\n",
              "\n",
              "    .dataframe thead th {\n",
              "        text-align: right;\n",
              "    }\n",
              "</style>\n",
              "<table border=\"1\" class=\"dataframe\">\n",
              "  <thead>\n",
              "    <tr style=\"text-align: right;\">\n",
              "      <th></th>\n",
              "      <th>business_code</th>\n",
              "      <th>cust_number</th>\n",
              "      <th>name_customer</th>\n",
              "      <th>clear_date</th>\n",
              "      <th>buisness_year</th>\n",
              "      <th>document_create_date.1</th>\n",
              "      <th>due_in_date</th>\n",
              "      <th>invoice_currency</th>\n",
              "      <th>total_open_amount</th>\n",
              "      <th>baseline_create_date</th>\n",
              "      <th>cust_payment_terms</th>\n",
              "      <th>isOpen</th>\n",
              "      <th>delay</th>\n",
              "    </tr>\n",
              "  </thead>\n",
              "  <tbody>\n",
              "    <tr>\n",
              "      <th>6441</th>\n",
              "      <td>U013</td>\n",
              "      <td>0100052318</td>\n",
              "      <td>PRATT' trust</td>\n",
              "      <td>2019-03-26</td>\n",
              "      <td>2019.0</td>\n",
              "      <td>2019-03-01</td>\n",
              "      <td>2019-03-31</td>\n",
              "      <td>CAD</td>\n",
              "      <td>1815.04</td>\n",
              "      <td>2019-03-01</td>\n",
              "      <td>NAVE</td>\n",
              "      <td>0</td>\n",
              "      <td>0.0</td>\n",
              "    </tr>\n",
              "    <tr>\n",
              "      <th>37009</th>\n",
              "      <td>U013</td>\n",
              "      <td>0100052318</td>\n",
              "      <td>PRATT' co</td>\n",
              "      <td>2019-12-24</td>\n",
              "      <td>2019.0</td>\n",
              "      <td>2019-11-26</td>\n",
              "      <td>2019-12-26</td>\n",
              "      <td>CAD</td>\n",
              "      <td>3373.05</td>\n",
              "      <td>2019-11-26</td>\n",
              "      <td>NAVE</td>\n",
              "      <td>0</td>\n",
              "      <td>0.0</td>\n",
              "    </tr>\n",
              "  </tbody>\n",
              "</table>\n",
              "</div>"
            ],
            "text/plain": [
              "      business_code cust_number name_customer clear_date  buisness_year  \\\n",
              "6441           U013  0100052318  PRATT' trust 2019-03-26         2019.0   \n",
              "37009          U013  0100052318     PRATT' co 2019-12-24         2019.0   \n",
              "\n",
              "      document_create_date.1 due_in_date invoice_currency  total_open_amount  \\\n",
              "6441              2019-03-01  2019-03-31              CAD            1815.04   \n",
              "37009             2019-11-26  2019-12-26              CAD            3373.05   \n",
              "\n",
              "      baseline_create_date cust_payment_terms  isOpen  delay  \n",
              "6441            2019-03-01               NAVE       0    0.0  \n",
              "37009           2019-11-26               NAVE       0    0.0  "
            ]
          },
          "execution_count": 63,
          "metadata": {},
          "output_type": "execute_result"
        }
      ],
      "source": [
        "temp = train_data.loc[train_data['business_code'] == 'U013']\n",
        "temp.loc[temp['invoice_currency']=='CAD']"
      ]
    },
    {
      "cell_type": "markdown",
      "metadata": {
        "id": "PpYoRQ02lkUm"
      },
      "source": [
        "We see that only PRATT company is the only US based company paying in CAD.\n",
        "\n",
        "Morever they are only 2 transactions so it's not as significant. They don't even have any delay so this won't affect our model."
      ]
    },
    {
      "cell_type": "markdown",
      "metadata": {
        "id": "-JoAfiu4lkUn"
      },
      "source": [
        "### Relation between total_open_amount and delay"
      ]
    },
    {
      "cell_type": "code",
      "execution_count": null,
      "metadata": {
        "id": "_mlhRDxmlkUn",
        "outputId": "21fd2504-2512-456d-b045-df8e20a66e43"
      },
      "outputs": [
        {
          "data": {
            "text/html": [
              "<div>\n",
              "<style scoped>\n",
              "    .dataframe tbody tr th:only-of-type {\n",
              "        vertical-align: middle;\n",
              "    }\n",
              "\n",
              "    .dataframe tbody tr th {\n",
              "        vertical-align: top;\n",
              "    }\n",
              "\n",
              "    .dataframe thead th {\n",
              "        text-align: right;\n",
              "    }\n",
              "</style>\n",
              "<table border=\"1\" class=\"dataframe\">\n",
              "  <thead>\n",
              "    <tr style=\"text-align: right;\">\n",
              "      <th>delay</th>\n",
              "      <th>(0, 15]</th>\n",
              "      <th>(15, 30]</th>\n",
              "      <th>(30, 45]</th>\n",
              "      <th>(45, 60]</th>\n",
              "      <th>(60, 300]</th>\n",
              "    </tr>\n",
              "    <tr>\n",
              "      <th>total_open_amount</th>\n",
              "      <th></th>\n",
              "      <th></th>\n",
              "      <th></th>\n",
              "      <th></th>\n",
              "      <th></th>\n",
              "    </tr>\n",
              "  </thead>\n",
              "  <tbody>\n",
              "    <tr>\n",
              "      <th>(0, 5000]</th>\n",
              "      <td>3226</td>\n",
              "      <td>130</td>\n",
              "      <td>109</td>\n",
              "      <td>102</td>\n",
              "      <td>98</td>\n",
              "    </tr>\n",
              "    <tr>\n",
              "      <th>(5000, 10000]</th>\n",
              "      <td>1467</td>\n",
              "      <td>76</td>\n",
              "      <td>61</td>\n",
              "      <td>36</td>\n",
              "      <td>20</td>\n",
              "    </tr>\n",
              "    <tr>\n",
              "      <th>(10000, 50000]</th>\n",
              "      <td>6223</td>\n",
              "      <td>293</td>\n",
              "      <td>183</td>\n",
              "      <td>113</td>\n",
              "      <td>66</td>\n",
              "    </tr>\n",
              "    <tr>\n",
              "      <th>(50000, 100000]</th>\n",
              "      <td>2507</td>\n",
              "      <td>68</td>\n",
              "      <td>19</td>\n",
              "      <td>12</td>\n",
              "      <td>15</td>\n",
              "    </tr>\n",
              "    <tr>\n",
              "      <th>(100000, 1100000]</th>\n",
              "      <td>1152</td>\n",
              "      <td>20</td>\n",
              "      <td>12</td>\n",
              "      <td>8</td>\n",
              "      <td>3</td>\n",
              "    </tr>\n",
              "  </tbody>\n",
              "</table>\n",
              "</div>"
            ],
            "text/plain": [
              "delay              (0, 15]  (15, 30]  (30, 45]  (45, 60]  (60, 300]\n",
              "total_open_amount                                                  \n",
              "(0, 5000]             3226       130       109       102         98\n",
              "(5000, 10000]         1467        76        61        36         20\n",
              "(10000, 50000]        6223       293       183       113         66\n",
              "(50000, 100000]       2507        68        19        12         15\n",
              "(100000, 1100000]     1152        20        12         8          3"
            ]
          },
          "execution_count": 64,
          "metadata": {},
          "output_type": "execute_result"
        }
      ],
      "source": [
        "delay_bins = [0,15,30,45,60,300]\n",
        "delay_bucket = pd.cut(train_data['delay'], bins = delay_bins)\n",
        "pd.crosstab(index = new_open_amount_bin, columns =delay_bucket)"
      ]
    },
    {
      "cell_type": "code",
      "execution_count": null,
      "metadata": {
        "id": "j7VLoWxTlkUn",
        "outputId": "50a9ff2e-ed75-40f1-c32e-19e70dcdba11"
      },
      "outputs": [
        {
          "data": {
            "text/plain": [
              "<AxesSubplot:xlabel='total_open_amount', ylabel='count'>"
            ]
          },
          "execution_count": 65,
          "metadata": {},
          "output_type": "execute_result"
        },
        {
          "data": {
            "image/png": "[encoded data removed]",
            "text/plain": [
              "<Figure size 576x360 with 1 Axes>"
            ]
          },
          "metadata": {
            "needs_background": "light"
          },
          "output_type": "display_data"
        }
      ],
      "source": [
        "plt.figure(figsize=(8,5))\n",
        "plt.xlabel(\"Amount bin\")\n",
        "sns.countplot(x = new_open_amount_bin, hue=delay_bucket)"
      ]
    },
    {
      "cell_type": "markdown",
      "metadata": {
        "id": "vBUTqFotlkUo"
      },
      "source": [
        "As we can see from the graph for each bucket the amount was returned in 0-15 delay days."
      ]
    },
    {
      "cell_type": "code",
      "execution_count": null,
      "metadata": {
        "id": "f7-TgMoFlkUo",
        "outputId": "1db0b2b4-7586-436f-dd7a-ebeb8219af5d"
      },
      "outputs": [
        {
          "data": {
            "text/html": [
              "<div>\n",
              "<style scoped>\n",
              "    .dataframe tbody tr th:only-of-type {\n",
              "        vertical-align: middle;\n",
              "    }\n",
              "\n",
              "    .dataframe tbody tr th {\n",
              "        vertical-align: top;\n",
              "    }\n",
              "\n",
              "    .dataframe thead th {\n",
              "        text-align: right;\n",
              "    }\n",
              "</style>\n",
              "<table border=\"1\" class=\"dataframe\">\n",
              "  <thead>\n",
              "    <tr style=\"text-align: right;\">\n",
              "      <th></th>\n",
              "      <th>buisness_year</th>\n",
              "      <th>total_open_amount</th>\n",
              "      <th>isOpen</th>\n",
              "      <th>delay</th>\n",
              "    </tr>\n",
              "  </thead>\n",
              "  <tbody>\n",
              "    <tr>\n",
              "      <th>buisness_year</th>\n",
              "      <td>NaN</td>\n",
              "      <td>NaN</td>\n",
              "      <td>NaN</td>\n",
              "      <td>NaN</td>\n",
              "    </tr>\n",
              "    <tr>\n",
              "      <th>total_open_amount</th>\n",
              "      <td>NaN</td>\n",
              "      <td>1.000000</td>\n",
              "      <td>NaN</td>\n",
              "      <td>-0.047619</td>\n",
              "    </tr>\n",
              "    <tr>\n",
              "      <th>isOpen</th>\n",
              "      <td>NaN</td>\n",
              "      <td>NaN</td>\n",
              "      <td>NaN</td>\n",
              "      <td>NaN</td>\n",
              "    </tr>\n",
              "    <tr>\n",
              "      <th>delay</th>\n",
              "      <td>NaN</td>\n",
              "      <td>-0.047619</td>\n",
              "      <td>NaN</td>\n",
              "      <td>1.000000</td>\n",
              "    </tr>\n",
              "  </tbody>\n",
              "</table>\n",
              "</div>"
            ],
            "text/plain": [
              "                   buisness_year  total_open_amount  isOpen     delay\n",
              "buisness_year                NaN                NaN     NaN       NaN\n",
              "total_open_amount            NaN           1.000000     NaN -0.047619\n",
              "isOpen                       NaN                NaN     NaN       NaN\n",
              "delay                        NaN          -0.047619     NaN  1.000000"
            ]
          },
          "execution_count": 66,
          "metadata": {},
          "output_type": "execute_result"
        }
      ],
      "source": [
        "train_data.corr()"
      ]
    },
    {
      "cell_type": "code",
      "execution_count": null,
      "metadata": {
        "id": "bW9RzjgplkUo",
        "outputId": "0565d0cb-78bd-4298-e903-2d62c11ca799"
      },
      "outputs": [
        {
          "data": {
            "text/plain": [
              "<seaborn.axisgrid.PairGrid at 0x1eb6f757220>"
            ]
          },
          "execution_count": 67,
          "metadata": {},
          "output_type": "execute_result"
        },
        {
          "data": {
            "image/png": "[encoded data removed]",
            "text/plain": [
              "<Figure size 1152x1152 with 20 Axes>"
            ]
          },
          "metadata": {
            "needs_background": "light"
          },
          "output_type": "display_data"
        }
      ],
      "source": [
        "sns.pairplot(train_data, height=4)"
      ]
    },
    {
      "cell_type": "markdown",
      "metadata": {
        "id": "yftoLVLhlkUo"
      },
      "source": [
        "We can infer: The total open amount decreses as the delay increases. There is negative co-relation."
      ]
    },
    {
      "cell_type": "markdown",
      "metadata": {
        "id": "yTRsOyARlkUp"
      },
      "source": [
        "# FEATURE ENGINEERING"
      ]
    },
    {
      "cell_type": "code",
      "execution_count": null,
      "metadata": {
        "id": "N7b9SQX8lkUp",
        "outputId": "f994e4ee-38d1-4422-fb82-155cb8d5cdff"
      },
      "outputs": [
        {
          "data": {
            "text/html": [
              "<div>\n",
              "<style scoped>\n",
              "    .dataframe tbody tr th:only-of-type {\n",
              "        vertical-align: middle;\n",
              "    }\n",
              "\n",
              "    .dataframe tbody tr th {\n",
              "        vertical-align: top;\n",
              "    }\n",
              "\n",
              "    .dataframe thead th {\n",
              "        text-align: right;\n",
              "    }\n",
              "</style>\n",
              "<table border=\"1\" class=\"dataframe\">\n",
              "  <thead>\n",
              "    <tr style=\"text-align: right;\">\n",
              "      <th></th>\n",
              "      <th>cust_number</th>\n",
              "      <th>clear_date</th>\n",
              "      <th>document_create_date.1</th>\n",
              "      <th>due_in_date</th>\n",
              "      <th>total_open_amount</th>\n",
              "      <th>delay</th>\n",
              "    </tr>\n",
              "  </thead>\n",
              "  <tbody>\n",
              "    <tr>\n",
              "      <th>0</th>\n",
              "      <td>0200769623</td>\n",
              "      <td>2019-01-09</td>\n",
              "      <td>2018-12-30</td>\n",
              "      <td>2019-01-14</td>\n",
              "      <td>25749.68</td>\n",
              "      <td>0.0</td>\n",
              "    </tr>\n",
              "    <tr>\n",
              "      <th>1</th>\n",
              "      <td>0200762301</td>\n",
              "      <td>2019-01-15</td>\n",
              "      <td>2018-12-30</td>\n",
              "      <td>2019-01-14</td>\n",
              "      <td>18116.87</td>\n",
              "      <td>1.0</td>\n",
              "    </tr>\n",
              "    <tr>\n",
              "      <th>2</th>\n",
              "      <td>0200955827</td>\n",
              "      <td>2019-01-16</td>\n",
              "      <td>2018-12-30</td>\n",
              "      <td>2019-01-14</td>\n",
              "      <td>32856.32</td>\n",
              "      <td>2.0</td>\n",
              "    </tr>\n",
              "    <tr>\n",
              "      <th>3</th>\n",
              "      <td>0200744019</td>\n",
              "      <td>2019-01-18</td>\n",
              "      <td>2018-12-30</td>\n",
              "      <td>2019-01-14</td>\n",
              "      <td>11982.59</td>\n",
              "      <td>4.0</td>\n",
              "    </tr>\n",
              "    <tr>\n",
              "      <th>4</th>\n",
              "      <td>0200794332</td>\n",
              "      <td>2019-01-14</td>\n",
              "      <td>2018-12-30</td>\n",
              "      <td>2019-01-14</td>\n",
              "      <td>32715.47</td>\n",
              "      <td>0.0</td>\n",
              "    </tr>\n",
              "    <tr>\n",
              "      <th>...</th>\n",
              "      <td>...</td>\n",
              "      <td>...</td>\n",
              "      <td>...</td>\n",
              "      <td>...</td>\n",
              "      <td>...</td>\n",
              "      <td>...</td>\n",
              "    </tr>\n",
              "    <tr>\n",
              "      <th>37266</th>\n",
              "      <td>0200769623</td>\n",
              "      <td>2019-12-09</td>\n",
              "      <td>2019-11-28</td>\n",
              "      <td>2019-12-13</td>\n",
              "      <td>31752.94</td>\n",
              "      <td>0.0</td>\n",
              "    </tr>\n",
              "    <tr>\n",
              "      <th>37267</th>\n",
              "      <td>0200744019</td>\n",
              "      <td>2019-12-12</td>\n",
              "      <td>2019-11-28</td>\n",
              "      <td>2019-12-13</td>\n",
              "      <td>45591.41</td>\n",
              "      <td>0.0</td>\n",
              "    </tr>\n",
              "    <tr>\n",
              "      <th>37268</th>\n",
              "      <td>0200769623</td>\n",
              "      <td>2019-12-16</td>\n",
              "      <td>2019-11-28</td>\n",
              "      <td>2019-12-13</td>\n",
              "      <td>61336.27</td>\n",
              "      <td>3.0</td>\n",
              "    </tr>\n",
              "    <tr>\n",
              "      <th>37269</th>\n",
              "      <td>0140105847</td>\n",
              "      <td>2019-12-17</td>\n",
              "      <td>2019-11-28</td>\n",
              "      <td>2019-12-08</td>\n",
              "      <td>13937.60</td>\n",
              "      <td>9.0</td>\n",
              "    </tr>\n",
              "    <tr>\n",
              "      <th>37270</th>\n",
              "      <td>0200726979</td>\n",
              "      <td>2019-12-16</td>\n",
              "      <td>2019-11-28</td>\n",
              "      <td>2019-12-13</td>\n",
              "      <td>445.79</td>\n",
              "      <td>3.0</td>\n",
              "    </tr>\n",
              "  </tbody>\n",
              "</table>\n",
              "<p>37251 rows × 6 columns</p>\n",
              "</div>"
            ],
            "text/plain": [
              "      cust_number clear_date document_create_date.1 due_in_date  \\\n",
              "0      0200769623 2019-01-09             2018-12-30  2019-01-14   \n",
              "1      0200762301 2019-01-15             2018-12-30  2019-01-14   \n",
              "2      0200955827 2019-01-16             2018-12-30  2019-01-14   \n",
              "3      0200744019 2019-01-18             2018-12-30  2019-01-14   \n",
              "4      0200794332 2019-01-14             2018-12-30  2019-01-14   \n",
              "...           ...        ...                    ...         ...   \n",
              "37266  0200769623 2019-12-09             2019-11-28  2019-12-13   \n",
              "37267  0200744019 2019-12-12             2019-11-28  2019-12-13   \n",
              "37268  0200769623 2019-12-16             2019-11-28  2019-12-13   \n",
              "37269  0140105847 2019-12-17             2019-11-28  2019-12-08   \n",
              "37270  0200726979 2019-12-16             2019-11-28  2019-12-13   \n",
              "\n",
              "       total_open_amount  delay  \n",
              "0               25749.68    0.0  \n",
              "1               18116.87    1.0  \n",
              "2               32856.32    2.0  \n",
              "3               11982.59    4.0  \n",
              "4               32715.47    0.0  \n",
              "...                  ...    ...  \n",
              "37266           31752.94    0.0  \n",
              "37267           45591.41    0.0  \n",
              "37268           61336.27    3.0  \n",
              "37269           13937.60    9.0  \n",
              "37270             445.79    3.0  \n",
              "\n",
              "[37251 rows x 6 columns]"
            ]
          },
          "execution_count": 68,
          "metadata": {},
          "output_type": "execute_result"
        }
      ],
      "source": [
        "train_data.drop(columns=['business_code', 'name_customer','buisness_year','invoice_currency','baseline_create_date', 'cust_payment_terms', 'isOpen'], inplace=True)\n",
        "train_data"
      ]
    },
    {
      "cell_type": "markdown",
      "metadata": {
        "id": "91aYi90llkUp"
      },
      "source": [
        "Extracting day and month from document_create_date.1 and due_in_date."
      ]
    },
    {
      "cell_type": "code",
      "execution_count": null,
      "metadata": {
        "id": "sH9r0bdblkUp"
      },
      "outputs": [],
      "source": [
        "train_data[\"doc_create_day\"] = train_data[\"document_create_date.1\"].dt.day\n",
        "train_data[\"doc_create_month\"] = train_data[\"document_create_date.1\"].dt.month\n",
        "\n",
        "train_data[\"due_day\"] = train_data[\"due_in_date\"].dt.day\n",
        "train_data[\"due_month\"] = train_data[\"due_in_date\"].dt.month"
      ]
    },
    {
      "cell_type": "code",
      "execution_count": null,
      "metadata": {
        "id": "F5NEYji9lkUq",
        "outputId": "1b3d3932-5821-45af-c4b5-5b37e6ab71bf"
      },
      "outputs": [
        {
          "data": {
            "text/html": [
              "<div>\n",
              "<style scoped>\n",
              "    .dataframe tbody tr th:only-of-type {\n",
              "        vertical-align: middle;\n",
              "    }\n",
              "\n",
              "    .dataframe tbody tr th {\n",
              "        vertical-align: top;\n",
              "    }\n",
              "\n",
              "    .dataframe thead th {\n",
              "        text-align: right;\n",
              "    }\n",
              "</style>\n",
              "<table border=\"1\" class=\"dataframe\">\n",
              "  <thead>\n",
              "    <tr style=\"text-align: right;\">\n",
              "      <th></th>\n",
              "      <th>cust_number</th>\n",
              "      <th>clear_date</th>\n",
              "      <th>document_create_date.1</th>\n",
              "      <th>due_in_date</th>\n",
              "      <th>total_open_amount</th>\n",
              "      <th>delay</th>\n",
              "      <th>doc_create_day</th>\n",
              "      <th>doc_create_month</th>\n",
              "      <th>due_day</th>\n",
              "      <th>due_month</th>\n",
              "    </tr>\n",
              "  </thead>\n",
              "  <tbody>\n",
              "    <tr>\n",
              "      <th>0</th>\n",
              "      <td>0200769623</td>\n",
              "      <td>2019-01-09</td>\n",
              "      <td>2018-12-30</td>\n",
              "      <td>2019-01-14</td>\n",
              "      <td>25749.68</td>\n",
              "      <td>0.0</td>\n",
              "      <td>30</td>\n",
              "      <td>12</td>\n",
              "      <td>14</td>\n",
              "      <td>1</td>\n",
              "    </tr>\n",
              "    <tr>\n",
              "      <th>1</th>\n",
              "      <td>0200762301</td>\n",
              "      <td>2019-01-15</td>\n",
              "      <td>2018-12-30</td>\n",
              "      <td>2019-01-14</td>\n",
              "      <td>18116.87</td>\n",
              "      <td>1.0</td>\n",
              "      <td>30</td>\n",
              "      <td>12</td>\n",
              "      <td>14</td>\n",
              "      <td>1</td>\n",
              "    </tr>\n",
              "    <tr>\n",
              "      <th>2</th>\n",
              "      <td>0200955827</td>\n",
              "      <td>2019-01-16</td>\n",
              "      <td>2018-12-30</td>\n",
              "      <td>2019-01-14</td>\n",
              "      <td>32856.32</td>\n",
              "      <td>2.0</td>\n",
              "      <td>30</td>\n",
              "      <td>12</td>\n",
              "      <td>14</td>\n",
              "      <td>1</td>\n",
              "    </tr>\n",
              "    <tr>\n",
              "      <th>3</th>\n",
              "      <td>0200744019</td>\n",
              "      <td>2019-01-18</td>\n",
              "      <td>2018-12-30</td>\n",
              "      <td>2019-01-14</td>\n",
              "      <td>11982.59</td>\n",
              "      <td>4.0</td>\n",
              "      <td>30</td>\n",
              "      <td>12</td>\n",
              "      <td>14</td>\n",
              "      <td>1</td>\n",
              "    </tr>\n",
              "    <tr>\n",
              "      <th>4</th>\n",
              "      <td>0200794332</td>\n",
              "      <td>2019-01-14</td>\n",
              "      <td>2018-12-30</td>\n",
              "      <td>2019-01-14</td>\n",
              "      <td>32715.47</td>\n",
              "      <td>0.0</td>\n",
              "      <td>30</td>\n",
              "      <td>12</td>\n",
              "      <td>14</td>\n",
              "      <td>1</td>\n",
              "    </tr>\n",
              "    <tr>\n",
              "      <th>...</th>\n",
              "      <td>...</td>\n",
              "      <td>...</td>\n",
              "      <td>...</td>\n",
              "      <td>...</td>\n",
              "      <td>...</td>\n",
              "      <td>...</td>\n",
              "      <td>...</td>\n",
              "      <td>...</td>\n",
              "      <td>...</td>\n",
              "      <td>...</td>\n",
              "    </tr>\n",
              "    <tr>\n",
              "      <th>37266</th>\n",
              "      <td>0200769623</td>\n",
              "      <td>2019-12-09</td>\n",
              "      <td>2019-11-28</td>\n",
              "      <td>2019-12-13</td>\n",
              "      <td>31752.94</td>\n",
              "      <td>0.0</td>\n",
              "      <td>28</td>\n",
              "      <td>11</td>\n",
              "      <td>13</td>\n",
              "      <td>12</td>\n",
              "    </tr>\n",
              "    <tr>\n",
              "      <th>37267</th>\n",
              "      <td>0200744019</td>\n",
              "      <td>2019-12-12</td>\n",
              "      <td>2019-11-28</td>\n",
              "      <td>2019-12-13</td>\n",
              "      <td>45591.41</td>\n",
              "      <td>0.0</td>\n",
              "      <td>28</td>\n",
              "      <td>11</td>\n",
              "      <td>13</td>\n",
              "      <td>12</td>\n",
              "    </tr>\n",
              "    <tr>\n",
              "      <th>37268</th>\n",
              "      <td>0200769623</td>\n",
              "      <td>2019-12-16</td>\n",
              "      <td>2019-11-28</td>\n",
              "      <td>2019-12-13</td>\n",
              "      <td>61336.27</td>\n",
              "      <td>3.0</td>\n",
              "      <td>28</td>\n",
              "      <td>11</td>\n",
              "      <td>13</td>\n",
              "      <td>12</td>\n",
              "    </tr>\n",
              "    <tr>\n",
              "      <th>37269</th>\n",
              "      <td>0140105847</td>\n",
              "      <td>2019-12-17</td>\n",
              "      <td>2019-11-28</td>\n",
              "      <td>2019-12-08</td>\n",
              "      <td>13937.60</td>\n",
              "      <td>9.0</td>\n",
              "      <td>28</td>\n",
              "      <td>11</td>\n",
              "      <td>8</td>\n",
              "      <td>12</td>\n",
              "    </tr>\n",
              "    <tr>\n",
              "      <th>37270</th>\n",
              "      <td>0200726979</td>\n",
              "      <td>2019-12-16</td>\n",
              "      <td>2019-11-28</td>\n",
              "      <td>2019-12-13</td>\n",
              "      <td>445.79</td>\n",
              "      <td>3.0</td>\n",
              "      <td>28</td>\n",
              "      <td>11</td>\n",
              "      <td>13</td>\n",
              "      <td>12</td>\n",
              "    </tr>\n",
              "  </tbody>\n",
              "</table>\n",
              "<p>37251 rows × 10 columns</p>\n",
              "</div>"
            ],
            "text/plain": [
              "      cust_number clear_date document_create_date.1 due_in_date  \\\n",
              "0      0200769623 2019-01-09             2018-12-30  2019-01-14   \n",
              "1      0200762301 2019-01-15             2018-12-30  2019-01-14   \n",
              "2      0200955827 2019-01-16             2018-12-30  2019-01-14   \n",
              "3      0200744019 2019-01-18             2018-12-30  2019-01-14   \n",
              "4      0200794332 2019-01-14             2018-12-30  2019-01-14   \n",
              "...           ...        ...                    ...         ...   \n",
              "37266  0200769623 2019-12-09             2019-11-28  2019-12-13   \n",
              "37267  0200744019 2019-12-12             2019-11-28  2019-12-13   \n",
              "37268  0200769623 2019-12-16             2019-11-28  2019-12-13   \n",
              "37269  0140105847 2019-12-17             2019-11-28  2019-12-08   \n",
              "37270  0200726979 2019-12-16             2019-11-28  2019-12-13   \n",
              "\n",
              "       total_open_amount  delay  doc_create_day  doc_create_month  due_day  \\\n",
              "0               25749.68    0.0              30                12       14   \n",
              "1               18116.87    1.0              30                12       14   \n",
              "2               32856.32    2.0              30                12       14   \n",
              "3               11982.59    4.0              30                12       14   \n",
              "4               32715.47    0.0              30                12       14   \n",
              "...                  ...    ...             ...               ...      ...   \n",
              "37266           31752.94    0.0              28                11       13   \n",
              "37267           45591.41    0.0              28                11       13   \n",
              "37268           61336.27    3.0              28                11       13   \n",
              "37269           13937.60    9.0              28                11        8   \n",
              "37270             445.79    3.0              28                11       13   \n",
              "\n",
              "       due_month  \n",
              "0              1  \n",
              "1              1  \n",
              "2              1  \n",
              "3              1  \n",
              "4              1  \n",
              "...          ...  \n",
              "37266         12  \n",
              "37267         12  \n",
              "37268         12  \n",
              "37269         12  \n",
              "37270         12  \n",
              "\n",
              "[37251 rows x 10 columns]"
            ]
          },
          "execution_count": 70,
          "metadata": {},
          "output_type": "execute_result"
        }
      ],
      "source": [
        "train_data"
      ]
    },
    {
      "cell_type": "code",
      "execution_count": null,
      "metadata": {
        "id": "yPsjdo_MlkUq",
        "outputId": "ac653ba5-811a-4c6a-be9e-b89dab291cac"
      },
      "outputs": [
        {
          "data": {
            "text/html": [
              "<div>\n",
              "<style scoped>\n",
              "    .dataframe tbody tr th:only-of-type {\n",
              "        vertical-align: middle;\n",
              "    }\n",
              "\n",
              "    .dataframe tbody tr th {\n",
              "        vertical-align: top;\n",
              "    }\n",
              "\n",
              "    .dataframe thead th {\n",
              "        text-align: right;\n",
              "    }\n",
              "</style>\n",
              "<table border=\"1\" class=\"dataframe\">\n",
              "  <thead>\n",
              "    <tr style=\"text-align: right;\">\n",
              "      <th></th>\n",
              "      <th>cust_number</th>\n",
              "      <th>total_open_amount</th>\n",
              "      <th>delay</th>\n",
              "      <th>doc_create_day</th>\n",
              "      <th>doc_create_month</th>\n",
              "      <th>due_day</th>\n",
              "      <th>due_month</th>\n",
              "    </tr>\n",
              "  </thead>\n",
              "  <tbody>\n",
              "    <tr>\n",
              "      <th>0</th>\n",
              "      <td>0200769623</td>\n",
              "      <td>25749.68</td>\n",
              "      <td>0.0</td>\n",
              "      <td>30</td>\n",
              "      <td>12</td>\n",
              "      <td>14</td>\n",
              "      <td>1</td>\n",
              "    </tr>\n",
              "    <tr>\n",
              "      <th>1</th>\n",
              "      <td>0200762301</td>\n",
              "      <td>18116.87</td>\n",
              "      <td>1.0</td>\n",
              "      <td>30</td>\n",
              "      <td>12</td>\n",
              "      <td>14</td>\n",
              "      <td>1</td>\n",
              "    </tr>\n",
              "    <tr>\n",
              "      <th>2</th>\n",
              "      <td>0200955827</td>\n",
              "      <td>32856.32</td>\n",
              "      <td>2.0</td>\n",
              "      <td>30</td>\n",
              "      <td>12</td>\n",
              "      <td>14</td>\n",
              "      <td>1</td>\n",
              "    </tr>\n",
              "    <tr>\n",
              "      <th>3</th>\n",
              "      <td>0200744019</td>\n",
              "      <td>11982.59</td>\n",
              "      <td>4.0</td>\n",
              "      <td>30</td>\n",
              "      <td>12</td>\n",
              "      <td>14</td>\n",
              "      <td>1</td>\n",
              "    </tr>\n",
              "    <tr>\n",
              "      <th>4</th>\n",
              "      <td>0200794332</td>\n",
              "      <td>32715.47</td>\n",
              "      <td>0.0</td>\n",
              "      <td>30</td>\n",
              "      <td>12</td>\n",
              "      <td>14</td>\n",
              "      <td>1</td>\n",
              "    </tr>\n",
              "    <tr>\n",
              "      <th>...</th>\n",
              "      <td>...</td>\n",
              "      <td>...</td>\n",
              "      <td>...</td>\n",
              "      <td>...</td>\n",
              "      <td>...</td>\n",
              "      <td>...</td>\n",
              "      <td>...</td>\n",
              "    </tr>\n",
              "    <tr>\n",
              "      <th>37266</th>\n",
              "      <td>0200769623</td>\n",
              "      <td>31752.94</td>\n",
              "      <td>0.0</td>\n",
              "      <td>28</td>\n",
              "      <td>11</td>\n",
              "      <td>13</td>\n",
              "      <td>12</td>\n",
              "    </tr>\n",
              "    <tr>\n",
              "      <th>37267</th>\n",
              "      <td>0200744019</td>\n",
              "      <td>45591.41</td>\n",
              "      <td>0.0</td>\n",
              "      <td>28</td>\n",
              "      <td>11</td>\n",
              "      <td>13</td>\n",
              "      <td>12</td>\n",
              "    </tr>\n",
              "    <tr>\n",
              "      <th>37268</th>\n",
              "      <td>0200769623</td>\n",
              "      <td>61336.27</td>\n",
              "      <td>3.0</td>\n",
              "      <td>28</td>\n",
              "      <td>11</td>\n",
              "      <td>13</td>\n",
              "      <td>12</td>\n",
              "    </tr>\n",
              "    <tr>\n",
              "      <th>37269</th>\n",
              "      <td>0140105847</td>\n",
              "      <td>13937.60</td>\n",
              "      <td>9.0</td>\n",
              "      <td>28</td>\n",
              "      <td>11</td>\n",
              "      <td>8</td>\n",
              "      <td>12</td>\n",
              "    </tr>\n",
              "    <tr>\n",
              "      <th>37270</th>\n",
              "      <td>0200726979</td>\n",
              "      <td>445.79</td>\n",
              "      <td>3.0</td>\n",
              "      <td>28</td>\n",
              "      <td>11</td>\n",
              "      <td>13</td>\n",
              "      <td>12</td>\n",
              "    </tr>\n",
              "  </tbody>\n",
              "</table>\n",
              "<p>37251 rows × 7 columns</p>\n",
              "</div>"
            ],
            "text/plain": [
              "      cust_number  total_open_amount  delay  doc_create_day  doc_create_month  \\\n",
              "0      0200769623           25749.68    0.0              30                12   \n",
              "1      0200762301           18116.87    1.0              30                12   \n",
              "2      0200955827           32856.32    2.0              30                12   \n",
              "3      0200744019           11982.59    4.0              30                12   \n",
              "4      0200794332           32715.47    0.0              30                12   \n",
              "...           ...                ...    ...             ...               ...   \n",
              "37266  0200769623           31752.94    0.0              28                11   \n",
              "37267  0200744019           45591.41    0.0              28                11   \n",
              "37268  0200769623           61336.27    3.0              28                11   \n",
              "37269  0140105847           13937.60    9.0              28                11   \n",
              "37270  0200726979             445.79    3.0              28                11   \n",
              "\n",
              "       due_day  due_month  \n",
              "0           14          1  \n",
              "1           14          1  \n",
              "2           14          1  \n",
              "3           14          1  \n",
              "4           14          1  \n",
              "...        ...        ...  \n",
              "37266       13         12  \n",
              "37267       13         12  \n",
              "37268       13         12  \n",
              "37269        8         12  \n",
              "37270       13         12  \n",
              "\n",
              "[37251 rows x 7 columns]"
            ]
          },
          "execution_count": 71,
          "metadata": {},
          "output_type": "execute_result"
        }
      ],
      "source": [
        "train_data.drop(columns=['clear_date', 'document_create_date.1', 'due_in_date'], inplace=True)\n",
        "train_data"
      ]
    },
    {
      "cell_type": "markdown",
      "metadata": {
        "id": "wl3wHELqlkUq"
      },
      "source": [
        "Extracting the integer part from cust_number"
      ]
    },
    {
      "cell_type": "code",
      "execution_count": null,
      "metadata": {
        "id": "9iADA3YllkUq",
        "outputId": "c5d15aca-0f42-4e91-f9ed-31d6d9551bc1"
      },
      "outputs": [
        {
          "data": {
            "text/html": [
              "<div>\n",
              "<style scoped>\n",
              "    .dataframe tbody tr th:only-of-type {\n",
              "        vertical-align: middle;\n",
              "    }\n",
              "\n",
              "    .dataframe tbody tr th {\n",
              "        vertical-align: top;\n",
              "    }\n",
              "\n",
              "    .dataframe thead th {\n",
              "        text-align: right;\n",
              "    }\n",
              "</style>\n",
              "<table border=\"1\" class=\"dataframe\">\n",
              "  <thead>\n",
              "    <tr style=\"text-align: right;\">\n",
              "      <th></th>\n",
              "      <th>total_open_amount</th>\n",
              "      <th>delay</th>\n",
              "      <th>doc_create_day</th>\n",
              "      <th>doc_create_month</th>\n",
              "      <th>due_day</th>\n",
              "      <th>due_month</th>\n",
              "      <th>cn</th>\n",
              "    </tr>\n",
              "  </thead>\n",
              "  <tbody>\n",
              "    <tr>\n",
              "      <th>0</th>\n",
              "      <td>25749.68</td>\n",
              "      <td>0.0</td>\n",
              "      <td>30</td>\n",
              "      <td>12</td>\n",
              "      <td>14</td>\n",
              "      <td>1</td>\n",
              "      <td>0200769623</td>\n",
              "    </tr>\n",
              "    <tr>\n",
              "      <th>1</th>\n",
              "      <td>18116.87</td>\n",
              "      <td>1.0</td>\n",
              "      <td>30</td>\n",
              "      <td>12</td>\n",
              "      <td>14</td>\n",
              "      <td>1</td>\n",
              "      <td>0200762301</td>\n",
              "    </tr>\n",
              "    <tr>\n",
              "      <th>2</th>\n",
              "      <td>32856.32</td>\n",
              "      <td>2.0</td>\n",
              "      <td>30</td>\n",
              "      <td>12</td>\n",
              "      <td>14</td>\n",
              "      <td>1</td>\n",
              "      <td>0200955827</td>\n",
              "    </tr>\n",
              "    <tr>\n",
              "      <th>3</th>\n",
              "      <td>11982.59</td>\n",
              "      <td>4.0</td>\n",
              "      <td>30</td>\n",
              "      <td>12</td>\n",
              "      <td>14</td>\n",
              "      <td>1</td>\n",
              "      <td>0200744019</td>\n",
              "    </tr>\n",
              "    <tr>\n",
              "      <th>4</th>\n",
              "      <td>32715.47</td>\n",
              "      <td>0.0</td>\n",
              "      <td>30</td>\n",
              "      <td>12</td>\n",
              "      <td>14</td>\n",
              "      <td>1</td>\n",
              "      <td>0200794332</td>\n",
              "    </tr>\n",
              "    <tr>\n",
              "      <th>...</th>\n",
              "      <td>...</td>\n",
              "      <td>...</td>\n",
              "      <td>...</td>\n",
              "      <td>...</td>\n",
              "      <td>...</td>\n",
              "      <td>...</td>\n",
              "      <td>...</td>\n",
              "    </tr>\n",
              "    <tr>\n",
              "      <th>37266</th>\n",
              "      <td>31752.94</td>\n",
              "      <td>0.0</td>\n",
              "      <td>28</td>\n",
              "      <td>11</td>\n",
              "      <td>13</td>\n",
              "      <td>12</td>\n",
              "      <td>0200769623</td>\n",
              "    </tr>\n",
              "    <tr>\n",
              "      <th>37267</th>\n",
              "      <td>45591.41</td>\n",
              "      <td>0.0</td>\n",
              "      <td>28</td>\n",
              "      <td>11</td>\n",
              "      <td>13</td>\n",
              "      <td>12</td>\n",
              "      <td>0200744019</td>\n",
              "    </tr>\n",
              "    <tr>\n",
              "      <th>37268</th>\n",
              "      <td>61336.27</td>\n",
              "      <td>3.0</td>\n",
              "      <td>28</td>\n",
              "      <td>11</td>\n",
              "      <td>13</td>\n",
              "      <td>12</td>\n",
              "      <td>0200769623</td>\n",
              "    </tr>\n",
              "    <tr>\n",
              "      <th>37269</th>\n",
              "      <td>13937.60</td>\n",
              "      <td>9.0</td>\n",
              "      <td>28</td>\n",
              "      <td>11</td>\n",
              "      <td>8</td>\n",
              "      <td>12</td>\n",
              "      <td>0140105847</td>\n",
              "    </tr>\n",
              "    <tr>\n",
              "      <th>37270</th>\n",
              "      <td>445.79</td>\n",
              "      <td>3.0</td>\n",
              "      <td>28</td>\n",
              "      <td>11</td>\n",
              "      <td>13</td>\n",
              "      <td>12</td>\n",
              "      <td>0200726979</td>\n",
              "    </tr>\n",
              "  </tbody>\n",
              "</table>\n",
              "<p>37251 rows × 7 columns</p>\n",
              "</div>"
            ],
            "text/plain": [
              "       total_open_amount  delay  doc_create_day  doc_create_month  due_day  \\\n",
              "0               25749.68    0.0              30                12       14   \n",
              "1               18116.87    1.0              30                12       14   \n",
              "2               32856.32    2.0              30                12       14   \n",
              "3               11982.59    4.0              30                12       14   \n",
              "4               32715.47    0.0              30                12       14   \n",
              "...                  ...    ...             ...               ...      ...   \n",
              "37266           31752.94    0.0              28                11       13   \n",
              "37267           45591.41    0.0              28                11       13   \n",
              "37268           61336.27    3.0              28                11       13   \n",
              "37269           13937.60    9.0              28                11        8   \n",
              "37270             445.79    3.0              28                11       13   \n",
              "\n",
              "       due_month          cn  \n",
              "0              1  0200769623  \n",
              "1              1  0200762301  \n",
              "2              1  0200955827  \n",
              "3              1  0200744019  \n",
              "4              1  0200794332  \n",
              "...          ...         ...  \n",
              "37266         12  0200769623  \n",
              "37267         12  0200744019  \n",
              "37268         12  0200769623  \n",
              "37269         12  0140105847  \n",
              "37270         12  0200726979  \n",
              "\n",
              "[37251 rows x 7 columns]"
            ]
          },
          "execution_count": 72,
          "metadata": {},
          "output_type": "execute_result"
        }
      ],
      "source": [
        "train_data['cn'] = train_data['cust_number'].str.extract('(\\d+)')\n",
        "\n",
        "# then will drop that column\n",
        "train_data.drop('cust_number',axis=1,inplace=True)\n",
        "\n",
        "#lets see the dataframe\n",
        "train_data"
      ]
    },
    {
      "cell_type": "code",
      "execution_count": null,
      "metadata": {
        "id": "4VXNnoiulkUr",
        "outputId": "2a456299-b7da-4949-9121-524850a67202"
      },
      "outputs": [
        {
          "name": "stdout",
          "output_type": "stream",
          "text": [
            "<class 'pandas.core.frame.DataFrame'>\n",
            "Int64Index: 37251 entries, 0 to 37270\n",
            "Data columns (total 7 columns):\n",
            " #   Column             Non-Null Count  Dtype  \n",
            "---  ------             --------------  -----  \n",
            " 0   total_open_amount  37251 non-null  float64\n",
            " 1   delay              37251 non-null  float64\n",
            " 2   doc_create_day     37251 non-null  int64  \n",
            " 3   doc_create_month   37251 non-null  int64  \n",
            " 4   due_day            37251 non-null  int64  \n",
            " 5   due_month          37251 non-null  int64  \n",
            " 6   cn                 37251 non-null  object \n",
            "dtypes: float64(2), int64(4), object(1)\n",
            "memory usage: 3.5+ MB\n"
          ]
        }
      ],
      "source": [
        "train_data.info()"
      ]
    },
    {
      "cell_type": "markdown",
      "metadata": {
        "id": "-nSHwteelkUr"
      },
      "source": [
        "Converting the data-type of cn as float"
      ]
    },
    {
      "cell_type": "code",
      "execution_count": null,
      "metadata": {
        "id": "VpWD2NiNlkUr",
        "outputId": "2048fef3-6c90-4a0e-95b2-ff70f31b918d"
      },
      "outputs": [
        {
          "name": "stdout",
          "output_type": "stream",
          "text": [
            "<class 'pandas.core.frame.DataFrame'>\n",
            "Int64Index: 37251 entries, 0 to 37270\n",
            "Data columns (total 7 columns):\n",
            " #   Column             Non-Null Count  Dtype  \n",
            "---  ------             --------------  -----  \n",
            " 0   total_open_amount  37251 non-null  float64\n",
            " 1   delay              37251 non-null  float64\n",
            " 2   doc_create_day     37251 non-null  int64  \n",
            " 3   doc_create_month   37251 non-null  int64  \n",
            " 4   due_day            37251 non-null  int64  \n",
            " 5   due_month          37251 non-null  int64  \n",
            " 6   cn                 37251 non-null  float64\n",
            "dtypes: float64(3), int64(4)\n",
            "memory usage: 3.5 MB\n"
          ]
        }
      ],
      "source": [
        "train_data['cn']=train_data['cn'].astype(str).astype(float)\n",
        "train_data.info()"
      ]
    },
    {
      "cell_type": "markdown",
      "metadata": {
        "id": "kgVnILMZlkUr"
      },
      "source": [
        "Splitting into x_train and y_train"
      ]
    },
    {
      "cell_type": "code",
      "execution_count": null,
      "metadata": {
        "id": "WptGcn9TlkUs",
        "outputId": "dde80ccc-d716-44fb-927d-2c2e4b1ab947"
      },
      "outputs": [
        {
          "data": {
            "text/plain": [
              "0        0.0\n",
              "1        1.0\n",
              "2        2.0\n",
              "3        4.0\n",
              "4        0.0\n",
              "        ... \n",
              "37266    0.0\n",
              "37267    0.0\n",
              "37268    3.0\n",
              "37269    9.0\n",
              "37270    3.0\n",
              "Name: delay, Length: 37251, dtype: float64"
            ]
          },
          "execution_count": 75,
          "metadata": {},
          "output_type": "execute_result"
        }
      ],
      "source": [
        "y_train = train_data['delay']\n",
        "y_train"
      ]
    },
    {
      "cell_type": "code",
      "execution_count": null,
      "metadata": {
        "id": "uJD_tADdlkUs",
        "outputId": "9e67de7d-ea0e-4f1f-9252-14fc194887c4"
      },
      "outputs": [
        {
          "data": {
            "text/html": [
              "<div>\n",
              "<style scoped>\n",
              "    .dataframe tbody tr th:only-of-type {\n",
              "        vertical-align: middle;\n",
              "    }\n",
              "\n",
              "    .dataframe tbody tr th {\n",
              "        vertical-align: top;\n",
              "    }\n",
              "\n",
              "    .dataframe thead th {\n",
              "        text-align: right;\n",
              "    }\n",
              "</style>\n",
              "<table border=\"1\" class=\"dataframe\">\n",
              "  <thead>\n",
              "    <tr style=\"text-align: right;\">\n",
              "      <th></th>\n",
              "      <th>total_open_amount</th>\n",
              "      <th>doc_create_day</th>\n",
              "      <th>doc_create_month</th>\n",
              "      <th>due_day</th>\n",
              "      <th>due_month</th>\n",
              "      <th>cn</th>\n",
              "    </tr>\n",
              "  </thead>\n",
              "  <tbody>\n",
              "    <tr>\n",
              "      <th>0</th>\n",
              "      <td>25749.68</td>\n",
              "      <td>30</td>\n",
              "      <td>12</td>\n",
              "      <td>14</td>\n",
              "      <td>1</td>\n",
              "      <td>200769623.0</td>\n",
              "    </tr>\n",
              "    <tr>\n",
              "      <th>1</th>\n",
              "      <td>18116.87</td>\n",
              "      <td>30</td>\n",
              "      <td>12</td>\n",
              "      <td>14</td>\n",
              "      <td>1</td>\n",
              "      <td>200762301.0</td>\n",
              "    </tr>\n",
              "    <tr>\n",
              "      <th>2</th>\n",
              "      <td>32856.32</td>\n",
              "      <td>30</td>\n",
              "      <td>12</td>\n",
              "      <td>14</td>\n",
              "      <td>1</td>\n",
              "      <td>200955827.0</td>\n",
              "    </tr>\n",
              "    <tr>\n",
              "      <th>3</th>\n",
              "      <td>11982.59</td>\n",
              "      <td>30</td>\n",
              "      <td>12</td>\n",
              "      <td>14</td>\n",
              "      <td>1</td>\n",
              "      <td>200744019.0</td>\n",
              "    </tr>\n",
              "    <tr>\n",
              "      <th>4</th>\n",
              "      <td>32715.47</td>\n",
              "      <td>30</td>\n",
              "      <td>12</td>\n",
              "      <td>14</td>\n",
              "      <td>1</td>\n",
              "      <td>200794332.0</td>\n",
              "    </tr>\n",
              "    <tr>\n",
              "      <th>...</th>\n",
              "      <td>...</td>\n",
              "      <td>...</td>\n",
              "      <td>...</td>\n",
              "      <td>...</td>\n",
              "      <td>...</td>\n",
              "      <td>...</td>\n",
              "    </tr>\n",
              "    <tr>\n",
              "      <th>37266</th>\n",
              "      <td>31752.94</td>\n",
              "      <td>28</td>\n",
              "      <td>11</td>\n",
              "      <td>13</td>\n",
              "      <td>12</td>\n",
              "      <td>200769623.0</td>\n",
              "    </tr>\n",
              "    <tr>\n",
              "      <th>37267</th>\n",
              "      <td>45591.41</td>\n",
              "      <td>28</td>\n",
              "      <td>11</td>\n",
              "      <td>13</td>\n",
              "      <td>12</td>\n",
              "      <td>200744019.0</td>\n",
              "    </tr>\n",
              "    <tr>\n",
              "      <th>37268</th>\n",
              "      <td>61336.27</td>\n",
              "      <td>28</td>\n",
              "      <td>11</td>\n",
              "      <td>13</td>\n",
              "      <td>12</td>\n",
              "      <td>200769623.0</td>\n",
              "    </tr>\n",
              "    <tr>\n",
              "      <th>37269</th>\n",
              "      <td>13937.60</td>\n",
              "      <td>28</td>\n",
              "      <td>11</td>\n",
              "      <td>8</td>\n",
              "      <td>12</td>\n",
              "      <td>140105847.0</td>\n",
              "    </tr>\n",
              "    <tr>\n",
              "      <th>37270</th>\n",
              "      <td>445.79</td>\n",
              "      <td>28</td>\n",
              "      <td>11</td>\n",
              "      <td>13</td>\n",
              "      <td>12</td>\n",
              "      <td>200726979.0</td>\n",
              "    </tr>\n",
              "  </tbody>\n",
              "</table>\n",
              "<p>37251 rows × 6 columns</p>\n",
              "</div>"
            ],
            "text/plain": [
              "       total_open_amount  doc_create_day  doc_create_month  due_day  \\\n",
              "0               25749.68              30                12       14   \n",
              "1               18116.87              30                12       14   \n",
              "2               32856.32              30                12       14   \n",
              "3               11982.59              30                12       14   \n",
              "4               32715.47              30                12       14   \n",
              "...                  ...             ...               ...      ...   \n",
              "37266           31752.94              28                11       13   \n",
              "37267           45591.41              28                11       13   \n",
              "37268           61336.27              28                11       13   \n",
              "37269           13937.60              28                11        8   \n",
              "37270             445.79              28                11       13   \n",
              "\n",
              "       due_month           cn  \n",
              "0              1  200769623.0  \n",
              "1              1  200762301.0  \n",
              "2              1  200955827.0  \n",
              "3              1  200744019.0  \n",
              "4              1  200794332.0  \n",
              "...          ...          ...  \n",
              "37266         12  200769623.0  \n",
              "37267         12  200744019.0  \n",
              "37268         12  200769623.0  \n",
              "37269         12  140105847.0  \n",
              "37270         12  200726979.0  \n",
              "\n",
              "[37251 rows x 6 columns]"
            ]
          },
          "execution_count": 76,
          "metadata": {},
          "output_type": "execute_result"
        }
      ],
      "source": [
        "x_train = train_data.drop([\"delay\"], axis=1).copy()\n",
        "x_train"
      ]
    },
    {
      "cell_type": "markdown",
      "metadata": {
        "id": "EH0pfhJWlkUs"
      },
      "source": [
        "##### Now we need to repeat the same process on val1, val2 and x_test."
      ]
    },
    {
      "cell_type": "code",
      "execution_count": null,
      "metadata": {
        "id": "TUBawL5ulkUs",
        "outputId": "a613615d-b2f8-40ac-932a-a4dff633b890"
      },
      "outputs": [
        {
          "name": "stdout",
          "output_type": "stream",
          "text": [
            "<class 'pandas.core.frame.DataFrame'>\n",
            "RangeIndex: 3246 entries, 0 to 3245\n",
            "Data columns (total 13 columns):\n",
            " #   Column                  Non-Null Count  Dtype         \n",
            "---  ------                  --------------  -----         \n",
            " 0   business_code           3246 non-null   object        \n",
            " 1   cust_number             3246 non-null   object        \n",
            " 2   name_customer           3246 non-null   object        \n",
            " 3   clear_date              3246 non-null   datetime64[ns]\n",
            " 4   buisness_year           3246 non-null   float64       \n",
            " 5   document_create_date.1  3246 non-null   datetime64[ns]\n",
            " 6   due_in_date             3246 non-null   datetime64[ns]\n",
            " 7   invoice_currency        3246 non-null   object        \n",
            " 8   total_open_amount       3246 non-null   float64       \n",
            " 9   baseline_create_date    3246 non-null   datetime64[ns]\n",
            " 10  cust_payment_terms      3246 non-null   object        \n",
            " 11  isOpen                  3246 non-null   int64         \n",
            " 12  delay                   3246 non-null   float64       \n",
            "dtypes: datetime64[ns](4), float64(3), int64(1), object(5)\n",
            "memory usage: 329.8+ KB\n"
          ]
        }
      ],
      "source": [
        "val1.info()"
      ]
    },
    {
      "cell_type": "code",
      "execution_count": null,
      "metadata": {
        "id": "iLn3ti3llkUs",
        "outputId": "a6353877-8d57-4951-ef33-086d6b9b86e1"
      },
      "outputs": [
        {
          "data": {
            "text/html": [
              "<div>\n",
              "<style scoped>\n",
              "    .dataframe tbody tr th:only-of-type {\n",
              "        vertical-align: middle;\n",
              "    }\n",
              "\n",
              "    .dataframe tbody tr th {\n",
              "        vertical-align: top;\n",
              "    }\n",
              "\n",
              "    .dataframe thead th {\n",
              "        text-align: right;\n",
              "    }\n",
              "</style>\n",
              "<table border=\"1\" class=\"dataframe\">\n",
              "  <thead>\n",
              "    <tr style=\"text-align: right;\">\n",
              "      <th></th>\n",
              "      <th>total_open_amount</th>\n",
              "      <th>delay</th>\n",
              "      <th>doc_create_day</th>\n",
              "      <th>doc_create_month</th>\n",
              "      <th>due_day</th>\n",
              "      <th>due_month</th>\n",
              "      <th>cn</th>\n",
              "    </tr>\n",
              "  </thead>\n",
              "  <tbody>\n",
              "    <tr>\n",
              "      <th>0</th>\n",
              "      <td>21748.48</td>\n",
              "      <td>0.0</td>\n",
              "      <td>28</td>\n",
              "      <td>11</td>\n",
              "      <td>13</td>\n",
              "      <td>12</td>\n",
              "      <td>0200763152</td>\n",
              "    </tr>\n",
              "    <tr>\n",
              "      <th>1</th>\n",
              "      <td>70698.34</td>\n",
              "      <td>0.0</td>\n",
              "      <td>28</td>\n",
              "      <td>11</td>\n",
              "      <td>13</td>\n",
              "      <td>12</td>\n",
              "      <td>0200769623</td>\n",
              "    </tr>\n",
              "    <tr>\n",
              "      <th>2</th>\n",
              "      <td>897.46</td>\n",
              "      <td>5.0</td>\n",
              "      <td>28</td>\n",
              "      <td>11</td>\n",
              "      <td>13</td>\n",
              "      <td>12</td>\n",
              "      <td>0200769623</td>\n",
              "    </tr>\n",
              "    <tr>\n",
              "      <th>3</th>\n",
              "      <td>2367.26</td>\n",
              "      <td>3.0</td>\n",
              "      <td>28</td>\n",
              "      <td>11</td>\n",
              "      <td>16</td>\n",
              "      <td>12</td>\n",
              "      <td>0140106408</td>\n",
              "    </tr>\n",
              "    <tr>\n",
              "      <th>4</th>\n",
              "      <td>34027.91</td>\n",
              "      <td>3.0</td>\n",
              "      <td>28</td>\n",
              "      <td>11</td>\n",
              "      <td>13</td>\n",
              "      <td>12</td>\n",
              "      <td>0200744019</td>\n",
              "    </tr>\n",
              "    <tr>\n",
              "      <th>...</th>\n",
              "      <td>...</td>\n",
              "      <td>...</td>\n",
              "      <td>...</td>\n",
              "      <td>...</td>\n",
              "      <td>...</td>\n",
              "      <td>...</td>\n",
              "      <td>...</td>\n",
              "    </tr>\n",
              "    <tr>\n",
              "      <th>3241</th>\n",
              "      <td>2020.42</td>\n",
              "      <td>0.0</td>\n",
              "      <td>12</td>\n",
              "      <td>1</td>\n",
              "      <td>27</td>\n",
              "      <td>1</td>\n",
              "      <td>0200726979</td>\n",
              "    </tr>\n",
              "    <tr>\n",
              "      <th>3242</th>\n",
              "      <td>256.91</td>\n",
              "      <td>0.0</td>\n",
              "      <td>12</td>\n",
              "      <td>1</td>\n",
              "      <td>27</td>\n",
              "      <td>1</td>\n",
              "      <td>0200769623</td>\n",
              "    </tr>\n",
              "    <tr>\n",
              "      <th>3243</th>\n",
              "      <td>256.91</td>\n",
              "      <td>0.0</td>\n",
              "      <td>12</td>\n",
              "      <td>1</td>\n",
              "      <td>27</td>\n",
              "      <td>1</td>\n",
              "      <td>0200769623</td>\n",
              "    </tr>\n",
              "    <tr>\n",
              "      <th>3244</th>\n",
              "      <td>1118.71</td>\n",
              "      <td>0.0</td>\n",
              "      <td>12</td>\n",
              "      <td>1</td>\n",
              "      <td>27</td>\n",
              "      <td>1</td>\n",
              "      <td>0200769623</td>\n",
              "    </tr>\n",
              "    <tr>\n",
              "      <th>3245</th>\n",
              "      <td>135465.20</td>\n",
              "      <td>0.0</td>\n",
              "      <td>12</td>\n",
              "      <td>1</td>\n",
              "      <td>27</td>\n",
              "      <td>1</td>\n",
              "      <td>0200707822</td>\n",
              "    </tr>\n",
              "  </tbody>\n",
              "</table>\n",
              "<p>3246 rows × 7 columns</p>\n",
              "</div>"
            ],
            "text/plain": [
              "      total_open_amount  delay  doc_create_day  doc_create_month  due_day  \\\n",
              "0              21748.48    0.0              28                11       13   \n",
              "1              70698.34    0.0              28                11       13   \n",
              "2                897.46    5.0              28                11       13   \n",
              "3               2367.26    3.0              28                11       16   \n",
              "4              34027.91    3.0              28                11       13   \n",
              "...                 ...    ...             ...               ...      ...   \n",
              "3241            2020.42    0.0              12                 1       27   \n",
              "3242             256.91    0.0              12                 1       27   \n",
              "3243             256.91    0.0              12                 1       27   \n",
              "3244            1118.71    0.0              12                 1       27   \n",
              "3245          135465.20    0.0              12                 1       27   \n",
              "\n",
              "      due_month          cn  \n",
              "0            12  0200763152  \n",
              "1            12  0200769623  \n",
              "2            12  0200769623  \n",
              "3            12  0140106408  \n",
              "4            12  0200744019  \n",
              "...         ...         ...  \n",
              "3241          1  0200726979  \n",
              "3242          1  0200769623  \n",
              "3243          1  0200769623  \n",
              "3244          1  0200769623  \n",
              "3245          1  0200707822  \n",
              "\n",
              "[3246 rows x 7 columns]"
            ]
          },
          "execution_count": 78,
          "metadata": {},
          "output_type": "execute_result"
        }
      ],
      "source": [
        "val1['delay']=val1.delay.apply(lambda x: 0 if x<0 else x)\n",
        "val1.drop(['business_code', 'name_customer', 'clear_date', 'buisness_year', 'invoice_currency', 'baseline_create_date', 'cust_payment_terms', 'isOpen'], axis=1, inplace=True)\n",
        "\n",
        "val1[\"doc_create_day\"] = val1[\"document_create_date.1\"].dt.day\n",
        "val1[\"doc_create_month\"] = val1[\"document_create_date.1\"].dt.month\n",
        "\n",
        "val1[\"due_day\"] = val1[\"due_in_date\"].dt.day\n",
        "val1[\"due_month\"] = val1[\"due_in_date\"].dt.month\n",
        "\n",
        "val1['cn'] = val1['cust_number'].str.extract('(\\d+)')\n",
        "val1.drop('cust_number',axis=1,inplace=True)\n",
        "\n",
        "val1.drop(columns=['document_create_date.1', 'due_in_date'], inplace=True)\n",
        "val1"
      ]
    },
    {
      "cell_type": "code",
      "execution_count": null,
      "metadata": {
        "id": "b3MOEt3flkUt",
        "outputId": "02309849-31bc-4ff5-96d1-420885f4bb9f"
      },
      "outputs": [
        {
          "name": "stdout",
          "output_type": "stream",
          "text": [
            "<class 'pandas.core.frame.DataFrame'>\n",
            "RangeIndex: 3246 entries, 0 to 3245\n",
            "Data columns (total 7 columns):\n",
            " #   Column             Non-Null Count  Dtype  \n",
            "---  ------             --------------  -----  \n",
            " 0   total_open_amount  3246 non-null   float64\n",
            " 1   delay              3246 non-null   float64\n",
            " 2   doc_create_day     3246 non-null   int64  \n",
            " 3   doc_create_month   3246 non-null   int64  \n",
            " 4   due_day            3246 non-null   int64  \n",
            " 5   due_month          3246 non-null   int64  \n",
            " 6   cn                 3246 non-null   float64\n",
            "dtypes: float64(3), int64(4)\n",
            "memory usage: 177.6 KB\n"
          ]
        }
      ],
      "source": [
        "val1['cn']=val1['cn'].astype(str).astype(float)\n",
        "val1.info()"
      ]
    },
    {
      "cell_type": "markdown",
      "metadata": {
        "id": "wCN0s2J_lkUt"
      },
      "source": [
        "Splitting into x_val and y_val"
      ]
    },
    {
      "cell_type": "code",
      "execution_count": null,
      "metadata": {
        "id": "-Uo9leY-lkUt",
        "outputId": "361b359c-2400-4b4b-ceb3-97a236bed7b4"
      },
      "outputs": [
        {
          "data": {
            "text/plain": [
              "0       0.0\n",
              "1       0.0\n",
              "2       5.0\n",
              "3       3.0\n",
              "4       3.0\n",
              "       ... \n",
              "3241    0.0\n",
              "3242    0.0\n",
              "3243    0.0\n",
              "3244    0.0\n",
              "3245    0.0\n",
              "Name: delay, Length: 3246, dtype: float64"
            ]
          },
          "execution_count": 80,
          "metadata": {},
          "output_type": "execute_result"
        }
      ],
      "source": [
        "y_val1 = val1['delay']\n",
        "y_val1"
      ]
    },
    {
      "cell_type": "code",
      "execution_count": null,
      "metadata": {
        "id": "Un36ytvelkUu",
        "outputId": "735d3b72-4a73-4dbf-bd27-0e7bb24f1567"
      },
      "outputs": [
        {
          "data": {
            "text/html": [
              "<div>\n",
              "<style scoped>\n",
              "    .dataframe tbody tr th:only-of-type {\n",
              "        vertical-align: middle;\n",
              "    }\n",
              "\n",
              "    .dataframe tbody tr th {\n",
              "        vertical-align: top;\n",
              "    }\n",
              "\n",
              "    .dataframe thead th {\n",
              "        text-align: right;\n",
              "    }\n",
              "</style>\n",
              "<table border=\"1\" class=\"dataframe\">\n",
              "  <thead>\n",
              "    <tr style=\"text-align: right;\">\n",
              "      <th></th>\n",
              "      <th>total_open_amount</th>\n",
              "      <th>doc_create_day</th>\n",
              "      <th>doc_create_month</th>\n",
              "      <th>due_day</th>\n",
              "      <th>due_month</th>\n",
              "      <th>cn</th>\n",
              "    </tr>\n",
              "  </thead>\n",
              "  <tbody>\n",
              "    <tr>\n",
              "      <th>0</th>\n",
              "      <td>21748.48</td>\n",
              "      <td>28</td>\n",
              "      <td>11</td>\n",
              "      <td>13</td>\n",
              "      <td>12</td>\n",
              "      <td>200763152.0</td>\n",
              "    </tr>\n",
              "    <tr>\n",
              "      <th>1</th>\n",
              "      <td>70698.34</td>\n",
              "      <td>28</td>\n",
              "      <td>11</td>\n",
              "      <td>13</td>\n",
              "      <td>12</td>\n",
              "      <td>200769623.0</td>\n",
              "    </tr>\n",
              "    <tr>\n",
              "      <th>2</th>\n",
              "      <td>897.46</td>\n",
              "      <td>28</td>\n",
              "      <td>11</td>\n",
              "      <td>13</td>\n",
              "      <td>12</td>\n",
              "      <td>200769623.0</td>\n",
              "    </tr>\n",
              "    <tr>\n",
              "      <th>3</th>\n",
              "      <td>2367.26</td>\n",
              "      <td>28</td>\n",
              "      <td>11</td>\n",
              "      <td>16</td>\n",
              "      <td>12</td>\n",
              "      <td>140106408.0</td>\n",
              "    </tr>\n",
              "    <tr>\n",
              "      <th>4</th>\n",
              "      <td>34027.91</td>\n",
              "      <td>28</td>\n",
              "      <td>11</td>\n",
              "      <td>13</td>\n",
              "      <td>12</td>\n",
              "      <td>200744019.0</td>\n",
              "    </tr>\n",
              "    <tr>\n",
              "      <th>...</th>\n",
              "      <td>...</td>\n",
              "      <td>...</td>\n",
              "      <td>...</td>\n",
              "      <td>...</td>\n",
              "      <td>...</td>\n",
              "      <td>...</td>\n",
              "    </tr>\n",
              "    <tr>\n",
              "      <th>3241</th>\n",
              "      <td>2020.42</td>\n",
              "      <td>12</td>\n",
              "      <td>1</td>\n",
              "      <td>27</td>\n",
              "      <td>1</td>\n",
              "      <td>200726979.0</td>\n",
              "    </tr>\n",
              "    <tr>\n",
              "      <th>3242</th>\n",
              "      <td>256.91</td>\n",
              "      <td>12</td>\n",
              "      <td>1</td>\n",
              "      <td>27</td>\n",
              "      <td>1</td>\n",
              "      <td>200769623.0</td>\n",
              "    </tr>\n",
              "    <tr>\n",
              "      <th>3243</th>\n",
              "      <td>256.91</td>\n",
              "      <td>12</td>\n",
              "      <td>1</td>\n",
              "      <td>27</td>\n",
              "      <td>1</td>\n",
              "      <td>200769623.0</td>\n",
              "    </tr>\n",
              "    <tr>\n",
              "      <th>3244</th>\n",
              "      <td>1118.71</td>\n",
              "      <td>12</td>\n",
              "      <td>1</td>\n",
              "      <td>27</td>\n",
              "      <td>1</td>\n",
              "      <td>200769623.0</td>\n",
              "    </tr>\n",
              "    <tr>\n",
              "      <th>3245</th>\n",
              "      <td>135465.20</td>\n",
              "      <td>12</td>\n",
              "      <td>1</td>\n",
              "      <td>27</td>\n",
              "      <td>1</td>\n",
              "      <td>200707822.0</td>\n",
              "    </tr>\n",
              "  </tbody>\n",
              "</table>\n",
              "<p>3246 rows × 6 columns</p>\n",
              "</div>"
            ],
            "text/plain": [
              "      total_open_amount  doc_create_day  doc_create_month  due_day  due_month  \\\n",
              "0              21748.48              28                11       13         12   \n",
              "1              70698.34              28                11       13         12   \n",
              "2                897.46              28                11       13         12   \n",
              "3               2367.26              28                11       16         12   \n",
              "4              34027.91              28                11       13         12   \n",
              "...                 ...             ...               ...      ...        ...   \n",
              "3241            2020.42              12                 1       27          1   \n",
              "3242             256.91              12                 1       27          1   \n",
              "3243             256.91              12                 1       27          1   \n",
              "3244            1118.71              12                 1       27          1   \n",
              "3245          135465.20              12                 1       27          1   \n",
              "\n",
              "               cn  \n",
              "0     200763152.0  \n",
              "1     200769623.0  \n",
              "2     200769623.0  \n",
              "3     140106408.0  \n",
              "4     200744019.0  \n",
              "...           ...  \n",
              "3241  200726979.0  \n",
              "3242  200769623.0  \n",
              "3243  200769623.0  \n",
              "3244  200769623.0  \n",
              "3245  200707822.0  \n",
              "\n",
              "[3246 rows x 6 columns]"
            ]
          },
          "execution_count": 81,
          "metadata": {},
          "output_type": "execute_result"
        }
      ],
      "source": [
        "x_val1 = val1.drop([\"delay\"], axis=1).copy()\n",
        "x_val1"
      ]
    },
    {
      "cell_type": "code",
      "execution_count": null,
      "metadata": {
        "id": "5jWZiGValkUu",
        "outputId": "421372c4-e973-4a7e-dd5a-7b7cb6baa325"
      },
      "outputs": [
        {
          "data": {
            "text/html": [
              "<div>\n",
              "<style scoped>\n",
              "    .dataframe tbody tr th:only-of-type {\n",
              "        vertical-align: middle;\n",
              "    }\n",
              "\n",
              "    .dataframe tbody tr th {\n",
              "        vertical-align: top;\n",
              "    }\n",
              "\n",
              "    .dataframe thead th {\n",
              "        text-align: right;\n",
              "    }\n",
              "</style>\n",
              "<table border=\"1\" class=\"dataframe\">\n",
              "  <thead>\n",
              "    <tr style=\"text-align: right;\">\n",
              "      <th></th>\n",
              "      <th>total_open_amount</th>\n",
              "      <th>delay</th>\n",
              "      <th>doc_create_day</th>\n",
              "      <th>doc_create_month</th>\n",
              "      <th>due_day</th>\n",
              "      <th>due_month</th>\n",
              "      <th>cn</th>\n",
              "    </tr>\n",
              "  </thead>\n",
              "  <tbody>\n",
              "    <tr>\n",
              "      <th>0</th>\n",
              "      <td>32547.72</td>\n",
              "      <td>0.0</td>\n",
              "      <td>13</td>\n",
              "      <td>1</td>\n",
              "      <td>28</td>\n",
              "      <td>1</td>\n",
              "      <td>0200789077</td>\n",
              "    </tr>\n",
              "    <tr>\n",
              "      <th>1</th>\n",
              "      <td>4388.75</td>\n",
              "      <td>0.0</td>\n",
              "      <td>13</td>\n",
              "      <td>1</td>\n",
              "      <td>28</td>\n",
              "      <td>1</td>\n",
              "      <td>0200769623</td>\n",
              "    </tr>\n",
              "    <tr>\n",
              "      <th>2</th>\n",
              "      <td>6040.68</td>\n",
              "      <td>0.0</td>\n",
              "      <td>13</td>\n",
              "      <td>1</td>\n",
              "      <td>28</td>\n",
              "      <td>1</td>\n",
              "      <td>0200769623</td>\n",
              "    </tr>\n",
              "    <tr>\n",
              "      <th>3</th>\n",
              "      <td>71525.23</td>\n",
              "      <td>0.0</td>\n",
              "      <td>13</td>\n",
              "      <td>1</td>\n",
              "      <td>28</td>\n",
              "      <td>1</td>\n",
              "      <td>0200769623</td>\n",
              "    </tr>\n",
              "    <tr>\n",
              "      <th>4</th>\n",
              "      <td>231.24</td>\n",
              "      <td>0.0</td>\n",
              "      <td>13</td>\n",
              "      <td>1</td>\n",
              "      <td>28</td>\n",
              "      <td>1</td>\n",
              "      <td>0200117492</td>\n",
              "    </tr>\n",
              "    <tr>\n",
              "      <th>...</th>\n",
              "      <td>...</td>\n",
              "      <td>...</td>\n",
              "      <td>...</td>\n",
              "      <td>...</td>\n",
              "      <td>...</td>\n",
              "      <td>...</td>\n",
              "      <td>...</td>\n",
              "    </tr>\n",
              "    <tr>\n",
              "      <th>4654</th>\n",
              "      <td>2878.29</td>\n",
              "      <td>11.0</td>\n",
              "      <td>27</td>\n",
              "      <td>2</td>\n",
              "      <td>9</td>\n",
              "      <td>3</td>\n",
              "      <td>0140106408</td>\n",
              "    </tr>\n",
              "    <tr>\n",
              "      <th>4655</th>\n",
              "      <td>10770.76</td>\n",
              "      <td>0.0</td>\n",
              "      <td>27</td>\n",
              "      <td>2</td>\n",
              "      <td>2</td>\n",
              "      <td>5</td>\n",
              "      <td>0200721222</td>\n",
              "    </tr>\n",
              "    <tr>\n",
              "      <th>4656</th>\n",
              "      <td>39408.22</td>\n",
              "      <td>3.0</td>\n",
              "      <td>27</td>\n",
              "      <td>2</td>\n",
              "      <td>13</td>\n",
              "      <td>3</td>\n",
              "      <td>0200744707</td>\n",
              "    </tr>\n",
              "    <tr>\n",
              "      <th>4657</th>\n",
              "      <td>70504.55</td>\n",
              "      <td>0.0</td>\n",
              "      <td>27</td>\n",
              "      <td>2</td>\n",
              "      <td>13</td>\n",
              "      <td>3</td>\n",
              "      <td>0200759878</td>\n",
              "    </tr>\n",
              "    <tr>\n",
              "      <th>4658</th>\n",
              "      <td>90195.02</td>\n",
              "      <td>2.0</td>\n",
              "      <td>27</td>\n",
              "      <td>2</td>\n",
              "      <td>18</td>\n",
              "      <td>3</td>\n",
              "      <td>0200700919</td>\n",
              "    </tr>\n",
              "  </tbody>\n",
              "</table>\n",
              "<p>4659 rows × 7 columns</p>\n",
              "</div>"
            ],
            "text/plain": [
              "      total_open_amount  delay  doc_create_day  doc_create_month  due_day  \\\n",
              "0              32547.72    0.0              13                 1       28   \n",
              "1               4388.75    0.0              13                 1       28   \n",
              "2               6040.68    0.0              13                 1       28   \n",
              "3              71525.23    0.0              13                 1       28   \n",
              "4                231.24    0.0              13                 1       28   \n",
              "...                 ...    ...             ...               ...      ...   \n",
              "4654            2878.29   11.0              27                 2        9   \n",
              "4655           10770.76    0.0              27                 2        2   \n",
              "4656           39408.22    3.0              27                 2       13   \n",
              "4657           70504.55    0.0              27                 2       13   \n",
              "4658           90195.02    2.0              27                 2       18   \n",
              "\n",
              "      due_month          cn  \n",
              "0             1  0200789077  \n",
              "1             1  0200769623  \n",
              "2             1  0200769623  \n",
              "3             1  0200769623  \n",
              "4             1  0200117492  \n",
              "...         ...         ...  \n",
              "4654          3  0140106408  \n",
              "4655          5  0200721222  \n",
              "4656          3  0200744707  \n",
              "4657          3  0200759878  \n",
              "4658          3  0200700919  \n",
              "\n",
              "[4659 rows x 7 columns]"
            ]
          },
          "execution_count": 82,
          "metadata": {},
          "output_type": "execute_result"
        }
      ],
      "source": [
        "val2['delay']=val2.delay.apply(lambda x: 0 if x<0 else x)\n",
        "val2.drop(['business_code', 'name_customer', 'clear_date', 'buisness_year', 'invoice_currency', 'baseline_create_date', 'cust_payment_terms', 'isOpen'], axis=1, inplace=True)\n",
        "\n",
        "val2[\"doc_create_day\"] = val2[\"document_create_date.1\"].dt.day\n",
        "val2[\"doc_create_month\"] = val2[\"document_create_date.1\"].dt.month\n",
        "\n",
        "val2[\"due_day\"] = val2[\"due_in_date\"].dt.day\n",
        "val2[\"due_month\"] = val2[\"due_in_date\"].dt.month\n",
        "\n",
        "val2['cn'] = val2['cust_number'].str.extract('(\\d+)')\n",
        "val2.drop('cust_number',axis=1,inplace=True)\n",
        "\n",
        "val2.drop(columns=['document_create_date.1', 'due_in_date'], inplace=True)\n",
        "val2"
      ]
    },
    {
      "cell_type": "code",
      "execution_count": null,
      "metadata": {
        "id": "5p9I0JG9lkUu",
        "outputId": "b4697685-6e15-48ee-ac8d-5920585e4108"
      },
      "outputs": [
        {
          "name": "stdout",
          "output_type": "stream",
          "text": [
            "<class 'pandas.core.frame.DataFrame'>\n",
            "RangeIndex: 4659 entries, 0 to 4658\n",
            "Data columns (total 7 columns):\n",
            " #   Column             Non-Null Count  Dtype  \n",
            "---  ------             --------------  -----  \n",
            " 0   total_open_amount  4659 non-null   float64\n",
            " 1   delay              4659 non-null   float64\n",
            " 2   doc_create_day     4659 non-null   int64  \n",
            " 3   doc_create_month   4659 non-null   int64  \n",
            " 4   due_day            4659 non-null   int64  \n",
            " 5   due_month          4659 non-null   int64  \n",
            " 6   cn                 4659 non-null   float64\n",
            "dtypes: float64(3), int64(4)\n",
            "memory usage: 254.9 KB\n"
          ]
        }
      ],
      "source": [
        "val2['cn']=val2['cn'].astype(str).astype(float)\n",
        "val2.info()"
      ]
    },
    {
      "cell_type": "code",
      "execution_count": null,
      "metadata": {
        "id": "oy5shBmmlkUv",
        "outputId": "6b4fb670-7db3-4f27-f805-34e7f28e7d2a"
      },
      "outputs": [
        {
          "data": {
            "text/plain": [
              "0        0.0\n",
              "1        0.0\n",
              "2        0.0\n",
              "3        0.0\n",
              "4        0.0\n",
              "        ... \n",
              "4654    11.0\n",
              "4655     0.0\n",
              "4656     3.0\n",
              "4657     0.0\n",
              "4658     2.0\n",
              "Name: delay, Length: 4659, dtype: float64"
            ]
          },
          "execution_count": 84,
          "metadata": {},
          "output_type": "execute_result"
        }
      ],
      "source": [
        "y_val2 = val2['delay']\n",
        "y_val2"
      ]
    },
    {
      "cell_type": "code",
      "execution_count": null,
      "metadata": {
        "id": "RJbqo1CnlkUv",
        "outputId": "7d7f97e7-c7e8-4c58-8e9e-2a8345d0408e"
      },
      "outputs": [
        {
          "data": {
            "text/html": [
              "<div>\n",
              "<style scoped>\n",
              "    .dataframe tbody tr th:only-of-type {\n",
              "        vertical-align: middle;\n",
              "    }\n",
              "\n",
              "    .dataframe tbody tr th {\n",
              "        vertical-align: top;\n",
              "    }\n",
              "\n",
              "    .dataframe thead th {\n",
              "        text-align: right;\n",
              "    }\n",
              "</style>\n",
              "<table border=\"1\" class=\"dataframe\">\n",
              "  <thead>\n",
              "    <tr style=\"text-align: right;\">\n",
              "      <th></th>\n",
              "      <th>total_open_amount</th>\n",
              "      <th>doc_create_day</th>\n",
              "      <th>doc_create_month</th>\n",
              "      <th>due_day</th>\n",
              "      <th>due_month</th>\n",
              "      <th>cn</th>\n",
              "    </tr>\n",
              "  </thead>\n",
              "  <tbody>\n",
              "    <tr>\n",
              "      <th>0</th>\n",
              "      <td>32547.72</td>\n",
              "      <td>13</td>\n",
              "      <td>1</td>\n",
              "      <td>28</td>\n",
              "      <td>1</td>\n",
              "      <td>200789077.0</td>\n",
              "    </tr>\n",
              "    <tr>\n",
              "      <th>1</th>\n",
              "      <td>4388.75</td>\n",
              "      <td>13</td>\n",
              "      <td>1</td>\n",
              "      <td>28</td>\n",
              "      <td>1</td>\n",
              "      <td>200769623.0</td>\n",
              "    </tr>\n",
              "    <tr>\n",
              "      <th>2</th>\n",
              "      <td>6040.68</td>\n",
              "      <td>13</td>\n",
              "      <td>1</td>\n",
              "      <td>28</td>\n",
              "      <td>1</td>\n",
              "      <td>200769623.0</td>\n",
              "    </tr>\n",
              "    <tr>\n",
              "      <th>3</th>\n",
              "      <td>71525.23</td>\n",
              "      <td>13</td>\n",
              "      <td>1</td>\n",
              "      <td>28</td>\n",
              "      <td>1</td>\n",
              "      <td>200769623.0</td>\n",
              "    </tr>\n",
              "    <tr>\n",
              "      <th>4</th>\n",
              "      <td>231.24</td>\n",
              "      <td>13</td>\n",
              "      <td>1</td>\n",
              "      <td>28</td>\n",
              "      <td>1</td>\n",
              "      <td>200117492.0</td>\n",
              "    </tr>\n",
              "    <tr>\n",
              "      <th>...</th>\n",
              "      <td>...</td>\n",
              "      <td>...</td>\n",
              "      <td>...</td>\n",
              "      <td>...</td>\n",
              "      <td>...</td>\n",
              "      <td>...</td>\n",
              "    </tr>\n",
              "    <tr>\n",
              "      <th>4654</th>\n",
              "      <td>2878.29</td>\n",
              "      <td>27</td>\n",
              "      <td>2</td>\n",
              "      <td>9</td>\n",
              "      <td>3</td>\n",
              "      <td>140106408.0</td>\n",
              "    </tr>\n",
              "    <tr>\n",
              "      <th>4655</th>\n",
              "      <td>10770.76</td>\n",
              "      <td>27</td>\n",
              "      <td>2</td>\n",
              "      <td>2</td>\n",
              "      <td>5</td>\n",
              "      <td>200721222.0</td>\n",
              "    </tr>\n",
              "    <tr>\n",
              "      <th>4656</th>\n",
              "      <td>39408.22</td>\n",
              "      <td>27</td>\n",
              "      <td>2</td>\n",
              "      <td>13</td>\n",
              "      <td>3</td>\n",
              "      <td>200744707.0</td>\n",
              "    </tr>\n",
              "    <tr>\n",
              "      <th>4657</th>\n",
              "      <td>70504.55</td>\n",
              "      <td>27</td>\n",
              "      <td>2</td>\n",
              "      <td>13</td>\n",
              "      <td>3</td>\n",
              "      <td>200759878.0</td>\n",
              "    </tr>\n",
              "    <tr>\n",
              "      <th>4658</th>\n",
              "      <td>90195.02</td>\n",
              "      <td>27</td>\n",
              "      <td>2</td>\n",
              "      <td>18</td>\n",
              "      <td>3</td>\n",
              "      <td>200700919.0</td>\n",
              "    </tr>\n",
              "  </tbody>\n",
              "</table>\n",
              "<p>4659 rows × 6 columns</p>\n",
              "</div>"
            ],
            "text/plain": [
              "      total_open_amount  doc_create_day  doc_create_month  due_day  due_month  \\\n",
              "0              32547.72              13                 1       28          1   \n",
              "1               4388.75              13                 1       28          1   \n",
              "2               6040.68              13                 1       28          1   \n",
              "3              71525.23              13                 1       28          1   \n",
              "4                231.24              13                 1       28          1   \n",
              "...                 ...             ...               ...      ...        ...   \n",
              "4654            2878.29              27                 2        9          3   \n",
              "4655           10770.76              27                 2        2          5   \n",
              "4656           39408.22              27                 2       13          3   \n",
              "4657           70504.55              27                 2       13          3   \n",
              "4658           90195.02              27                 2       18          3   \n",
              "\n",
              "               cn  \n",
              "0     200789077.0  \n",
              "1     200769623.0  \n",
              "2     200769623.0  \n",
              "3     200769623.0  \n",
              "4     200117492.0  \n",
              "...           ...  \n",
              "4654  140106408.0  \n",
              "4655  200721222.0  \n",
              "4656  200744707.0  \n",
              "4657  200759878.0  \n",
              "4658  200700919.0  \n",
              "\n",
              "[4659 rows x 6 columns]"
            ]
          },
          "execution_count": 85,
          "metadata": {},
          "output_type": "execute_result"
        }
      ],
      "source": [
        "x_val2 = val2.drop([\"delay\"], axis=1).copy()\n",
        "x_val2"
      ]
    },
    {
      "cell_type": "code",
      "execution_count": null,
      "metadata": {
        "scrolled": true,
        "id": "ZWmfvKILlkUw",
        "outputId": "8794286d-9706-405c-9f4c-c3be15f3a4bb"
      },
      "outputs": [
        {
          "data": {
            "text/html": [
              "<div>\n",
              "<style scoped>\n",
              "    .dataframe tbody tr th:only-of-type {\n",
              "        vertical-align: middle;\n",
              "    }\n",
              "\n",
              "    .dataframe tbody tr th {\n",
              "        vertical-align: top;\n",
              "    }\n",
              "\n",
              "    .dataframe thead th {\n",
              "        text-align: right;\n",
              "    }\n",
              "</style>\n",
              "<table border=\"1\" class=\"dataframe\">\n",
              "  <thead>\n",
              "    <tr style=\"text-align: right;\">\n",
              "      <th></th>\n",
              "      <th>total_open_amount</th>\n",
              "      <th>doc_create_day</th>\n",
              "      <th>doc_create_month</th>\n",
              "      <th>due_day</th>\n",
              "      <th>due_month</th>\n",
              "      <th>cn</th>\n",
              "    </tr>\n",
              "  </thead>\n",
              "  <tbody>\n",
              "    <tr>\n",
              "      <th>0</th>\n",
              "      <td>16157.16</td>\n",
              "      <td>27</td>\n",
              "      <td>2</td>\n",
              "      <td>13</td>\n",
              "      <td>3</td>\n",
              "      <td>0200772595</td>\n",
              "    </tr>\n",
              "    <tr>\n",
              "      <th>1</th>\n",
              "      <td>722.50</td>\n",
              "      <td>27</td>\n",
              "      <td>2</td>\n",
              "      <td>10</td>\n",
              "      <td>3</td>\n",
              "      <td>0140105847</td>\n",
              "    </tr>\n",
              "    <tr>\n",
              "      <th>2</th>\n",
              "      <td>4206.28</td>\n",
              "      <td>27</td>\n",
              "      <td>2</td>\n",
              "      <td>13</td>\n",
              "      <td>3</td>\n",
              "      <td>0200744019</td>\n",
              "    </tr>\n",
              "    <tr>\n",
              "      <th>3</th>\n",
              "      <td>51877.23</td>\n",
              "      <td>27</td>\n",
              "      <td>2</td>\n",
              "      <td>13</td>\n",
              "      <td>3</td>\n",
              "      <td>0200943275</td>\n",
              "    </tr>\n",
              "    <tr>\n",
              "      <th>4</th>\n",
              "      <td>365.88</td>\n",
              "      <td>27</td>\n",
              "      <td>2</td>\n",
              "      <td>13</td>\n",
              "      <td>3</td>\n",
              "      <td>0200726979</td>\n",
              "    </tr>\n",
              "    <tr>\n",
              "      <th>...</th>\n",
              "      <td>...</td>\n",
              "      <td>...</td>\n",
              "      <td>...</td>\n",
              "      <td>...</td>\n",
              "      <td>...</td>\n",
              "      <td>...</td>\n",
              "    </tr>\n",
              "    <tr>\n",
              "      <th>4814</th>\n",
              "      <td>1226.00</td>\n",
              "      <td>12</td>\n",
              "      <td>5</td>\n",
              "      <td>24</td>\n",
              "      <td>5</td>\n",
              "      <td>0200592182</td>\n",
              "    </tr>\n",
              "    <tr>\n",
              "      <th>4815</th>\n",
              "      <td>36513.74</td>\n",
              "      <td>12</td>\n",
              "      <td>5</td>\n",
              "      <td>27</td>\n",
              "      <td>5</td>\n",
              "      <td>200769623</td>\n",
              "    </tr>\n",
              "    <tr>\n",
              "      <th>4816</th>\n",
              "      <td>15220.00</td>\n",
              "      <td>13</td>\n",
              "      <td>5</td>\n",
              "      <td>28</td>\n",
              "      <td>5</td>\n",
              "      <td>0200915438</td>\n",
              "    </tr>\n",
              "    <tr>\n",
              "      <th>4817</th>\n",
              "      <td>17893.25</td>\n",
              "      <td>16</td>\n",
              "      <td>5</td>\n",
              "      <td>31</td>\n",
              "      <td>5</td>\n",
              "      <td>100030964</td>\n",
              "    </tr>\n",
              "    <tr>\n",
              "      <th>4818</th>\n",
              "      <td>8326.87</td>\n",
              "      <td>19</td>\n",
              "      <td>5</td>\n",
              "      <td>3</td>\n",
              "      <td>6</td>\n",
              "      <td>0200915438</td>\n",
              "    </tr>\n",
              "  </tbody>\n",
              "</table>\n",
              "<p>4819 rows × 6 columns</p>\n",
              "</div>"
            ],
            "text/plain": [
              "      total_open_amount  doc_create_day  doc_create_month  due_day  due_month  \\\n",
              "0              16157.16              27                 2       13          3   \n",
              "1                722.50              27                 2       10          3   \n",
              "2               4206.28              27                 2       13          3   \n",
              "3              51877.23              27                 2       13          3   \n",
              "4                365.88              27                 2       13          3   \n",
              "...                 ...             ...               ...      ...        ...   \n",
              "4814            1226.00              12                 5       24          5   \n",
              "4815           36513.74              12                 5       27          5   \n",
              "4816           15220.00              13                 5       28          5   \n",
              "4817           17893.25              16                 5       31          5   \n",
              "4818            8326.87              19                 5        3          6   \n",
              "\n",
              "              cn  \n",
              "0     0200772595  \n",
              "1     0140105847  \n",
              "2     0200744019  \n",
              "3     0200943275  \n",
              "4     0200726979  \n",
              "...          ...  \n",
              "4814  0200592182  \n",
              "4815   200769623  \n",
              "4816  0200915438  \n",
              "4817   100030964  \n",
              "4818  0200915438  \n",
              "\n",
              "[4819 rows x 6 columns]"
            ]
          },
          "execution_count": 86,
          "metadata": {},
          "output_type": "execute_result"
        }
      ],
      "source": [
        "x_test.drop(['business_code', 'name_customer', 'clear_date', 'buisness_year', 'invoice_currency', 'baseline_create_date', 'cust_payment_terms', 'isOpen'], axis=1, inplace=True)\n",
        "\n",
        "x_test[\"doc_create_day\"] = x_test[\"document_create_date.1\"].dt.day\n",
        "x_test[\"doc_create_month\"] = x_test[\"document_create_date.1\"].dt.month\n",
        "\n",
        "x_test[\"due_day\"] = x_test[\"due_in_date\"].dt.day\n",
        "x_test[\"due_month\"] = x_test[\"due_in_date\"].dt.month\n",
        "\n",
        "x_test['cn'] = x_test['cust_number'].str.extract('(\\d+)')\n",
        "x_test.drop('cust_number',axis=1,inplace=True)\n",
        "\n",
        "x_test.drop(columns=['document_create_date.1', 'due_in_date'], inplace=True)\n",
        "x_test"
      ]
    },
    {
      "cell_type": "code",
      "execution_count": null,
      "metadata": {
        "id": "j9a8RmtklkUw",
        "outputId": "e0b50979-7d7b-4517-a53f-b5d66485fe2f"
      },
      "outputs": [
        {
          "name": "stdout",
          "output_type": "stream",
          "text": [
            "<class 'pandas.core.frame.DataFrame'>\n",
            "RangeIndex: 4819 entries, 0 to 4818\n",
            "Data columns (total 5 columns):\n",
            " #   Column             Non-Null Count  Dtype  \n",
            "---  ------             --------------  -----  \n",
            " 0   total_open_amount  4819 non-null   float64\n",
            " 1   doc_create_day     4819 non-null   int64  \n",
            " 2   doc_create_month   4819 non-null   int64  \n",
            " 3   due_day            4819 non-null   int64  \n",
            " 4   cn                 4819 non-null   float64\n",
            "dtypes: float64(2), int64(3)\n",
            "memory usage: 188.4 KB\n"
          ]
        }
      ],
      "source": [
        "x_test['cn']=x_test['cn'].astype(str).astype(float)\n",
        "x_test.info()"
      ]
    },
    {
      "cell_type": "markdown",
      "metadata": {
        "id": "v9mfrqr9lkUw"
      },
      "source": [
        "# FEATURE SELECTION"
      ]
    },
    {
      "cell_type": "code",
      "execution_count": null,
      "metadata": {
        "id": "Yb6dJlYelkUw",
        "outputId": "4558492a-4dc0-4b4c-aa13-a53edec3ed0a"
      },
      "outputs": [
        {
          "data": {
            "text/plain": [
              "<AxesSubplot:>"
            ]
          },
          "execution_count": 87,
          "metadata": {},
          "output_type": "execute_result"
        },
        {
          "data": {
            "image/png": "[encoded data removed]",
            "text/plain": [
              "<Figure size 1008x720 with 2 Axes>"
            ]
          },
          "metadata": {
            "needs_background": "light"
          },
          "output_type": "display_data"
        }
      ],
      "source": [
        "plt.figure(figsize=(14,10))\n",
        "cor = train_data.corr()\n",
        "sns.heatmap(cor,cmap = 'viridis',annot=True)"
      ]
    },
    {
      "cell_type": "markdown",
      "metadata": {
        "id": "rZiV3XaOlkUx"
      },
      "source": [
        "As we can see from the above graph due_month and doc_create_month are highly correlated and thus they will have a negative impact on our model. So drop remove due_month. "
      ]
    },
    {
      "cell_type": "code",
      "execution_count": null,
      "metadata": {
        "id": "El7fYVVclkUx"
      },
      "outputs": [],
      "source": [
        "x_train = x_train.drop([\"due_month\"], axis=1).copy()\n",
        "x_val1 = x_val1.drop([\"due_month\"], axis=1).copy()\n",
        "x_val2 = x_val2.drop([\"due_month\"], axis=1).copy()\n",
        "x_test = x_test.drop([\"due_month\"], axis=1).copy()"
      ]
    },
    {
      "cell_type": "markdown",
      "metadata": {
        "id": "vWHly49elkUx"
      },
      "source": [
        "# MODELING"
      ]
    },
    {
      "cell_type": "markdown",
      "metadata": {
        "id": "kD0iaTqWlkUx"
      },
      "source": [
        "As this is a regression model we will use the following models:-\n",
        "- Linear Regressor\n",
        "- SVR\n",
        "- Decision Tree\n",
        "- Random Forest\n",
        "- XgBoost"
      ]
    },
    {
      "cell_type": "markdown",
      "metadata": {
        "id": "FOXnL0oDlkUy"
      },
      "source": [
        "### XGBoost"
      ]
    },
    {
      "cell_type": "code",
      "execution_count": null,
      "metadata": {
        "id": "i9IEkAZnlkUy"
      },
      "outputs": [],
      "source": [
        "#fitting the model \n",
        "\n",
        "clf = xgb.XGBRegressor()\n",
        "clf.fit(x_train, y_train)\n",
        "\n",
        "# Predicting the Validation Set Results\n",
        "predicted = clf.predict(x_val1)"
      ]
    },
    {
      "cell_type": "code",
      "execution_count": null,
      "metadata": {
        "id": "OBZt78pZlkUy",
        "outputId": "ef3eac8e-ea5d-4882-e3c2-3d1984ddbff3"
      },
      "outputs": [
        {
          "name": "stdout",
          "output_type": "stream",
          "text": [
            "Mean absolute error = 1.82\n",
            "Mean squared error = 18.13\n",
            "Median absolute error = 0.85\n",
            "Explain variance score = 0.51\n",
            "R2 score = 0.51\n",
            "Accuracy=  0.5067037516860886\n"
          ]
        }
      ],
      "source": [
        "# predicting all types of error and accuracy\n",
        "\n",
        "print(\"Mean absolute error =\", round(sm.mean_absolute_error(y_val1, predicted), 2)) \n",
        "print(\"Mean squared error =\", round(sm.mean_squared_error(y_val1, predicted), 2)) \n",
        "print(\"Median absolute error =\", round(sm.median_absolute_error(y_val1, predicted), 2)) \n",
        "print(\"Explain variance score =\", round(sm.explained_variance_score(y_val1, predicted), 2)) \n",
        "print(\"R2 score =\", round(sm.r2_score(y_val1, predicted), 2))\n",
        "print(\"Accuracy= \", clf.score(x_val1,y_val1))"
      ]
    },
    {
      "cell_type": "markdown",
      "metadata": {
        "id": "S9Xh3BB1lkUy"
      },
      "source": [
        "### Random Forest"
      ]
    },
    {
      "cell_type": "code",
      "execution_count": null,
      "metadata": {
        "id": "vc_b3KiulkUy"
      },
      "outputs": [],
      "source": [
        "clf2 = RandomForestRegressor()\n",
        "clf2.fit(x_train, y_train)\n",
        "\n",
        "# Predicting the Validation Set Results\n",
        "predicted2 = clf2.predict(x_val1)"
      ]
    },
    {
      "cell_type": "code",
      "execution_count": null,
      "metadata": {
        "id": "dRurICNplkUz",
        "outputId": "47e6ec2b-9363-4f67-c157-a9b6516dbbbd"
      },
      "outputs": [
        {
          "name": "stdout",
          "output_type": "stream",
          "text": [
            "Mean absolute error = 2.08\n",
            "Mean squared error = 19.05\n",
            "Median absolute error = 1.03\n",
            "Explain variance score = 0.51\n",
            "R2 score = 0.48\n",
            "Accuracy=  0.481575048144291\n"
          ]
        }
      ],
      "source": [
        "# predicting all types of error and accuracy\n",
        "\n",
        "print(\"Mean absolute error =\", round(sm.mean_absolute_error(y_val1, predicted2), 2)) \n",
        "print(\"Mean squared error =\", round(sm.mean_squared_error(y_val1, predicted2), 2)) \n",
        "print(\"Median absolute error =\", round(sm.median_absolute_error(y_val1, predicted2), 2)) \n",
        "print(\"Explain variance score =\", round(sm.explained_variance_score(y_val1, predicted2), 2)) \n",
        "print(\"R2 score =\", round(sm.r2_score(y_val1, predicted2), 2))\n",
        "print(\"Accuracy= \", clf2.score(x_val1,y_val1))"
      ]
    },
    {
      "cell_type": "markdown",
      "metadata": {
        "id": "qQ_WWUpdlkUz"
      },
      "source": [
        "### DecisionTreeRegressor"
      ]
    },
    {
      "cell_type": "code",
      "execution_count": null,
      "metadata": {
        "id": "45fOB2X7lkUz"
      },
      "outputs": [],
      "source": [
        "# Fitting Decision Tree Regressor to the Training Set\n",
        "clf3 = DecisionTreeRegressor()\n",
        "clf3.fit(x_train, y_train)\n",
        "\n",
        "# Predicting the Validation Set Results\n",
        "predicted3 = clf3.predict(x_val1)"
      ]
    },
    {
      "cell_type": "code",
      "execution_count": null,
      "metadata": {
        "id": "G3oaQVH6lkUz",
        "outputId": "8b2826f8-89c6-49b0-a2a1-81974b9df944"
      },
      "outputs": [
        {
          "name": "stdout",
          "output_type": "stream",
          "text": [
            "Mean absolute error = 2.24\n",
            "Mean squared error = 53.16\n",
            "Median absolute error = 1.0\n",
            "Explain variance score = -0.43\n",
            "R2 score = -0.45\n",
            "Accuracy=  -0.44636587721378373\n"
          ]
        }
      ],
      "source": [
        "# predicting all types of error and accuracy\n",
        "\n",
        "print(\"Mean absolute error =\", round(sm.mean_absolute_error(y_val1, predicted3), 2)) \n",
        "print(\"Mean squared error =\", round(sm.mean_squared_error(y_val1, predicted3), 2)) \n",
        "print(\"Median absolute error =\", round(sm.median_absolute_error(y_val1, predicted3), 2)) \n",
        "print(\"Explain variance score =\", round(sm.explained_variance_score(y_val1, predicted3), 2)) \n",
        "print(\"R2 score =\", round(sm.r2_score(y_val1, predicted3), 2))\n",
        "print(\"Accuracy= \", clf3.score(x_val1,y_val1))"
      ]
    },
    {
      "cell_type": "markdown",
      "metadata": {
        "id": "22L250njlkU0"
      },
      "source": [
        "### LinearRegression"
      ]
    },
    {
      "cell_type": "code",
      "execution_count": null,
      "metadata": {
        "id": "0IJDkOEtlkU0"
      },
      "outputs": [],
      "source": [
        "# Fitting Simple Linear Regression to the Training Set\n",
        "clf5 = LinearRegression()\n",
        "clf5.fit(x_train, y_train)\n",
        "\n",
        "# Predicting the Test Set Results\n",
        "predicted5 = clf.predict(x_val1)"
      ]
    },
    {
      "cell_type": "code",
      "execution_count": null,
      "metadata": {
        "id": "orrksCdilkU0",
        "outputId": "c7c3ec94-6101-41bd-939e-c366c482d2f9"
      },
      "outputs": [
        {
          "name": "stdout",
          "output_type": "stream",
          "text": [
            "Mean absolute error = 1.82\n",
            "Mean squared error = 18.13\n",
            "Median absolute error = 0.85\n",
            "Explain variance score = 0.51\n",
            "R2 score = 0.51\n",
            "Accuracy=  0.32265869429822236\n"
          ]
        }
      ],
      "source": [
        "# predicting all types of error and accuracy\n",
        "\n",
        "print(\"Mean absolute error =\", round(sm.mean_absolute_error(y_val1, predicted5), 2)) \n",
        "print(\"Mean squared error =\", round(sm.mean_squared_error(y_val1, predicted5), 2)) \n",
        "print(\"Median absolute error =\", round(sm.median_absolute_error(y_val1, predicted5), 2)) \n",
        "print(\"Explain variance score =\", round(sm.explained_variance_score(y_val1, predicted5), 2)) \n",
        "print(\"R2 score =\", round(sm.r2_score(y_val1, predicted5), 2))\n",
        "print(\"Accuracy= \", clf5.score(x_val1,y_val1))"
      ]
    },
    {
      "cell_type": "markdown",
      "metadata": {
        "id": "2wAF0daQlkU0"
      },
      "source": [
        "#### We'll continue with XgBoost as it gives us the best result from all the other models."
      ]
    },
    {
      "cell_type": "markdown",
      "metadata": {
        "id": "W3xKhG5flkU1"
      },
      "source": [
        "### HYPER-PARAMETER TUNING"
      ]
    },
    {
      "cell_type": "code",
      "execution_count": null,
      "metadata": {
        "id": "LPmMDI7llkU1"
      },
      "outputs": [],
      "source": [
        "# now we will hypertune our parameters for better and accurate results and avoiding overfitting\n",
        "\n",
        "# we will set some parameter\n",
        "params={\n",
        " \"learning_rate\"    : [0.05, 0.10, 0.15, 0.20, 0.25, 0.30 ] ,\n",
        " \"max_depth\"        : [ 3, 4, 5, 6, 8, 10, 12, 15],\n",
        " \"min_child_weight\" : [ 1, 3, 5, 7 ],\n",
        " \"gamma\"            : [ 0.0, 0.1, 0.2 , 0.3, 0.4 ],\n",
        " \"colsample_bytree\" : [ 0.3, 0.4, 0.5 , 0.7 ]\n",
        "    \n",
        "}"
      ]
    },
    {
      "cell_type": "markdown",
      "metadata": {
        "id": "PwNS3SaylkU1"
      },
      "source": [
        "In this we will fit and check for best parameters for our model using RandomizedSearchCV"
      ]
    },
    {
      "cell_type": "code",
      "execution_count": null,
      "metadata": {
        "id": "lbkeAqX5lkU1"
      },
      "outputs": [],
      "source": [
        "reg=xgb.XGBRegressor()\n",
        "random_search=RandomizedSearchCV(reg,param_distributions=params,n_iter=5,n_jobs=-1,cv=5,verbose=3)"
      ]
    },
    {
      "cell_type": "code",
      "execution_count": null,
      "metadata": {
        "id": "3_D2QRXIlkU1",
        "outputId": "146c1b1e-e41c-4498-8313-ecf906843c48"
      },
      "outputs": [
        {
          "name": "stdout",
          "output_type": "stream",
          "text": [
            "Fitting 5 folds for each of 5 candidates, totalling 25 fits\n"
          ]
        },
        {
          "name": "stderr",
          "output_type": "stream",
          "text": [
            "[Parallel(n_jobs=-1)]: Using backend LokyBackend with 8 concurrent workers.\n",
            "[Parallel(n_jobs=-1)]: Done  19 out of  25 | elapsed:   16.8s remaining:    5.2s\n",
            "[Parallel(n_jobs=-1)]: Done  25 out of  25 | elapsed:   18.7s finished\n"
          ]
        },
        {
          "data": {
            "text/plain": [
              "RandomizedSearchCV(cv=5,\n",
              "                   estimator=XGBRegressor(base_score=None, booster=None,\n",
              "                                          colsample_bylevel=None,\n",
              "                                          colsample_bynode=None,\n",
              "                                          colsample_bytree=None, gamma=None,\n",
              "                                          gpu_id=None, importance_type='gain',\n",
              "                                          interaction_constraints=None,\n",
              "                                          learning_rate=None,\n",
              "                                          max_delta_step=None, max_depth=None,\n",
              "                                          min_child_weight=None, missing=nan,\n",
              "                                          monotone_constraints=None,\n",
              "                                          n_estimators=100, n...\n",
              "                                          random_state=None, reg_alpha=None,\n",
              "                                          reg_lambda=None,\n",
              "                                          scale_pos_weight=None, subsample=None,\n",
              "                                          tree_method=None,\n",
              "                                          validate_parameters=None,\n",
              "                                          verbosity=None),\n",
              "                   n_iter=5, n_jobs=-1,\n",
              "                   param_distributions={'colsample_bytree': [0.3, 0.4, 0.5,\n",
              "                                                             0.7],\n",
              "                                        'gamma': [0.0, 0.1, 0.2, 0.3, 0.4],\n",
              "                                        'learning_rate': [0.05, 0.1, 0.15, 0.2,\n",
              "                                                          0.25, 0.3],\n",
              "                                        'max_depth': [3, 4, 5, 6, 8, 10, 12,\n",
              "                                                      15],\n",
              "                                        'min_child_weight': [1, 3, 5, 7]},\n",
              "                   verbose=3)"
            ]
          },
          "execution_count": 99,
          "metadata": {},
          "output_type": "execute_result"
        }
      ],
      "source": [
        "random_search.fit(x_train, y_train)"
      ]
    },
    {
      "cell_type": "markdown",
      "metadata": {
        "id": "MBoKqqMRlkU2"
      },
      "source": [
        "Checking for best parameters."
      ]
    },
    {
      "cell_type": "code",
      "execution_count": null,
      "metadata": {
        "id": "o-19SyEclkU2",
        "outputId": "dff3398c-b431-49a8-aeab-1e2ff3c2e8d9"
      },
      "outputs": [
        {
          "data": {
            "text/plain": [
              "XGBRegressor(base_score=0.5, booster='gbtree', colsample_bylevel=1,\n",
              "             colsample_bynode=1, colsample_bytree=0.7, gamma=0.1, gpu_id=-1,\n",
              "             importance_type='gain', interaction_constraints='',\n",
              "             learning_rate=0.05, max_delta_step=0, max_depth=5,\n",
              "             min_child_weight=7, missing=nan, monotone_constraints='()',\n",
              "             n_estimators=100, n_jobs=8, num_parallel_tree=1, random_state=0,\n",
              "             reg_alpha=0, reg_lambda=1, scale_pos_weight=1, subsample=1,\n",
              "             tree_method='exact', validate_parameters=1, verbosity=None)"
            ]
          },
          "execution_count": 100,
          "metadata": {},
          "output_type": "execute_result"
        }
      ],
      "source": [
        "random_search.best_estimator_"
      ]
    },
    {
      "cell_type": "markdown",
      "metadata": {
        "id": "Z687qoy7lkU2"
      },
      "source": [
        "Using these parameters and checking against val2"
      ]
    },
    {
      "cell_type": "code",
      "execution_count": null,
      "metadata": {
        "id": "f923ZMTvlkU2"
      },
      "outputs": [],
      "source": [
        "cl = xgb.XGBRegressor(base_score=0.5, booster='gbtree', colsample_bylevel=1,\n",
        "             colsample_bynode=1, colsample_bytree=0.7, gamma=0.2, gpu_id=-1,\n",
        "             importance_type='gain', interaction_constraints='',\n",
        "             learning_rate=0.2, max_delta_step=0, max_depth=8,\n",
        "             min_child_weight=3, monotone_constraints='()',\n",
        "             n_estimators=100, n_jobs=8, num_parallel_tree=1, random_state=0,\n",
        "             reg_alpha=0, reg_lambda=1, scale_pos_weight=1, subsample=1,\n",
        "             tree_method='exact', validate_parameters=1, verbosity=None)\n",
        "cl.fit(x_train, y_train)\n",
        "# Predicting the Test Set Results\n",
        "predicted = cl.predict(x_val2)"
      ]
    },
    {
      "cell_type": "code",
      "execution_count": null,
      "metadata": {
        "id": "DvkZb1nrlkU2",
        "outputId": "3f7702c5-0eda-478c-e01d-c802eb9026cf"
      },
      "outputs": [
        {
          "name": "stdout",
          "output_type": "stream",
          "text": [
            "Mean absolute error = 2.34\n",
            "Mean squared error = 30.33\n",
            "Median absolute error = 1.16\n",
            "Explain variance score = 0.49\n",
            "R2 score = 0.49\n",
            "Accuracy=  0.4925351710531721\n"
          ]
        }
      ],
      "source": [
        "# predicting all types of error and accuracy\n",
        "\n",
        "print(\"Mean absolute error =\", round(sm.mean_absolute_error(y_val2, predicted), 2)) \n",
        "print(\"Mean squared error =\", round(sm.mean_squared_error(y_val2, predicted), 2)) \n",
        "print(\"Median absolute error =\", round(sm.median_absolute_error(y_val2, predicted), 2)) \n",
        "print(\"Explain variance score =\", round(sm.explained_variance_score(y_val2, predicted), 2)) \n",
        "print(\"R2 score =\", round(sm.r2_score(y_val2, predicted), 2))\n",
        "print(\"Accuracy= \", cl.score(x_val2,y_val2))"
      ]
    },
    {
      "cell_type": "markdown",
      "metadata": {
        "id": "Xtd8eznvlkU3"
      },
      "source": [
        "# TEST"
      ]
    },
    {
      "cell_type": "code",
      "execution_count": null,
      "metadata": {
        "id": "Z0inUz76lkU3"
      },
      "outputs": [],
      "source": [
        "predicted1 = cl.predict(x_test)"
      ]
    },
    {
      "cell_type": "code",
      "execution_count": null,
      "metadata": {
        "id": "mAFOsno_lkU3",
        "outputId": "32e409fb-9416-4376-c577-0d8490ac8b8c"
      },
      "outputs": [
        {
          "data": {
            "text/plain": [
              "array([1, 7, 3, ..., 3, 9, 4])"
            ]
          },
          "execution_count": 115,
          "metadata": {},
          "output_type": "execute_result"
        }
      ],
      "source": [
        "predicted1=np.around(predicted1)\n",
        "predicted1.astype(int)"
      ]
    },
    {
      "cell_type": "code",
      "execution_count": null,
      "metadata": {
        "id": "LpdB60kYlkU3",
        "outputId": "72e09b1b-6f85-4441-a57c-f6b733a54751"
      },
      "outputs": [
        {
          "data": {
            "text/plain": [
              "4819"
            ]
          },
          "execution_count": 116,
          "metadata": {},
          "output_type": "execute_result"
        }
      ],
      "source": [
        "len(predicted1)"
      ]
    },
    {
      "cell_type": "markdown",
      "metadata": {
        "id": "mu9bvL1ulkU4"
      },
      "source": [
        "We got the delay on test set."
      ]
    },
    {
      "cell_type": "raw",
      "metadata": {
        "id": "YD6_8zeDlkU4"
      },
      "source": [
        "Creating a new dataframe"
      ]
    },
    {
      "cell_type": "code",
      "execution_count": null,
      "metadata": {
        "id": "QsJlex7ulkU4"
      },
      "outputs": [],
      "source": [
        "Col=pd.DataFrame()"
      ]
    },
    {
      "cell_type": "markdown",
      "metadata": {
        "id": "JkZV25j3lkU4"
      },
      "source": [
        "Appending the delay predicted column in it"
      ]
    },
    {
      "cell_type": "code",
      "execution_count": null,
      "metadata": {
        "id": "i7e4EamplkU4",
        "outputId": "14c07ead-2b71-4233-b546-033225631962"
      },
      "outputs": [
        {
          "data": {
            "text/html": [
              "<div>\n",
              "<style scoped>\n",
              "    .dataframe tbody tr th:only-of-type {\n",
              "        vertical-align: middle;\n",
              "    }\n",
              "\n",
              "    .dataframe tbody tr th {\n",
              "        vertical-align: top;\n",
              "    }\n",
              "\n",
              "    .dataframe thead th {\n",
              "        text-align: right;\n",
              "    }\n",
              "</style>\n",
              "<table border=\"1\" class=\"dataframe\">\n",
              "  <thead>\n",
              "    <tr style=\"text-align: right;\">\n",
              "      <th></th>\n",
              "      <th>Delay</th>\n",
              "    </tr>\n",
              "  </thead>\n",
              "  <tbody>\n",
              "    <tr>\n",
              "      <th>0</th>\n",
              "      <td>1 days</td>\n",
              "    </tr>\n",
              "    <tr>\n",
              "      <th>1</th>\n",
              "      <td>7 days</td>\n",
              "    </tr>\n",
              "    <tr>\n",
              "      <th>2</th>\n",
              "      <td>3 days</td>\n",
              "    </tr>\n",
              "    <tr>\n",
              "      <th>3</th>\n",
              "      <td>1 days</td>\n",
              "    </tr>\n",
              "    <tr>\n",
              "      <th>4</th>\n",
              "      <td>1 days</td>\n",
              "    </tr>\n",
              "    <tr>\n",
              "      <th>...</th>\n",
              "      <td>...</td>\n",
              "    </tr>\n",
              "    <tr>\n",
              "      <th>4814</th>\n",
              "      <td>1 days</td>\n",
              "    </tr>\n",
              "    <tr>\n",
              "      <th>4815</th>\n",
              "      <td>0 days</td>\n",
              "    </tr>\n",
              "    <tr>\n",
              "      <th>4816</th>\n",
              "      <td>3 days</td>\n",
              "    </tr>\n",
              "    <tr>\n",
              "      <th>4817</th>\n",
              "      <td>9 days</td>\n",
              "    </tr>\n",
              "    <tr>\n",
              "      <th>4818</th>\n",
              "      <td>4 days</td>\n",
              "    </tr>\n",
              "  </tbody>\n",
              "</table>\n",
              "<p>4819 rows × 1 columns</p>\n",
              "</div>"
            ],
            "text/plain": [
              "      Delay\n",
              "0    1 days\n",
              "1    7 days\n",
              "2    3 days\n",
              "3    1 days\n",
              "4    1 days\n",
              "...     ...\n",
              "4814 1 days\n",
              "4815 0 days\n",
              "4816 3 days\n",
              "4817 9 days\n",
              "4818 4 days\n",
              "\n",
              "[4819 rows x 1 columns]"
            ]
          },
          "execution_count": 118,
          "metadata": {},
          "output_type": "execute_result"
        }
      ],
      "source": [
        "Delay=[]\n",
        "for x in predicted1:\n",
        "    Delay.append(pd.Timedelta(days=x))\n",
        "Col['Delay'] = Delay\n",
        "Col"
      ]
    },
    {
      "cell_type": "markdown",
      "metadata": {
        "id": "MwY8_bmQlkU4"
      },
      "source": [
        "Predicting the clear date"
      ]
    },
    {
      "cell_type": "code",
      "execution_count": null,
      "metadata": {
        "id": "43FemBM_lkU5",
        "outputId": "f0583627-6f11-4f73-f5c7-450e4ec7dffb"
      },
      "outputs": [
        {
          "data": {
            "text/html": [
              "<div>\n",
              "<style scoped>\n",
              "    .dataframe tbody tr th:only-of-type {\n",
              "        vertical-align: middle;\n",
              "    }\n",
              "\n",
              "    .dataframe tbody tr th {\n",
              "        vertical-align: top;\n",
              "    }\n",
              "\n",
              "    .dataframe thead th {\n",
              "        text-align: right;\n",
              "    }\n",
              "</style>\n",
              "<table border=\"1\" class=\"dataframe\">\n",
              "  <thead>\n",
              "    <tr style=\"text-align: right;\">\n",
              "      <th></th>\n",
              "      <th>Delay</th>\n",
              "      <th>clear_date</th>\n",
              "    </tr>\n",
              "  </thead>\n",
              "  <tbody>\n",
              "    <tr>\n",
              "      <th>0</th>\n",
              "      <td>1 days</td>\n",
              "      <td>2020-03-14</td>\n",
              "    </tr>\n",
              "    <tr>\n",
              "      <th>1</th>\n",
              "      <td>7 days</td>\n",
              "      <td>2020-03-17</td>\n",
              "    </tr>\n",
              "    <tr>\n",
              "      <th>2</th>\n",
              "      <td>3 days</td>\n",
              "      <td>2020-03-16</td>\n",
              "    </tr>\n",
              "    <tr>\n",
              "      <th>3</th>\n",
              "      <td>1 days</td>\n",
              "      <td>2020-03-14</td>\n",
              "    </tr>\n",
              "    <tr>\n",
              "      <th>4</th>\n",
              "      <td>1 days</td>\n",
              "      <td>2020-03-14</td>\n",
              "    </tr>\n",
              "    <tr>\n",
              "      <th>...</th>\n",
              "      <td>...</td>\n",
              "      <td>...</td>\n",
              "    </tr>\n",
              "    <tr>\n",
              "      <th>4814</th>\n",
              "      <td>1 days</td>\n",
              "      <td>2020-05-25</td>\n",
              "    </tr>\n",
              "    <tr>\n",
              "      <th>4815</th>\n",
              "      <td>0 days</td>\n",
              "      <td>2020-05-27</td>\n",
              "    </tr>\n",
              "    <tr>\n",
              "      <th>4816</th>\n",
              "      <td>3 days</td>\n",
              "      <td>2020-05-31</td>\n",
              "    </tr>\n",
              "    <tr>\n",
              "      <th>4817</th>\n",
              "      <td>9 days</td>\n",
              "      <td>2020-06-09</td>\n",
              "    </tr>\n",
              "    <tr>\n",
              "      <th>4818</th>\n",
              "      <td>4 days</td>\n",
              "      <td>2020-06-07</td>\n",
              "    </tr>\n",
              "  </tbody>\n",
              "</table>\n",
              "<p>4819 rows × 2 columns</p>\n",
              "</div>"
            ],
            "text/plain": [
              "      Delay clear_date\n",
              "0    1 days 2020-03-14\n",
              "1    7 days 2020-03-17\n",
              "2    3 days 2020-03-16\n",
              "3    1 days 2020-03-14\n",
              "4    1 days 2020-03-14\n",
              "...     ...        ...\n",
              "4814 1 days 2020-05-25\n",
              "4815 0 days 2020-05-27\n",
              "4816 3 days 2020-05-31\n",
              "4817 9 days 2020-06-09\n",
              "4818 4 days 2020-06-07\n",
              "\n",
              "[4819 rows x 2 columns]"
            ]
          },
          "execution_count": 119,
          "metadata": {},
          "output_type": "execute_result"
        }
      ],
      "source": [
        "Col['clear_date'] = ts['due_in_date']+Col['Delay']\n",
        "Col"
      ]
    },
    {
      "cell_type": "markdown",
      "metadata": {
        "id": "RGcogBvhlkU5"
      },
      "source": [
        "# Creating the Aging Bucket"
      ]
    },
    {
      "cell_type": "code",
      "execution_count": null,
      "metadata": {
        "id": "EcnkXyWllkU5",
        "outputId": "aa2a4c2b-827f-4321-ad5c-0030f6d6f8c6"
      },
      "outputs": [
        {
          "data": {
            "text/html": [
              "<div>\n",
              "<style scoped>\n",
              "    .dataframe tbody tr th:only-of-type {\n",
              "        vertical-align: middle;\n",
              "    }\n",
              "\n",
              "    .dataframe tbody tr th {\n",
              "        vertical-align: top;\n",
              "    }\n",
              "\n",
              "    .dataframe thead th {\n",
              "        text-align: right;\n",
              "    }\n",
              "</style>\n",
              "<table border=\"1\" class=\"dataframe\">\n",
              "  <thead>\n",
              "    <tr style=\"text-align: right;\">\n",
              "      <th></th>\n",
              "      <th>clear_date</th>\n",
              "      <th>Aging Bucket</th>\n",
              "    </tr>\n",
              "  </thead>\n",
              "  <tbody>\n",
              "    <tr>\n",
              "      <th>0</th>\n",
              "      <td>2020-03-14</td>\n",
              "      <td>0-15days</td>\n",
              "    </tr>\n",
              "    <tr>\n",
              "      <th>1</th>\n",
              "      <td>2020-03-17</td>\n",
              "      <td>0-15days</td>\n",
              "    </tr>\n",
              "    <tr>\n",
              "      <th>2</th>\n",
              "      <td>2020-03-16</td>\n",
              "      <td>0-15days</td>\n",
              "    </tr>\n",
              "    <tr>\n",
              "      <th>3</th>\n",
              "      <td>2020-03-14</td>\n",
              "      <td>0-15days</td>\n",
              "    </tr>\n",
              "    <tr>\n",
              "      <th>4</th>\n",
              "      <td>2020-03-14</td>\n",
              "      <td>0-15days</td>\n",
              "    </tr>\n",
              "    <tr>\n",
              "      <th>...</th>\n",
              "      <td>...</td>\n",
              "      <td>...</td>\n",
              "    </tr>\n",
              "    <tr>\n",
              "      <th>4814</th>\n",
              "      <td>2020-05-25</td>\n",
              "      <td>0-15days</td>\n",
              "    </tr>\n",
              "    <tr>\n",
              "      <th>4815</th>\n",
              "      <td>2020-05-27</td>\n",
              "      <td>0-15days</td>\n",
              "    </tr>\n",
              "    <tr>\n",
              "      <th>4816</th>\n",
              "      <td>2020-05-31</td>\n",
              "      <td>0-15days</td>\n",
              "    </tr>\n",
              "    <tr>\n",
              "      <th>4817</th>\n",
              "      <td>2020-06-09</td>\n",
              "      <td>0-15days</td>\n",
              "    </tr>\n",
              "    <tr>\n",
              "      <th>4818</th>\n",
              "      <td>2020-06-07</td>\n",
              "      <td>0-15days</td>\n",
              "    </tr>\n",
              "  </tbody>\n",
              "</table>\n",
              "<p>4819 rows × 2 columns</p>\n",
              "</div>"
            ],
            "text/plain": [
              "     clear_date Aging Bucket\n",
              "0    2020-03-14     0-15days\n",
              "1    2020-03-17     0-15days\n",
              "2    2020-03-16     0-15days\n",
              "3    2020-03-14     0-15days\n",
              "4    2020-03-14     0-15days\n",
              "...         ...          ...\n",
              "4814 2020-05-25     0-15days\n",
              "4815 2020-05-27     0-15days\n",
              "4816 2020-05-31     0-15days\n",
              "4817 2020-06-09     0-15days\n",
              "4818 2020-06-07     0-15days\n",
              "\n",
              "[4819 rows x 2 columns]"
            ]
          },
          "execution_count": 120,
          "metadata": {},
          "output_type": "execute_result"
        }
      ],
      "source": [
        "aging_bucket = []\n",
        "for x in predicted1:\n",
        "    if x<=15:\n",
        "        aging_bucket.append(\"0-15days\")\n",
        "    elif x<=30:\n",
        "        aging_bucket.append(\"16-30days\")\n",
        "    elif x<=45:\n",
        "        aging_bucket.append(\"31-45days\")\n",
        "    elif x<=60:\n",
        "        aging_bucket.append(\"46-60days\")\n",
        "    else:\n",
        "        aging_bucket.append(\"Greater than 60 days\")\n",
        "Col['Aging Bucket']= aging_bucket\n",
        "Col.drop(['Delay'],axis=1,inplace=True)\n",
        "Col"
      ]
    }
  ],
  "metadata": {
    "kernelspec": {
      "display_name": "Python 3 (ipykernel)",
      "language": "python",
      "name": "python3"
    },
    "language_info": {
      "codemirror_mode": {
        "name": "ipython",
        "version": 3
      },
      "file_extension": ".py",
      "mimetype": "text/x-python",
      "name": "python",
      "nbconvert_exporter": "python",
      "pygments_lexer": "ipython3",
      "version": "3.9.7"
    },
    "colab": {
      "provenance": []
    }
  },
  "nbformat": 4,
  "nbformat_minor": 0
}